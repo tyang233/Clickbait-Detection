{
 "cells": [
  {
   "cell_type": "code",
   "execution_count": 1,
   "metadata": {},
   "outputs": [],
   "source": [
    "import pandas as pd\n",
    "import numpy as np\n",
    "import json\n",
    "import matplotlib.pyplot as plt\n",
    "import re\n",
    "import sys\n",
    "from scipy import sparse\n",
    "import nltk\n",
    "from sklearn.feature_extraction.text import CountVectorizer\n",
    "from sklearn.feature_extraction.text import TfidfVectorizer\n",
    "from sklearn.model_selection import train_test_split\n",
    "from sklearn.linear_model import LogisticRegression\n",
    "from sklearn.model_selection import GridSearchCV\n",
    "from sklearn.model_selection import cross_validate\n",
    "from sklearn.svm import SVC\n",
    "from sklearn.ensemble import GradientBoostingClassifier\n",
    "from sklearn.ensemble import RandomForestClassifier\n",
    "from sklearn.naive_bayes import BernoulliNB\n",
    "from scipy.sparse import coo_matrix, hstack\n",
    "from sklearn.metrics import roc_auc_score\n",
    "from sklearn.metrics import confusion_matrix\n",
    "from sklearn.metrics import recall_score\n",
    "from sklearn.metrics import precision_score\n",
    "from sklearn.metrics import f1_score\n",
    "from xgboost import XGBClassifier\n",
    "from sklearn.metrics import classification_report\n",
    "import pickle"
   ]
  },
  {
   "cell_type": "code",
   "execution_count": 2,
   "metadata": {},
   "outputs": [],
   "source": [
    "e_features = pd.read_csv('extracted_features.csv', index_col=0)\n",
    "df = pd.read_csv('prepped_data.csv', index_col=0)"
   ]
  },
  {
   "cell_type": "code",
   "execution_count": 3,
   "metadata": {},
   "outputs": [
    {
     "data": {
      "text/plain": [
       "<matplotlib.axes._subplots.AxesSubplot at 0x1a177a75c0>"
      ]
     },
     "execution_count": 3,
     "metadata": {},
     "output_type": "execute_result"
    },
    {
     "data": {
      "image/png": "[encoded data removed]",
      "text/plain": [
       "<Figure size 432x288 with 1 Axes>"
      ]
     },
     "metadata": {},
     "output_type": "display_data"
    }
   ],
   "source": [
    "# distribution of humna judgement\n",
    "df['truthJudgments'].apply(lambda x: np.mean(eval(x))).hist()"
   ]
  },
  {
   "cell_type": "code",
   "execution_count": 4,
   "metadata": {},
   "outputs": [
    {
     "data": {
      "image/png": "[encoded data removed]",
      "text/plain": [
       "<Figure size 432x288 with 1 Axes>"
      ]
     },
     "metadata": {},
     "output_type": "display_data"
    }
   ],
   "source": [
    "# make bins \n",
    "# 0-0.33, not clickbaits\n",
    "# 0.33-0.66, could be clickbaits\n",
    "# 0.66+ definite clickbaits\n",
    "df['new_label']  = pd.cut(df['truthJudgments'].apply(lambda x: np.mean(eval(x))), [-1,0.33,0.66,1.01],labels =[0,1,2])\n",
    "df['new_label'].hist()\n",
    "plt.title('distribution of bins')\n",
    "plt.show()"
   ]
  },
  {
   "cell_type": "code",
   "execution_count": 5,
   "metadata": {},
   "outputs": [
    {
     "name": "stdout",
     "output_type": "stream",
     "text": [
      "non clickbait:  0.5549186201248848\n",
      "maybe clickbait:  0.2966526768348859\n",
      "definite clickbait:  0.1484287030402293\n"
     ]
    }
   ],
   "source": [
    "# proportion of each class\n",
    "print('non clickbait: ', sum(df['new_label']==0)/len(df['new_label']))\n",
    "print('maybe clickbait: ', sum(df['new_label']==1)/len(df['new_label']))\n",
    "print('definite clickbait: ', sum(df['new_label']==2)/len(df['new_label']))"
   ]
  },
  {
   "cell_type": "code",
   "execution_count": 6,
   "metadata": {},
   "outputs": [],
   "source": [
    "X = df[['postText', 'targetTitle','targetDescription', 'targetKeywords']].join(e_features)\n",
    "X['postText'] = X['postText'].fillna('')\n",
    "X['targetDescription'] = X['targetDescription'].fillna('')\n",
    "X['targetKeywords'] = X['targetKeywords'].fillna('')\n",
    "y = df['new_label']\n",
    "X_train, X_test, y_train, y_test = train_test_split(X, y, test_size = 0.2, random_state = 100)"
   ]
  },
  {
   "cell_type": "code",
   "execution_count": 7,
   "metadata": {},
   "outputs": [],
   "source": [
    "# vectorize training text fields\n",
    "tw_tokenizer = nltk.tokenize.TweetTokenizer()\n",
    "tt_tokenizer = nltk.tokenize.TweetTokenizer()\n",
    "td_tokenizer = nltk.tokenize.TweetTokenizer()\n",
    "tk_tokenizer = nltk.tokenize.TweetTokenizer()\n",
    "tw_vectorizer = CountVectorizer(lowercase=False,tokenizer=tw_tokenizer.tokenize, ngram_range= (1,5),analyzer= 'word')\n",
    "tt_vectorizer = CountVectorizer(lowercase=False,tokenizer=tt_tokenizer.tokenize, ngram_range= (1,5),analyzer= 'word')\n",
    "td_vectorizer = CountVectorizer(lowercase=False, tokenizer=td_tokenizer.tokenize, ngram_range = (1,4), analyzer = 'word')\n",
    "tk_vectorizer = CountVectorizer(lowercase=False, tokenizer=tk_tokenizer.tokenize, ngram_range = (1,4), analyzer = 'word')\n",
    "X_train_tdvec_bow = td_vectorizer.fit_transform(X_train['targetDescription'])\n",
    "X_train_twvec_bow = tw_vectorizer.fit_transform(X_train['postText'])\n",
    "X_train_ttvec_bow = tt_vectorizer.fit_transform(X_train['targetTitle'])\n",
    "X_train_tkvec_bow = tk_vectorizer.fit_transform(X_train['targetKeywords'])\n",
    "\n",
    "# vectorize testing text fields\n",
    "X_test_twvec_bow = tw_vectorizer.transform(X_test['postText'])\n",
    "X_test_tdvec_bow = td_vectorizer.transform(X_test['targetDescription'])\n",
    "X_test_ttvec_bow = tt_vectorizer.transform(X_test['targetTitle'])\n",
    "X_test_tkvec_bow = tk_vectorizer.transform(X_test['targetKeywords'])"
   ]
  },
  {
   "cell_type": "code",
   "execution_count": 8,
   "metadata": {},
   "outputs": [],
   "source": [
    "# models\n",
    "lr = LogisticRegression(solver='lbfgs',multi_class='multinomial',max_iter=1000)\n",
    "xgb = XGBClassifier(n_estimators=3000,gamma = 2, max_depth=1,n_jobs=8)\n",
    "rf = RandomForestClassifier()\n",
    "models =[ lr,xgb, rf]\n",
    "names = ['Logistic Regression','XGB', 'Random Forest']\n",
    "results ={}"
   ]
  },
  {
   "cell_type": "code",
   "execution_count": 9,
   "metadata": {},
   "outputs": [
    {
     "name": "stdout",
     "output_type": "stream",
     "text": [
      "Logistic Regression\n"
     ]
    },
    {
     "name": "stderr",
     "output_type": "stream",
     "text": [
      "/Users/tianyuyang/anaconda3/lib/python3.6/site-packages/sklearn/linear_model/logistic.py:757: ConvergenceWarning: lbfgs failed to converge. Increase the number of iterations.\n",
      "  \"of iterations.\", ConvergenceWarning)\n"
     ]
    },
    {
     "name": "stdout",
     "output_type": "stream",
     "text": [
      "XGB\n",
      "Random Forest\n"
     ]
    },
    {
     "name": "stderr",
     "output_type": "stream",
     "text": [
      "/Users/tianyuyang/anaconda3/lib/python3.6/site-packages/sklearn/ensemble/forest.py:248: FutureWarning: The default value of n_estimators will change from 10 in version 0.20 to 100 in 0.22.\n",
      "  \"10 in version 0.20 to 100 in 0.22.\", FutureWarning)\n"
     ]
    }
   ],
   "source": [
    "# using comnbined features\n",
    "for clf, name in zip(models,names):\n",
    "    print(name)\n",
    "    sub_X_train = sparse.hstack([X_train_tdvec_bow, X_train_ttvec_bow, X_train_twvec_bow,X_train_tkvec_bow ,X_train.iloc[:,4:].values])\n",
    "    sub_X_test = sparse.hstack([X_test_tdvec_bow, X_test_ttvec_bow, X_test_twvec_bow,X_test_tkvec_bow,X_test.iloc[:,4:].values])\n",
    "    clf.fit(sub_X_train,y_train)\n",
    "    pred = clf.predict(sub_X_test)\n",
    "\n",
    "    results[name] = classification_report(y_test, pred, target_names=['Non Clickbaits', 'Maybe Clickbaits', 'Definite Clickbaits'], output_dict = True)"
   ]
  },
  {
   "cell_type": "code",
   "execution_count": 10,
   "metadata": {},
   "outputs": [],
   "source": [
    "with open('multiclass_results', 'wb') as f:\n",
    "    pickle.dump(results, f)"
   ]
  }
 ],
 "metadata": {
  "kernelspec": {
   "display_name": "Python 3",
   "language": "python",
   "name": "python3"
  },
  "language_info": {
   "codemirror_mode": {
    "name": "ipython",
    "version": 3
   },
   "file_extension": ".py",
   "mimetype": "text/x-python",
   "name": "python",
   "nbconvert_exporter": "python",
   "pygments_lexer": "ipython3",
   "version": "3.6.5"
  }
 },
 "nbformat": 4,
 "nbformat_minor": 2
}
