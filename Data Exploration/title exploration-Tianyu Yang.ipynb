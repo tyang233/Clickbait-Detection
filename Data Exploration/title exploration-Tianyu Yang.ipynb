{
 "cells": [
  {
   "cell_type": "code",
   "execution_count": 1,
   "metadata": {},
   "outputs": [
    {
     "name": "stderr",
     "output_type": "stream",
     "text": [
      "/Users/tianyuyang/anaconda3/lib/python3.6/site-packages/nltk/twitter/__init__.py:20: UserWarning: The twython library has not been installed. Some functionality from the twitter package will not be available.\n",
      "  warnings.warn(\"The twython library has not been installed. \"\n"
     ]
    }
   ],
   "source": [
    "import json\n",
    "import sys\n",
    "import pandas as pd\n",
    "import matplotlib.pyplot as plt\n",
    "import nltk\n",
    "import re\n",
    "from textblob import TextBlob\n",
    "from nltk.sentiment.vader import SentimentIntensityAnalyzer"
   ]
  },
  {
   "cell_type": "code",
   "execution_count": 2,
   "metadata": {},
   "outputs": [],
   "source": [
    "with open('instances.jsonl','r') as f:\n",
    "    instances = []\n",
    "    for line in f:\n",
    "        \n",
    "        instances.append(json.loads(line))\n",
    "with open('truth.jsonl', 'r') as f:\n",
    "    labels = []\n",
    "    for line in f:\n",
    "        labels.append(json.loads(line))"
   ]
  },
  {
   "cell_type": "code",
   "execution_count": 3,
   "metadata": {},
   "outputs": [
    {
     "name": "stderr",
     "output_type": "stream",
     "text": [
      "/Users/tianyuyang/anaconda3/lib/python3.6/site-packages/ipykernel_launcher.py:10: SettingWithCopyWarning: \n",
      "A value is trying to be set on a copy of a slice from a DataFrame\n",
      "\n",
      "See the caveats in the documentation: http://pandas.pydata.org/pandas-docs/stable/indexing.html#indexing-view-versus-copy\n",
      "  # Remove the CWD from sys.path while we load stuff.\n"
     ]
    }
   ],
   "source": [
    "# summary of the data\n",
    "# including number of observation\n",
    "# number of obs in each category\n",
    "# number of missing value in each variable\n",
    "df = pd.DataFrame(instances)\n",
    "df = df.set_index('id')\n",
    "labels = pd.DataFrame(labels)\n",
    "labels = labels.set_index('id')\n",
    "df['label']  = 0\n",
    "df['label'][labels['truthClass'] == 'clickbait'] = 1\n",
    "df['truthJudgments'] = labels.truthJudgments"
   ]
  },
  {
   "cell_type": "code",
   "execution_count": 4,
   "metadata": {},
   "outputs": [],
   "source": [
    "df = df.reset_index().drop(['id','postMedia'],axis = 1)\n",
    "df.postTimestamp = pd.to_datetime(df.postTimestamp)"
   ]
  },
  {
   "cell_type": "code",
   "execution_count": 5,
   "metadata": {},
   "outputs": [
    {
     "name": "stdout",
     "output_type": "stream",
     "text": [
      "4761\n"
     ]
    },
    {
     "data": {
      "text/plain": [
       "(19538, 9)"
      ]
     },
     "execution_count": 5,
     "metadata": {},
     "output_type": "execute_result"
    }
   ],
   "source": [
    "print(df['label'].sum())\n",
    "df.shape"
   ]
  },
  {
   "cell_type": "code",
   "execution_count": 6,
   "metadata": {},
   "outputs": [
    {
     "name": "stdout",
     "output_type": "stream",
     "text": [
      "postText\n",
      "0\n",
      "postTimestamp\n",
      "0\n",
      "targetCaptions\n",
      "2320\n",
      "targetDescription\n",
      "0\n",
      "targetKeywords\n",
      "0\n",
      "targetParagraphs\n",
      "0\n",
      "targetTitle\n",
      "0\n",
      "label\n",
      "0\n",
      "truthJudgments\n",
      "0\n"
     ]
    },
    {
     "data": {
      "text/plain": [
       "postText             0\n",
       "postTimestamp        0\n",
       "targetCaptions       0\n",
       "targetDescription    0\n",
       "targetKeywords       0\n",
       "targetParagraphs     0\n",
       "targetTitle          0\n",
       "label                0\n",
       "truthJudgments       0\n",
       "dtype: int64"
      ]
     },
     "execution_count": 6,
     "metadata": {},
     "output_type": "execute_result"
    }
   ],
   "source": [
    "# check missing values \n",
    "def check_empty(df):\n",
    "    for c in df.columns:\n",
    "        print(c)\n",
    "        count = 0\n",
    "        for i in df[c]:\n",
    "            if i ==[]:\n",
    "                count+= 1\n",
    "        \n",
    "        print(count)\n",
    "check_empty(df)\n",
    "df.isna().sum()"
   ]
  },
  {
   "cell_type": "code",
   "execution_count": 7,
   "metadata": {},
   "outputs": [
    {
     "data": {
      "image/png": "[encoded data removed]",
      "text/plain": [
       "<Figure size 432x288 with 1 Axes>"
      ]
     },
     "metadata": {},
     "output_type": "display_data"
    },
    {
     "name": "stdout",
     "output_type": "stream",
     "text": [
      "average sentence length(words) for CB:  11.564377231674017\n",
      "average sentence length(words) for nonCB:  11.158624890031806\n"
     ]
    },
    {
     "data": {
      "image/png": "[encoded data removed]",
      "text/plain": [
       "<Figure size 432x288 with 1 Axes>"
      ]
     },
     "metadata": {},
     "output_type": "display_data"
    }
   ],
   "source": [
    "# explore titles of the observations\n",
    "## length of sentence\n",
    "## length of words\n",
    "## content words vs function words\n",
    "## stops words\n",
    "## hyperbolic word\n",
    "## punctuation patterns\n",
    "## common phrases\n",
    "## grammatical informations\n",
    "## check irregular cases\n",
    "\n",
    "# average length of sentence\n",
    "## in terms of word\n",
    "def ana_length_w(df):\n",
    "    \n",
    "    cblens = df['targetTitle'][df['label']==1].apply(lambda x: len([i for i in nltk.word_tokenize(x) if i.isalnum()]))\n",
    "    noncblens = df['targetTitle'][df['label']==0].apply(lambda x:len([ i for i in nltk.word_tokenize(x) if i.isalnum()]))\n",
    "    \n",
    "    plt.figure()\n",
    "    cblens.hist()\n",
    "    plt.title('distribution of sentence length(words) for CB')\n",
    "    plt.yscale('log')\n",
    "    plt.show()\n",
    "    \n",
    "    plt.figure()\n",
    "    noncblens.hist()\n",
    "    plt.yscale('log')\n",
    "    plt.title('distribution of sentence length(words) for nonCB')\n",
    "    \n",
    "    print('average sentence length(words) for CB: ', cblens.mean())\n",
    "    \n",
    "    print('average sentence length(words) for nonCB: ', noncblens.mean())\n",
    "    \n",
    "ana_length_w(df)"
   ]
  },
  {
   "cell_type": "code",
   "execution_count": 8,
   "metadata": {},
   "outputs": [
    {
     "data": {
      "image/png": "[encoded data removed]",
      "text/plain": [
       "<Figure size 432x288 with 1 Axes>"
      ]
     },
     "metadata": {},
     "output_type": "display_data"
    },
    {
     "name": "stdout",
     "output_type": "stream",
     "text": [
      "average sentence length(chars) for CB:  69.42659105229994\n",
      "average sentence length(chars) for nonCB:  70.98193137984705\n"
     ]
    },
    {
     "data": {
      "image/png": "[encoded data removed]",
      "text/plain": [
       "<Figure size 432x288 with 1 Axes>"
      ]
     },
     "metadata": {},
     "output_type": "display_data"
    }
   ],
   "source": [
    "## in terms of character\n",
    "def average_length_c(df):\n",
    "    cblens = df['targetTitle'][df['label']==1].apply(len)\n",
    "    noncblens =  df['targetTitle'][df['label']==0].apply(len)\n",
    "    \n",
    "    plt.figure()\n",
    "    cblens.hist()\n",
    "    plt.title('distribution of sentence length(chars) for CB')\n",
    "    plt.yscale('log')\n",
    "    plt.show()\n",
    "    \n",
    "    plt.figure()\n",
    "    noncblens.hist()\n",
    "    plt.yscale('log')\n",
    "    plt.title('distribution of sentence length(chars) for nonCB')\n",
    "    \n",
    "    print('average sentence length(chars) for CB: ',cblens.mean())\n",
    "    print('average sentence length(chars) for nonCB: ', noncblens.mean())\n",
    "average_length_c(df)"
   ]
  },
  {
   "cell_type": "code",
   "execution_count": 9,
   "metadata": {},
   "outputs": [
    {
     "name": "stdout",
     "output_type": "stream",
     "text": [
      "Average # of stop words in CB 2.2299936988027724\n",
      "Average # of stop words in non CB 2.191513839074237\n"
     ]
    },
    {
     "name": "stderr",
     "output_type": "stream",
     "text": [
      "/Users/tianyuyang/anaconda3/lib/python3.6/site-packages/matplotlib/axes/_axes.py:6462: UserWarning: The 'normed' kwarg is deprecated, and has been replaced by the 'density' kwarg.\n",
      "  warnings.warn(\"The 'normed' kwarg is deprecated, and has been \"\n"
     ]
    },
    {
     "data": {
      "image/png": "[encoded data removed]",
      "text/plain": [
       "<Figure size 432x288 with 1 Axes>"
      ]
     },
     "metadata": {},
     "output_type": "display_data"
    },
    {
     "data": {
      "image/png": "[encoded data removed]",
      "text/plain": [
       "<Figure size 432x288 with 1 Axes>"
      ]
     },
     "metadata": {},
     "output_type": "display_data"
    }
   ],
   "source": [
    "## distributions of stop words\n",
    "def ana_stopwords(df):\n",
    "    sws = set(nltk.corpus.stopwords.words('english'))\n",
    "    def count_sw(string):\n",
    "        c = 0\n",
    "        for i in nltk.word_tokenize(string):\n",
    "            if i in sws:\n",
    "                c+=1\n",
    "        return c\n",
    "    swcb = df['targetTitle'][df['label'] ==1].apply(count_sw)\n",
    "    swnoncb = df['targetTitle'][df['label']==0].apply(count_sw)\n",
    "    \n",
    "    plt.figure()\n",
    "    swcb.hist(normed = True)\n",
    "    plt.title('# stopwords in CB')\n",
    "    \n",
    "    plt.figure()\n",
    "    swnoncb.hist(normed = True)\n",
    "    plt.title('# stopwords in nonCB')\n",
    "    \n",
    "    print('Average # of stop words in CB', swcb.mean())\n",
    "    print('Average # of stop words in non CB', swnoncb.mean())\n",
    "   \n",
    "\n",
    "ana_stopwords(df)"
   ]
  },
  {
   "cell_type": "code",
   "execution_count": 10,
   "metadata": {},
   "outputs": [
    {
     "name": "stdout",
     "output_type": "stream",
     "text": [
      "Average # of numbers in CB 0.2566687670657425\n",
      "Average # of numbers in non CB 0.149759761791974\n"
     ]
    },
    {
     "name": "stderr",
     "output_type": "stream",
     "text": [
      "/Users/tianyuyang/anaconda3/lib/python3.6/site-packages/matplotlib/axes/_axes.py:6462: UserWarning: The 'normed' kwarg is deprecated, and has been replaced by the 'density' kwarg.\n",
      "  warnings.warn(\"The 'normed' kwarg is deprecated, and has been \"\n"
     ]
    },
    {
     "data": {
      "image/png": "[encoded data removed]",
      "text/plain": [
       "<Figure size 432x288 with 1 Axes>"
      ]
     },
     "metadata": {},
     "output_type": "display_data"
    },
    {
     "data": {
      "image/png": "[encoded data removed]",
      "text/plain": [
       "<Figure size 432x288 with 1 Axes>"
      ]
     },
     "metadata": {},
     "output_type": "display_data"
    }
   ],
   "source": [
    "# distribution of non alphabetical characters\n",
    "## numbers\n",
    "## using length 4 to represent years\n",
    "def ana_nums(df):\n",
    "    def count_nums(string):\n",
    "        c = 0\n",
    "        years= {'2010', '2011','2012','2013','2014','2015','2016','2017','2018'}\n",
    "        numbers = {'one', 'two', 'three', 'four', 'five', 'six', 'nine','ten'}\n",
    "        for i in nltk.word_tokenize(string):\n",
    "            if (i.isdigit() or i in numbers) and i not in years:\n",
    "                c+=1\n",
    "        return c  \n",
    "    cb = df['targetTitle'][df['label'] ==1].apply(count_nums)\n",
    "    noncb = df['targetTitle'][df['label']==0].apply(count_nums)\n",
    "    \n",
    "    plt.figure()\n",
    "    cb[cb<=3].hist(normed = True)\n",
    "    plt.title('# nums in CB')\n",
    "    \n",
    "    \n",
    "    plt.figure()\n",
    "    noncb[noncb<=3].hist(normed = True)\n",
    "    plt.title('# nums in nonCB')\n",
    "    \n",
    "    print('Average # of numbers in CB', cb.mean())\n",
    "    print('Average # of numbers in non CB', noncb.mean())\n",
    "\n",
    "ana_nums(df)"
   ]
  },
  {
   "cell_type": "code",
   "execution_count": 11,
   "metadata": {},
   "outputs": [
    {
     "name": "stdout",
     "output_type": "stream",
     "text": [
      "proportion of titles that start with number\n",
      "For CB:  0.1419869775257299\n",
      "Non CB:  0.02936996684036002\n"
     ]
    }
   ],
   "source": [
    "# starting with number\n",
    "def ana_start(df):\n",
    "    sws = set(nltk.corpus.stopwords.words('english'))\n",
    "    numbers = {'one', 'two', 'three', 'four', 'five', 'six', 'nine','ten'}\n",
    "    def swithnum(string):\n",
    "        # the first nonstopword\n",
    "        tokens = nltk.word_tokenize(string)\n",
    "        \n",
    "        for i in tokens:\n",
    "            if i.lower() not in sws:\n",
    "                fw = i\n",
    "                break\n",
    "        if fw.isnumeric() or fw.lower() in numbers:\n",
    "            return 1\n",
    "        else:        return 0\n",
    "    cb = df['targetTitle'][df['label'] ==1].apply(swithnum)\n",
    "    noncb = df['targetTitle'][df['label']==0].apply(swithnum)\n",
    "    print('proportion of titles that start with number')\n",
    "    print('For CB: ', cb.mean())\n",
    "    print('Non CB: ', noncb.mean())\n",
    "ana_start(df)"
   ]
  },
  {
   "cell_type": "code",
   "execution_count": 12,
   "metadata": {
    "scrolled": true
   },
   "outputs": [
    {
     "name": "stdout",
     "output_type": "stream",
     "text": [
      "Children with elevated lead levels aren't being tested or diagnosed, study says\n",
      "label 0\n",
      "votes [0.0, 1.0, 0.0, 0.6666666666, 0.3333333333]\n",
      "output 0\n",
      "-------------------------------------------\n",
      "\n",
      "Temptations Bass Player Kerry Turman Dies After Performance\n",
      "label 0\n",
      "votes [0.6666666666, 0.0, 0.0, 0.0, 0.0]\n",
      "output 0\n",
      "-------------------------------------------\n",
      "\n",
      "United Airlines Faces Questions Over Death of Giant Rabbit \n",
      "label 0\n",
      "votes [0.0, 1.0, 0.0, 0.0, 0.3333333333]\n",
      "output 0\n",
      "-------------------------------------------\n",
      "\n",
      "Who are the winners and losers in Trump's tax plan?\n",
      "label 0\n",
      "votes [0.3333333333, 0.3333333333, 0.6666666666, 0.3333333333, 0.6666666666]\n",
      "output 0\n",
      "-------------------------------------------\n",
      "\n",
      "Egypt's Coptic Christians under siege ahead of Pope Francis's visit\n",
      "label 0\n",
      "votes [0.0, 0.0, 0.0, 0.6666666666, 0.0]\n",
      "output 0\n",
      "-------------------------------------------\n",
      "\n",
      "Congresswomen meet to discuss missing women of color \n",
      "label 0\n",
      "votes [1.0, 0.0, 0.0, 0.0, 0.0]\n",
      "output 0\n",
      "-------------------------------------------\n",
      "\n",
      "Trump: I'm 'Absolutely' Considering Breaking Up 'Outrageous' 9th Circuit  Insider\n",
      "label 0\n",
      "votes [0.3333333333, 0.3333333333, 0.6666666666, 0.3333333333, 0.0]\n",
      "output 0\n",
      "-------------------------------------------\n",
      "\n",
      "Joe Biden to College Men: 'A Woman Who’s Dead Drunk Cannot Consent. You Are Raping Her'\n",
      "label 0\n",
      "votes [0.3333333333, 0.3333333333, 0.0, 0.0, 0.0]\n",
      "output 0\n",
      "-------------------------------------------\n",
      "\n",
      "Cheap, widely available drug could stop thousands of mothers bleeding to death\n",
      "label 1\n",
      "votes [1.0, 1.0, 1.0, 0.6666666666, 0.6666666666]\n",
      "output 0\n",
      "-------------------------------------------\n",
      "\n",
      "Paris police revive woman declared dead for an hour by paramedics\n",
      "label 0\n",
      "votes [0.0, 0.3333333333, 0.6666666666, 0.0, 1.0]\n",
      "output 0\n",
      "-------------------------------------------\n",
      "\n",
      "This Celebrity Chef Wants To Change The Way You Eat In Business Class\n",
      "label 1\n",
      "votes [1.0, 1.0, 0.6666666666, 0.0, 1.0]\n",
      "output 0\n",
      "-------------------------------------------\n",
      "\n",
      "Trump's Tax Plan: Doubles Standard Deductions, Ends ‘Death Tax’ | Fox Business\n",
      "label 0\n",
      "votes [0.0, 0.3333333333, 0.6666666666, 0.0, 0.0]\n",
      "output 0\n",
      "-------------------------------------------\n",
      "\n",
      "Caught tech-handed: The criminals snared by their own stupidity\n",
      "label 1\n",
      "votes [0.3333333333, 1.0, 1.0, 0.6666666666, 0.6666666666]\n",
      "output 0\n",
      "-------------------------------------------\n",
      "\n",
      "Ezekiel Elliott's Mom Responds to Tweet Questioning How He Afforded Car at OSU\n",
      "label 0\n",
      "votes [0.3333333333, 0.3333333333, 0.3333333333, 1.0, 0.3333333333]\n",
      "output 0\n",
      "-------------------------------------------\n",
      "\n"
     ]
    }
   ],
   "source": [
    "# check functionality\n",
    "sws = set(nltk.corpus.stopwords.words('english'))\n",
    "numbers = {'one', 'two', 'three', 'four', 'five', 'six', 'nine','ten'}\n",
    "def swithnum(string):\n",
    "        # the first nonstopword\n",
    "    tokens = nltk.word_tokenize(string)\n",
    "        \n",
    "    for i in tokens:\n",
    "        if i.lower() not in sws:\n",
    "            fw = i\n",
    "            break\n",
    "    if fw.isnumeric() or fw.lower() in numbers:\n",
    "        return 1\n",
    "    else:       return 0\n",
    "for i,c in enumerate(df.targetTitle[26:40]):\n",
    "    print(c)\n",
    "    print('label',df.label[i+26])\n",
    "    print('votes', df.truthJudgments[i+26])\n",
    "    print('output', swithnum(c))\n",
    "    print('-------------------------------------------\\n')"
   ]
  },
  {
   "cell_type": "code",
   "execution_count": 13,
   "metadata": {
    "scrolled": false
   },
   "outputs": [
    {
     "name": "stdout",
     "output_type": "stream",
     "text": [
      "Average # of puncts in CB 0.11977306156755621\n",
      "Average # of puncts in non CB 0.052514042092440955\n"
     ]
    },
    {
     "name": "stderr",
     "output_type": "stream",
     "text": [
      "/Users/tianyuyang/anaconda3/lib/python3.6/site-packages/matplotlib/axes/_axes.py:6462: UserWarning: The 'normed' kwarg is deprecated, and has been replaced by the 'density' kwarg.\n",
      "  warnings.warn(\"The 'normed' kwarg is deprecated, and has been \"\n"
     ]
    },
    {
     "data": {
      "image/png": "[encoded data removed]",
      "text/plain": [
       "<Figure size 432x288 with 1 Axes>"
      ]
     },
     "metadata": {},
     "output_type": "display_data"
    },
    {
     "data": {
      "image/png": "[encoded data removed]",
      "text/plain": [
       "<Figure size 432x288 with 1 Axes>"
      ]
     },
     "metadata": {},
     "output_type": "display_data"
    }
   ],
   "source": [
    "## punctuations\n",
    "def ana_punct(df):\n",
    "    \n",
    "    def count_puncts(string):\n",
    "        return len(re.findall(r'[?!]',string))\n",
    "    \n",
    "    cb = df['targetTitle'][df['label'] ==1].apply(count_puncts)\n",
    "    noncb = df['targetTitle'][df['label']==0].apply(count_puncts)\n",
    "    \n",
    "    plt.figure()\n",
    "    cb[cb<=3].hist(normed = True)\n",
    "    plt.title('# punct in CB')\n",
    "    \n",
    "    \n",
    "    plt.figure()\n",
    "    noncb.hist(normed = True)\n",
    "    plt.title('# punct in nonCB')\n",
    "    \n",
    "    print('Average # of puncts in CB', cb[cb<=3].mean())\n",
    "    print('Average # of puncts in non CB', noncb.mean())\n",
    "    \n",
    "\n",
    "ana_punct(df)"
   ]
  },
  {
   "cell_type": "code",
   "execution_count": 14,
   "metadata": {},
   "outputs": [
    {
     "name": "stdout",
     "output_type": "stream",
     "text": [
      "Average sentiment in CB 0.01428170552404944\n",
      "Average sentiment in non CB -0.05765605332611504\n"
     ]
    },
    {
     "name": "stderr",
     "output_type": "stream",
     "text": [
      "/Users/tianyuyang/anaconda3/lib/python3.6/site-packages/matplotlib/axes/_axes.py:6462: UserWarning: The 'normed' kwarg is deprecated, and has been replaced by the 'density' kwarg.\n",
      "  warnings.warn(\"The 'normed' kwarg is deprecated, and has been \"\n"
     ]
    },
    {
     "data": {
      "image/png": "[encoded data removed]",
      "text/plain": [
       "<Figure size 432x288 with 1 Axes>"
      ]
     },
     "metadata": {},
     "output_type": "display_data"
    },
    {
     "data": {
      "image/png": "[encoded data removed]",
      "text/plain": [
       "<Figure size 432x288 with 1 Axes>"
      ]
     },
     "metadata": {},
     "output_type": "display_data"
    }
   ],
   "source": [
    "# sentiment distribution\n",
    "# VADAR sentiment scorer for social media text\n",
    "def sent_analysis(df):\n",
    "    sid = SentimentIntensityAnalyzer()\n",
    "    def sent_score(string):\n",
    "        return sid.polarity_scores(string)['compound']\n",
    "    \n",
    "    cb = df['targetTitle'][df['label'] ==1].apply(sent_score)\n",
    "    noncb = df['targetTitle'][df['label']==0].apply(sent_score)\n",
    "    \n",
    "    plt.figure()\n",
    "    cb.hist(normed = True)\n",
    "    plt.title('Sentiment score in CB')\n",
    "\n",
    "    \n",
    "    plt.figure()\n",
    "    noncb.hist(normed = True)\n",
    "    plt.title('Sentiment score in nonCB')\n",
    "\n",
    "    print('Average sentiment in CB', cb.mean())\n",
    "    print('Average sentiment in non CB', noncb.mean())\n",
    "sent_analysis(df)"
   ]
  },
  {
   "cell_type": "code",
   "execution_count": 15,
   "metadata": {
    "scrolled": false
   },
   "outputs": [
    {
     "name": "stdout",
     "output_type": "stream",
     "text": [
      "Economists Fear Trump’s Tax Plan Only Heightens a ‘Mountain of Debt’ \n",
      "0\n",
      "-0.4939\n",
      "-------------------------------------------\n",
      "\n",
      "A quarterback prospect who started 13 games in college has suddenly become the key to the NFL Draft\n",
      "1\n",
      "0.296\n",
      "-------------------------------------------\n",
      "\n",
      "Anita Sarkeesian ends web series that rocked the world of gaming\n",
      "0\n",
      "0.0\n",
      "-------------------------------------------\n",
      "\n",
      "This Beyoncé Menu Meme Is The Funniest Thing You'll See All Day\n",
      "1\n",
      "0.5574\n",
      "-------------------------------------------\n",
      "\n",
      "Trump aides set to air differences over Paris climate deal\n",
      "0\n",
      "0.0\n",
      "-------------------------------------------\n",
      "\n",
      "14 Strangely Satisfying Videos Of Melting Cheese\n",
      "0\n",
      "0.2023\n",
      "-------------------------------------------\n",
      "\n",
      "Children with elevated lead levels aren't being tested or diagnosed, study says\n",
      "0\n",
      "0.0\n",
      "-------------------------------------------\n",
      "\n",
      "Temptations Bass Player Kerry Turman Dies After Performance\n",
      "0\n",
      "0.0\n",
      "-------------------------------------------\n",
      "\n",
      "United Airlines Faces Questions Over Death of Giant Rabbit \n",
      "0\n",
      "-0.2732\n",
      "-------------------------------------------\n",
      "\n",
      "Who are the winners and losers in Trump's tax plan?\n",
      "0\n",
      "-0.0772\n",
      "-------------------------------------------\n",
      "\n",
      "Egypt's Coptic Christians under siege ahead of Pope Francis's visit\n",
      "1\n",
      "0.0\n",
      "-------------------------------------------\n",
      "\n",
      "Congresswomen meet to discuss missing women of color \n",
      "1\n",
      "-0.296\n",
      "-------------------------------------------\n",
      "\n",
      "Trump: I'm 'Absolutely' Considering Breaking Up 'Outrageous' 9th Circuit  Insider\n",
      "0\n",
      "0.0\n",
      "-------------------------------------------\n",
      "\n",
      "Joe Biden to College Men: 'A Woman Who’s Dead Drunk Cannot Consent. You Are Raping Her'\n",
      "0\n",
      "-0.9211\n",
      "-------------------------------------------\n",
      "\n",
      "Cheap, widely available drug could stop thousands of mothers bleeding to death\n",
      "0\n",
      "-0.7269\n",
      "-------------------------------------------\n",
      "\n",
      "Paris police revive woman declared dead for an hour by paramedics\n",
      "0\n",
      "-0.4404\n",
      "-------------------------------------------\n",
      "\n",
      "This Celebrity Chef Wants To Change The Way You Eat In Business Class\n",
      "0\n",
      "0.0\n",
      "-------------------------------------------\n",
      "\n",
      "Trump's Tax Plan: Doubles Standard Deductions, Ends ‘Death Tax’ | Fox Business\n",
      "0\n",
      "0.0\n",
      "-------------------------------------------\n",
      "\n",
      "Caught tech-handed: The criminals snared by their own stupidity\n",
      "1\n",
      "-0.765\n",
      "-------------------------------------------\n",
      "\n",
      "Ezekiel Elliott's Mom Responds to Tweet Questioning How He Afforded Car at OSU\n",
      "0\n",
      "-0.1027\n",
      "-------------------------------------------\n",
      "\n",
      "Cruises Cunard's Queen Victoria cruise ship is getting a £34m facelift – here's how it will look\n",
      "0\n",
      "0.0\n",
      "-------------------------------------------\n",
      "\n",
      "Please enjoy Obama photographer Pete Souza's latest flawless Trump troll\n",
      "1\n",
      "0.8316\n",
      "-------------------------------------------\n",
      "\n",
      "Government Goes On An All Out Offensive Against The Naxals, Asks For Results In The Next Few Weeks!\n",
      "0\n",
      "-0.5093\n",
      "-------------------------------------------\n",
      "\n",
      "Ted Cruz Calls for $14 Billion Seized from ‘El Chapo’ to Fund Border Wall\n",
      "0\n",
      "0.0\n",
      "-------------------------------------------\n",
      "\n",
      "Trump Seems to Retreat on Shutdown, But Secret Spending Bill Still Looms\n",
      "0\n",
      "0.0516\n",
      "-------------------------------------------\n",
      "\n",
      "Bloomberg on Sanctuary Cities: ‘The Law Is the Law’ – ‘You Should Obey the Law’\n",
      "1\n",
      "0.0\n",
      "-------------------------------------------\n",
      "\n",
      "Lawmakers say Flynn may have broken law by not disclosing Russia payments \n",
      "0\n",
      "-0.4767\n",
      "-------------------------------------------\n",
      "\n",
      "Would You Spend $425 on Jeans With Fake Mud?  [Video]\n",
      "0\n",
      "-0.4767\n",
      "-------------------------------------------\n",
      "\n",
      "Tanmay Bhat's Honest Apology To Sachin,Farhan-Adhuna Granted A Divorce And More From Ent\n",
      "0\n",
      "0.6705\n",
      "-------------------------------------------\n",
      "\n",
      "Here's the cold LinkedIn message that prompted a CEO to give the sender a job\n",
      "0\n",
      "0.0\n",
      "-------------------------------------------\n",
      "\n",
      "U.S. Home-Price Growth Continued Accelerating in February\n",
      "0\n",
      "0.3818\n",
      "-------------------------------------------\n",
      "\n",
      "United Airlines flight reportedly makes emergency landing after engine issue \n",
      "0\n",
      "0.0516\n",
      "-------------------------------------------\n",
      "\n",
      "Arkansas Carries Out Double-Execution Despite Claims First Death Was 'Inhumane'\n",
      "0\n",
      "0.4847\n",
      "-------------------------------------------\n",
      "\n",
      "Bill O’Reilly Breaks His Silence After His Exit From Fox News \n",
      "0\n",
      "0.0\n",
      "-------------------------------------------\n",
      "\n",
      "MH370: independent experts mistrust 'confidence' about plane's location\n",
      "1\n",
      "0.0\n",
      "-------------------------------------------\n",
      "\n",
      "Chinese pressure on North Korea 'working,' UN Ambassador Nikki Haley says \n",
      "0\n",
      "-0.296\n",
      "-------------------------------------------\n",
      "\n",
      "India's Central Bank Chief Says Cash Ban's Effects ‘Transitory’\n",
      "1\n",
      "0.0\n",
      "-------------------------------------------\n",
      "\n",
      "Gregg Allman Denies Reports He's Entered Hospice Care\n",
      "0\n",
      "0.1027\n",
      "-------------------------------------------\n",
      "\n",
      "If Centre Has Its Way, Cows May Soon Get Aadhaar-Like Unique Identification Numbers\n",
      "1\n",
      "0.0\n",
      "-------------------------------------------\n",
      "\n",
      "Meet the woman who just made American space history\n",
      "0\n",
      "0.0\n",
      "-------------------------------------------\n",
      "\n"
     ]
    }
   ],
   "source": [
    "# check actual scoring for sentiment\n",
    "sid = SentimentIntensityAnalyzer()\n",
    "for i,c in enumerate(df.targetTitle[20:60]):\n",
    "    print(c)\n",
    "    print(df.label[i])\n",
    "    print(sid.polarity_scores(c)['compound'])\n",
    "    print('-------------------------------------------\\n')"
   ]
  },
  {
   "cell_type": "code",
   "execution_count": 16,
   "metadata": {},
   "outputs": [
    {
     "name": "stdout",
     "output_type": "stream",
     "text": [
      "Average subjectivity in CB 0.31925392130223923\n",
      "Average subjectivity in non CB 0.25926052959876716\n"
     ]
    },
    {
     "name": "stderr",
     "output_type": "stream",
     "text": [
      "/Users/tianyuyang/anaconda3/lib/python3.6/site-packages/matplotlib/axes/_axes.py:6462: UserWarning: The 'normed' kwarg is deprecated, and has been replaced by the 'density' kwarg.\n",
      "  warnings.warn(\"The 'normed' kwarg is deprecated, and has been \"\n"
     ]
    },
    {
     "data": {
      "image/png": "[encoded data removed]",
      "text/plain": [
       "<Figure size 432x288 with 1 Axes>"
      ]
     },
     "metadata": {},
     "output_type": "display_data"
    },
    {
     "data": {
      "image/png": "[encoded data removed]",
      "text/plain": [
       "<Figure size 432x288 with 1 Axes>"
      ]
     },
     "metadata": {},
     "output_type": "display_data"
    }
   ],
   "source": [
    "# subjectivity scoring using textblob\n",
    "\n",
    "def sub_analysis(df):\n",
    "    def sub_score(string):\n",
    "        return TextBlob(string).sentiment[1]\n",
    "    \n",
    "    cb = df['targetTitle'][df['label'] ==1].apply(sub_score)\n",
    "    noncb = df['targetTitle'][df['label']==0].apply(sub_score)\n",
    "    \n",
    "    plt.figure()\n",
    "    cb.hist(normed = True)\n",
    "    plt.title('Subjectivity score in CB')\n",
    "\n",
    "    \n",
    "    plt.figure()\n",
    "    noncb.hist(normed = True)\n",
    "    plt.title('Subjectivity score in nonCB')\n",
    "\n",
    "    print('Average subjectivity in CB', cb.mean())\n",
    "    print('Average subjectivity in non CB', noncb.mean())\n",
    "sub_analysis(df)"
   ]
  },
  {
   "cell_type": "code",
   "execution_count": 17,
   "metadata": {
    "scrolled": false
   },
   "outputs": [
    {
     "name": "stdout",
     "output_type": "stream",
     "text": [
      "‘Inexcusable’ failures in UK’s response to modern slavery leaving victims destitute while abusers go free, report warns\n",
      "label:  0\n",
      "vote:  [0.3333333333, 0.0, 0.3333333333, 0.0, 0.0]\n",
      "0.55\n",
      "-------------------------------------------\n",
      "\n",
      "Donald Trump Appoints Pro-Life Advocate as Assistant Secretary of HHS for Public Affairs\n",
      "label:  1\n",
      "vote:  [1.0, 1.0, 1.0, 1.0, 1.0]\n",
      "0.06666666666666667\n",
      "-------------------------------------------\n",
      "\n",
      "The ‘forgotten’ Trump roast: Relive his brutal 2004 thrashing at the New York Friars Club\n",
      "label:  0\n",
      "vote:  [0.3333333333, 1.0, 0.3333333333, 0.0, 0.6666666666]\n",
      "0.7272727272727273\n",
      "-------------------------------------------\n",
      "\n",
      "Meet The Happiest Dog In The World, Maru The Husky Who Also Looks Like A Panda!\n",
      "label:  1\n",
      "vote:  [1.0, 0.6666666666, 1.0, 1.0, 1.0]\n",
      "0.0\n",
      "-------------------------------------------\n",
      "\n",
      "Tokyo's subway is shut down amid fears over an imminent North Korean missile attack on Japan\n",
      "label:  0\n",
      "vote:  [0.0, 0.0, 0.0, 0.0, 0.0]\n",
      "0.2888888888888889\n",
      "-------------------------------------------\n",
      "\n",
      "World Anti-Doping Agency lifts ban on Madrid laboratory\n",
      "label:  0\n",
      "vote:  [0.0, 0.3333333333, 0.0, 0.0, 0.0]\n",
      "0.0\n",
      "-------------------------------------------\n",
      "\n",
      "Despite the ‘Yuck Factor,’ Leeches Are Big in Russian Medicine \n",
      "label:  0\n",
      "vote:  [1.0, 0.0, 0.3333333333, 0.0, 0.3333333333]\n",
      "0.05\n",
      "-------------------------------------------\n",
      "\n",
      "China And Pakistan Use Biryani To Take Their Friendship To A Whole New Level\n",
      "label:  0\n",
      "vote:  [0.0, 0.0, 0.0, 0.3333333333, 0.0]\n",
      "0.42727272727272725\n",
      "-------------------------------------------\n",
      "\n",
      "This Big Short Threatens to Be a Big Bust\n",
      "label:  0\n",
      "vote:  [0.3333333333, 0.0, 0.6666666666, 0.3333333333, 0.3333333333]\n",
      "0.16666666666666666\n",
      "-------------------------------------------\n",
      "\n",
      "Filipino troops kill notorious Abu Sayyaf kidnapper in clash \n",
      "label:  0\n",
      "vote:  [0.0, 0.0, 0.0, 0.6666666666, 0.0]\n",
      "0.0\n",
      "-------------------------------------------\n",
      "\n",
      "The top 10 best selling comic books of all time [Video]\n",
      "label:  1\n",
      "vote:  [0.6666666666, 1.0, 1.0, 0.0, 1.0]\n",
      "0.43333333333333335\n",
      "-------------------------------------------\n",
      "\n",
      "B/R Presents: NFL1000 Guide to Day 2 of the 2017 NFL Draft\n",
      "label:  1\n",
      "vote:  [1.0, 0.6666666666, 0.6666666666, 0.0, 0.6666666666]\n",
      "0.0\n",
      "-------------------------------------------\n",
      "\n",
      "President Trump Would Like To Work With North Korea Peacefully, But 'Major Major Conflict' Possible\n",
      "label:  0\n",
      "vote:  [1.0, 0.3333333333, 0.0, 0.0, 0.0]\n",
      "0.625\n",
      "-------------------------------------------\n",
      "\n",
      "No Zika detected in Florida mosquitoes so far this year, officials say \n",
      "label:  0\n",
      "vote:  [0.0, 0.0, 0.0, 0.0, 0.0]\n",
      "1.0\n",
      "-------------------------------------------\n",
      "\n",
      "Don't laugh off the Liberal Democrat threat just yet – Jeremy Corbyn makes them look good Subscribe now for full access or register to continue reading Subscribe now for full access or register to continue\n",
      "label:  0\n",
      "vote:  [0.0, 0.3333333333, 0.0, 0.0, 0.0]\n",
      "0.45\n",
      "-------------------------------------------\n",
      "\n",
      "NFL Draft 2017: The 20 best remaining players for Round 2\n",
      "label:  0\n",
      "vote:  [0.3333333333, 0.0, 1.0, 0.3333333333, 1.0]\n",
      "0.35\n",
      "-------------------------------------------\n",
      "\n",
      "Ilie Nastase apologises and says Serena Williams comment was ‘spontaneous’\n",
      "label:  0\n",
      "vote:  [0.0, 0.0, 1.0, 0.0, 0.6666666666]\n",
      "0.9\n",
      "-------------------------------------------\n",
      "\n",
      "Coast Guard suspends practice of shooting, stabbing and dismembering animals in trauma training\n",
      "label:  0\n",
      "vote:  [0.0, 0.0, 0.3333333333, 0.3333333333, 0.0]\n",
      "0.8\n",
      "-------------------------------------------\n",
      "\n",
      "My 100 Days of Covering President Donald Trump\n",
      "label:  1\n",
      "vote:  [0.3333333333, 0.0, 0.6666666666, 0.6666666666, 1.0]\n",
      "0.0\n",
      "-------------------------------------------\n",
      "\n",
      "Lawyer calls to investigate Arkansas execution after inmate convulsed before dying \n",
      "label:  0\n",
      "vote:  [0.6666666666, 0.0, 0.0, 0.0, 0.0]\n",
      "0.0\n",
      "-------------------------------------------\n",
      "\n",
      "Economists Fear Trump’s Tax Plan Only Heightens a ‘Mountain of Debt’ \n",
      "label:  0\n",
      "vote:  [0.3333333333, 0.0, 0.0, 0.3333333333, 1.0]\n",
      "1.0\n",
      "-------------------------------------------\n",
      "\n",
      "A quarterback prospect who started 13 games in college has suddenly become the key to the NFL Draft\n",
      "label:  1\n",
      "vote:  [0.6666666666, 1.0, 0.3333333333, 0.6666666666, 0.3333333333]\n",
      "0.75\n",
      "-------------------------------------------\n",
      "\n",
      "Anita Sarkeesian ends web series that rocked the world of gaming\n",
      "label:  0\n",
      "vote:  [0.0, 0.3333333333, 0.3333333333, 1.0, 0.0]\n",
      "0.0\n",
      "-------------------------------------------\n",
      "\n",
      "This Beyoncé Menu Meme Is The Funniest Thing You'll See All Day\n",
      "label:  0\n",
      "vote:  [0.0, 1.0, 0.0, 0.0, 0.3333333333]\n",
      "0.0\n",
      "-------------------------------------------\n",
      "\n",
      "Trump aides set to air differences over Paris climate deal\n",
      "label:  0\n",
      "vote:  [0.0, 0.0, 0.0, 0.3333333333, 0.0]\n",
      "0.0\n",
      "-------------------------------------------\n",
      "\n",
      "14 Strangely Satisfying Videos Of Melting Cheese\n",
      "label:  1\n",
      "vote:  [1.0, 1.0, 0.3333333333, 0.6666666666, 1.0]\n",
      "1.0\n",
      "-------------------------------------------\n",
      "\n"
     ]
    }
   ],
   "source": [
    "# check actual scoring for subjectivity\n",
    "for i,c in enumerate(df.targetTitle[:26]):\n",
    "    print(c)\n",
    "    print('label: ',df.label[i])\n",
    "    print('vote: ', df.truthJudgments[i])\n",
    "    print(TextBlob(c).sentiment[1])\n",
    "    print('-------------------------------------------\\n')"
   ]
  },
  {
   "cell_type": "code",
   "execution_count": 18,
   "metadata": {},
   "outputs": [
    {
     "name": "stdout",
     "output_type": "stream",
     "text": [
      "proportion of titles contains superlative adjective\n",
      "For CB:  0.07414408737660155\n",
      "Non CB:  0.044934695811057725\n"
     ]
    }
   ],
   "source": [
    "# sentiment \n",
    "# superlative adjective\n",
    "def sup_ana(df):\n",
    "    def count_sup(string):\n",
    "        for i in nltk.pos_tag(nltk.word_tokenize(string.lower())):\n",
    "            if i[1] == 'JJS':return 1\n",
    "        return 0\n",
    "    cb = df['targetTitle'][df['label'] ==1].apply(count_sup)\n",
    "    noncb = df['targetTitle'][df['label']==0].apply(count_sup)\n",
    "    print('proportion of titles contains superlative adjective')\n",
    "    print('For CB: ', cb.mean())\n",
    "    print('Non CB: ', noncb.mean())\n",
    "sup_ana(df)"
   ]
  },
  {
   "cell_type": "code",
   "execution_count": null,
   "metadata": {},
   "outputs": [],
   "source": []
  }
 ],
 "metadata": {
  "kernelspec": {
   "display_name": "Python 3",
   "language": "python",
   "name": "python3"
  },
  "language_info": {
   "codemirror_mode": {
    "name": "ipython",
    "version": 3
   },
   "file_extension": ".py",
   "mimetype": "text/x-python",
   "name": "python",
   "nbconvert_exporter": "python",
   "pygments_lexer": "ipython3",
   "version": "3.6.5"
  }
 },
 "nbformat": 4,
 "nbformat_minor": 2
}
