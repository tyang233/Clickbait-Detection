{
 "cells": [
  {
   "cell_type": "code",
   "execution_count": 1,
   "metadata": {},
   "outputs": [
    {
     "name": "stderr",
     "output_type": "stream",
     "text": [
      "/Users/tianyuyang/anaconda3/lib/python3.6/site-packages/nltk/twitter/__init__.py:20: UserWarning: The twython library has not been installed. Some functionality from the twitter package will not be available.\n",
      "  warnings.warn(\"The twython library has not been installed. \"\n"
     ]
    }
   ],
   "source": [
    "import json\n",
    "import sys\n",
    "import pandas as pd\n",
    "import matplotlib.pyplot as plt\n",
    "import nltk\n",
    "import re\n",
    "from textblob import TextBlob\n",
    "from nltk.sentiment.vader import SentimentIntensityAnalyzer"
   ]
  },
  {
   "cell_type": "code",
   "execution_count": 2,
   "metadata": {},
   "outputs": [],
   "source": [
    "def read_data():\n",
    "    \n",
    "    with open('instances.jsonl','r') as f:\n",
    "        instances = []\n",
    "        for line in f:\n",
    "        \n",
    "            instances.append(json.loads(line))\n",
    "    with open('truth.jsonl', 'r') as f:\n",
    "        labels = []\n",
    "        for line in f:\n",
    "            labels.append(json.loads(line))\n",
    "    df = pd.DataFrame(instances)\n",
    "    df = df.set_index('id')\n",
    "    labels = pd.DataFrame(labels)\n",
    "    labels = labels.set_index('id')\n",
    "    df['label']  = 0\n",
    "    df['label'][labels['truthClass'] == 'clickbait'] = 1\n",
    "    df['truthJudgments'] = labels.truthJudgments\n",
    "    df['postText'] = df['postText'].apply(lambda x: x[0])\n",
    "    return df"
   ]
  },
  {
   "cell_type": "code",
   "execution_count": 3,
   "metadata": {},
   "outputs": [
    {
     "name": "stderr",
     "output_type": "stream",
     "text": [
      "/Users/tianyuyang/anaconda3/lib/python3.6/site-packages/ipykernel_launcher.py:17: SettingWithCopyWarning: \n",
      "A value is trying to be set on a copy of a slice from a DataFrame\n",
      "\n",
      "See the caveats in the documentation: http://pandas.pydata.org/pandas-docs/stable/indexing.html#indexing-view-versus-copy\n"
     ]
    }
   ],
   "source": [
    "df  = read_data()"
   ]
  },
  {
   "cell_type": "code",
   "execution_count": 4,
   "metadata": {},
   "outputs": [
    {
     "data": {
      "text/html": [
       "<div>\n",
       "<style scoped>\n",
       "    .dataframe tbody tr th:only-of-type {\n",
       "        vertical-align: middle;\n",
       "    }\n",
       "\n",
       "    .dataframe tbody tr th {\n",
       "        vertical-align: top;\n",
       "    }\n",
       "\n",
       "    .dataframe thead th {\n",
       "        text-align: right;\n",
       "    }\n",
       "</style>\n",
       "<table border=\"1\" class=\"dataframe\">\n",
       "  <thead>\n",
       "    <tr style=\"text-align: right;\">\n",
       "      <th></th>\n",
       "      <th>postMedia</th>\n",
       "      <th>postText</th>\n",
       "      <th>postTimestamp</th>\n",
       "      <th>targetCaptions</th>\n",
       "      <th>targetDescription</th>\n",
       "      <th>targetKeywords</th>\n",
       "      <th>targetParagraphs</th>\n",
       "      <th>targetTitle</th>\n",
       "      <th>label</th>\n",
       "      <th>truthJudgments</th>\n",
       "    </tr>\n",
       "    <tr>\n",
       "      <th>id</th>\n",
       "      <th></th>\n",
       "      <th></th>\n",
       "      <th></th>\n",
       "      <th></th>\n",
       "      <th></th>\n",
       "      <th></th>\n",
       "      <th></th>\n",
       "      <th></th>\n",
       "      <th></th>\n",
       "      <th></th>\n",
       "    </tr>\n",
       "  </thead>\n",
       "  <tbody>\n",
       "    <tr>\n",
       "      <th>858462320779026433</th>\n",
       "      <td>[]</td>\n",
       "      <td>UK’s response to modern slavery leaving victim...</td>\n",
       "      <td>Sat Apr 29 23:25:41 +0000 2017</td>\n",
       "      <td>[modern-slavery-rex.jpg]</td>\n",
       "      <td>“Inexcusable” failures in the UK’s system for ...</td>\n",
       "      <td>modern slavery, Department For Work And Pensio...</td>\n",
       "      <td>[Thousands of modern slavery victims have not ...</td>\n",
       "      <td>‘Inexcusable’ failures in UK’s response to mod...</td>\n",
       "      <td>0</td>\n",
       "      <td>[0.3333333333, 0.0, 0.3333333333, 0.0, 0.0]</td>\n",
       "    </tr>\n",
       "    <tr>\n",
       "      <th>858421020331560960</th>\n",
       "      <td>[]</td>\n",
       "      <td>this is good</td>\n",
       "      <td>Sat Apr 29 20:41:34 +0000 2017</td>\n",
       "      <td>[In this July 1, 2010 file photo, Dr. Charmain...</td>\n",
       "      <td>President Donald Trump has appointed pro-life ...</td>\n",
       "      <td>Americans United for Life, Dr. Charmaine Yoest...</td>\n",
       "      <td>[President Donald Trump has appointed the pro-...</td>\n",
       "      <td>Donald Trump Appoints Pro-Life Advocate as Ass...</td>\n",
       "      <td>1</td>\n",
       "      <td>[1.0, 1.0, 1.0, 1.0, 1.0]</td>\n",
       "    </tr>\n",
       "    <tr>\n",
       "      <th>858368123753435136</th>\n",
       "      <td>[]</td>\n",
       "      <td>The \"forgotten\" Trump roast: Relive his brutal...</td>\n",
       "      <td>Sat Apr 29 17:11:23 +0000 2017</td>\n",
       "      <td>[President Trump will not attend this year's W...</td>\n",
       "      <td>President Trump won't be at this year's White ...</td>\n",
       "      <td>trump whcd, whcd, white house correspondents d...</td>\n",
       "      <td>[When the White House correspondents’ dinner i...</td>\n",
       "      <td>The ‘forgotten’ Trump roast: Relive his brutal...</td>\n",
       "      <td>0</td>\n",
       "      <td>[0.3333333333, 1.0, 0.3333333333, 0.0, 0.66666...</td>\n",
       "    </tr>\n",
       "    <tr>\n",
       "      <th>858323428260139008</th>\n",
       "      <td>[]</td>\n",
       "      <td>Meet the happiest #dog in the world!</td>\n",
       "      <td>Sat Apr 29 14:13:46 +0000 2017</td>\n",
       "      <td>[Maru , Maru, Maru, Maru, Maru]</td>\n",
       "      <td>The article is about Maru, a husky dog who has...</td>\n",
       "      <td>Maru, husky, dogs, pandas, furball, instagram</td>\n",
       "      <td>[Adorable is probably an understatement. This ...</td>\n",
       "      <td>Meet The Happiest Dog In The World, Maru The H...</td>\n",
       "      <td>1</td>\n",
       "      <td>[1.0, 0.6666666666, 1.0, 1.0, 1.0]</td>\n",
       "    </tr>\n",
       "    <tr>\n",
       "      <th>858283602626347008</th>\n",
       "      <td>[]</td>\n",
       "      <td>Tokyo's subway is shut down amid fears over an...</td>\n",
       "      <td>Sat Apr 29 11:35:31 +0000 2017</td>\n",
       "      <td>[All nine lines of Tokyo's subway system were ...</td>\n",
       "      <td>The temporary suspension, which lasted ten min...</td>\n",
       "      <td>Tokyo,subway,shut,fears,North,Korean,attack</td>\n",
       "      <td>[One of Tokyo's major subways systems says it ...</td>\n",
       "      <td>Tokyo's subway is shut down amid fears over an...</td>\n",
       "      <td>0</td>\n",
       "      <td>[0.0, 0.0, 0.0, 0.0, 0.0]</td>\n",
       "    </tr>\n",
       "  </tbody>\n",
       "</table>\n",
       "</div>"
      ],
      "text/plain": [
       "                   postMedia  \\\n",
       "id                             \n",
       "858462320779026433        []   \n",
       "858421020331560960        []   \n",
       "858368123753435136        []   \n",
       "858323428260139008        []   \n",
       "858283602626347008        []   \n",
       "\n",
       "                                                             postText  \\\n",
       "id                                                                      \n",
       "858462320779026433  UK’s response to modern slavery leaving victim...   \n",
       "858421020331560960                                       this is good   \n",
       "858368123753435136  The \"forgotten\" Trump roast: Relive his brutal...   \n",
       "858323428260139008               Meet the happiest #dog in the world!   \n",
       "858283602626347008  Tokyo's subway is shut down amid fears over an...   \n",
       "\n",
       "                                     postTimestamp  \\\n",
       "id                                                   \n",
       "858462320779026433  Sat Apr 29 23:25:41 +0000 2017   \n",
       "858421020331560960  Sat Apr 29 20:41:34 +0000 2017   \n",
       "858368123753435136  Sat Apr 29 17:11:23 +0000 2017   \n",
       "858323428260139008  Sat Apr 29 14:13:46 +0000 2017   \n",
       "858283602626347008  Sat Apr 29 11:35:31 +0000 2017   \n",
       "\n",
       "                                                       targetCaptions  \\\n",
       "id                                                                      \n",
       "858462320779026433                           [modern-slavery-rex.jpg]   \n",
       "858421020331560960  [In this July 1, 2010 file photo, Dr. Charmain...   \n",
       "858368123753435136  [President Trump will not attend this year's W...   \n",
       "858323428260139008                    [Maru , Maru, Maru, Maru, Maru]   \n",
       "858283602626347008  [All nine lines of Tokyo's subway system were ...   \n",
       "\n",
       "                                                    targetDescription  \\\n",
       "id                                                                      \n",
       "858462320779026433  “Inexcusable” failures in the UK’s system for ...   \n",
       "858421020331560960  President Donald Trump has appointed pro-life ...   \n",
       "858368123753435136  President Trump won't be at this year's White ...   \n",
       "858323428260139008  The article is about Maru, a husky dog who has...   \n",
       "858283602626347008  The temporary suspension, which lasted ten min...   \n",
       "\n",
       "                                                       targetKeywords  \\\n",
       "id                                                                      \n",
       "858462320779026433  modern slavery, Department For Work And Pensio...   \n",
       "858421020331560960  Americans United for Life, Dr. Charmaine Yoest...   \n",
       "858368123753435136  trump whcd, whcd, white house correspondents d...   \n",
       "858323428260139008      Maru, husky, dogs, pandas, furball, instagram   \n",
       "858283602626347008        Tokyo,subway,shut,fears,North,Korean,attack   \n",
       "\n",
       "                                                     targetParagraphs  \\\n",
       "id                                                                      \n",
       "858462320779026433  [Thousands of modern slavery victims have not ...   \n",
       "858421020331560960  [President Donald Trump has appointed the pro-...   \n",
       "858368123753435136  [When the White House correspondents’ dinner i...   \n",
       "858323428260139008  [Adorable is probably an understatement. This ...   \n",
       "858283602626347008  [One of Tokyo's major subways systems says it ...   \n",
       "\n",
       "                                                          targetTitle  label  \\\n",
       "id                                                                             \n",
       "858462320779026433  ‘Inexcusable’ failures in UK’s response to mod...      0   \n",
       "858421020331560960  Donald Trump Appoints Pro-Life Advocate as Ass...      1   \n",
       "858368123753435136  The ‘forgotten’ Trump roast: Relive his brutal...      0   \n",
       "858323428260139008  Meet The Happiest Dog In The World, Maru The H...      1   \n",
       "858283602626347008  Tokyo's subway is shut down amid fears over an...      0   \n",
       "\n",
       "                                                       truthJudgments  \n",
       "id                                                                     \n",
       "858462320779026433        [0.3333333333, 0.0, 0.3333333333, 0.0, 0.0]  \n",
       "858421020331560960                          [1.0, 1.0, 1.0, 1.0, 1.0]  \n",
       "858368123753435136  [0.3333333333, 1.0, 0.3333333333, 0.0, 0.66666...  \n",
       "858323428260139008                 [1.0, 0.6666666666, 1.0, 1.0, 1.0]  \n",
       "858283602626347008                          [0.0, 0.0, 0.0, 0.0, 0.0]  "
      ]
     },
     "execution_count": 4,
     "metadata": {},
     "output_type": "execute_result"
    }
   ],
   "source": [
    "df.head()"
   ]
  },
  {
   "cell_type": "code",
   "execution_count": 5,
   "metadata": {
    "scrolled": false
   },
   "outputs": [
    {
     "data": {
      "image/png": "[encoded data removed]",
      "text/plain": [
       "<Figure size 432x288 with 1 Axes>"
      ]
     },
     "metadata": {},
     "output_type": "display_data"
    },
    {
     "data": {
      "image/png": "[encoded data removed]",
      "text/plain": [
       "<Figure size 432x288 with 1 Axes>"
      ]
     },
     "metadata": {},
     "output_type": "display_data"
    },
    {
     "name": "stdout",
     "output_type": "stream",
     "text": [
      "average text length(chars) for CB:  59.246607294317215\n",
      "average text length(chars) for nonCB:  74.66542524377031\n",
      "-------------------------------------------------------\n"
     ]
    },
    {
     "data": {
      "image/png": "[encoded data removed]",
      "text/plain": [
       "<Figure size 432x288 with 1 Axes>"
      ]
     },
     "metadata": {},
     "output_type": "display_data"
    },
    {
     "data": {
      "image/png": "[encoded data removed]",
      "text/plain": [
       "<Figure size 432x288 with 1 Axes>"
      ]
     },
     "metadata": {},
     "output_type": "display_data"
    },
    {
     "name": "stdout",
     "output_type": "stream",
     "text": [
      "average text length(words) for CB:  9.780617678381256\n",
      "average text length(words) for nonCB:  11.508195610945544\n",
      "-------------------------------------------------------\n",
      "# empty texts in CB:  45\n",
      "# empty texts in nonCB:  9\n"
     ]
    }
   ],
   "source": [
    "# analyze length\n",
    "def ana_length(df):\n",
    "    #length by character\n",
    "    cblens = df['postText'][df['label']==1].apply(len)\n",
    "    noncblens =  df['postText'][df['label']==0].apply(len)\n",
    "    \n",
    "    plt.figure()\n",
    "    cblens.hist()\n",
    "    plt.title('distribution of text length(chars) for CB')\n",
    "    plt.yscale('log')\n",
    "    plt.show()\n",
    "    \n",
    "    plt.figure()\n",
    "    noncblens.hist()\n",
    "    plt.yscale('log')\n",
    "    plt.title('distribution of text length(chars) for nonCB')\n",
    "    plt.show()\n",
    "    print('average text length(chars) for CB: ',cblens[cblens>0].mean())\n",
    "    print('average text length(chars) for nonCB: ', noncblens[noncblens>0].mean())\n",
    "    print('-------------------------------------------------------')\n",
    "    \n",
    "    #length by word\n",
    "    tokenizer = nltk.tokenize.TweetTokenizer()\n",
    "    cblens = df['postText'][df['label']==1].apply(lambda x: len([i for i in tokenizer.tokenize(x) if i.isalnum()]))\n",
    "    noncblens = df['postText'][df['label']==0].apply(lambda x:len([ i for i in tokenizer.tokenize(x) if i.isalnum()]))\n",
    "    \n",
    "    plt.figure()\n",
    "    cblens.hist()\n",
    "    plt.title('distribution of text length(words) for CB')\n",
    "    plt.yscale('log')\n",
    "    plt.show()\n",
    "    \n",
    "    plt.figure()\n",
    "    noncblens.hist()\n",
    "    plt.yscale('log')\n",
    "    plt.title('distribution of text length(words) for nonCB')\n",
    "    plt.show()\n",
    "    print('average text length(words) for CB: ', cblens[cblens>0].mean())\n",
    "    print('average text length(words) for nonCB: ', noncblens[noncblens>0].mean())\n",
    "    print('-------------------------------------------------------')\n",
    "    \n",
    "    #show distribution of empty text\n",
    "    count_cb = df['postText'][df['label']==1].apply(lambda x: len(x)==0).sum()\n",
    "    count_noncb = df['postText'][df['label']==0].apply(lambda x: len(x)==0).sum()\n",
    "    print('# empty texts in CB: ', count_cb)\n",
    "    print(\"# empty texts in nonCB: \", count_noncb)\n",
    "    \n",
    "    \n",
    "    \n",
    "ana_length(df)"
   ]
  },
  {
   "cell_type": "code",
   "execution_count": 6,
   "metadata": {
    "scrolled": true
   },
   "outputs": [
    {
     "name": "stderr",
     "output_type": "stream",
     "text": [
      "/Users/tianyuyang/anaconda3/lib/python3.6/site-packages/matplotlib/axes/_axes.py:6462: UserWarning: The 'normed' kwarg is deprecated, and has been replaced by the 'density' kwarg.\n",
      "  warnings.warn(\"The 'normed' kwarg is deprecated, and has been \"\n"
     ]
    },
    {
     "data": {
      "image/png": "[encoded data removed]",
      "text/plain": [
       "<Figure size 432x288 with 1 Axes>"
      ]
     },
     "metadata": {},
     "output_type": "display_data"
    },
    {
     "data": {
      "image/png": "[encoded data removed]",
      "text/plain": [
       "<Figure size 432x288 with 1 Axes>"
      ]
     },
     "metadata": {},
     "output_type": "display_data"
    },
    {
     "name": "stdout",
     "output_type": "stream",
     "text": [
      "Average # of stop words in CB 3.305187985717286\n",
      "Average # of stop words in non CB 3.3241523989984434\n",
      "---------------------------------------------\n"
     ]
    },
    {
     "data": {
      "image/png": "[encoded data removed]",
      "text/plain": [
       "<Figure size 432x288 with 1 Axes>"
      ]
     },
     "metadata": {},
     "output_type": "display_data"
    },
    {
     "data": {
      "image/png": "[encoded data removed]",
      "text/plain": [
       "<Figure size 432x288 with 1 Axes>"
      ]
     },
     "metadata": {},
     "output_type": "display_data"
    },
    {
     "name": "stdout",
     "output_type": "stream",
     "text": [
      "Average percent of stop words in CB 0.26725364384298317\n",
      "Average percent of stop words in non CB 0.23399283976772162\n",
      "---------------------------------------------\n"
     ]
    }
   ],
   "source": [
    "# distributions of stop words\n",
    "def ana_stopwords(df):\n",
    "    tokenizer = nltk.tokenize.TweetTokenizer()\n",
    "    sws = set(nltk.corpus.stopwords.words('english'))\n",
    "    def count_sw(string):\n",
    "        c = 0\n",
    "        \n",
    "        for i in tokenizer.tokenize(string):\n",
    "            if i in sws:\n",
    "                c+=1\n",
    "        return c\n",
    "    swcb = df['postText'][df['label'] ==1].apply(count_sw)\n",
    "    swnoncb = df['postText'][df['label']==0].apply(count_sw)\n",
    "    \n",
    "    plt.figure()\n",
    "    swcb.hist(normed = True)\n",
    "    plt.title('# stopwords in CB')\n",
    "    plt.show()\n",
    "    plt.figure()\n",
    "    swnoncb.hist(normed = True)\n",
    "    plt.title('# stopwords in nonCB')\n",
    "    plt.show()\n",
    "\n",
    "    print('Average # of stop words in CB', swcb.mean())\n",
    "    print('Average # of stop words in non CB', swnoncb.mean())\n",
    "    print('---------------------------------------------')\n",
    "    def count_swp(string):\n",
    "        c = 0\n",
    "        tokens = tokenizer.tokenize(string)\n",
    "        for i in tokens:\n",
    "            if i in sws:\n",
    "                c+=1\n",
    "        return c/len(tokens)\n",
    "    \n",
    "    count_cb = df['postText'][df['label']==1].apply(lambda x: len(x)==0)\n",
    "    count_noncb = df['postText'][df['label']==0].apply(lambda x: len(x)==0)\n",
    "    swcb = df['postText'][df['label'] ==1][count_cb ==0].apply(count_swp)\n",
    "    swnoncb = df['postText'][df['label']==0][count_noncb==0].apply(count_swp)\n",
    "    \n",
    "    plt.figure()\n",
    "    swcb.hist(normed = True)\n",
    "    plt.title('percent of stopwords in CB')\n",
    "    plt.show()\n",
    "    plt.figure()\n",
    "    swnoncb.hist(normed = True)\n",
    "    plt.title('percent of stopwords in nonCB')\n",
    "    plt.show()\n",
    "    print('Average percent of stop words in CB', swcb.mean())\n",
    "    print('Average percent of stop words in non CB', swnoncb.mean())\n",
    "    print('---------------------------------------------')\n",
    "\n",
    "ana_stopwords(df)"
   ]
  },
  {
   "cell_type": "code",
   "execution_count": 7,
   "metadata": {},
   "outputs": [
    {
     "name": "stderr",
     "output_type": "stream",
     "text": [
      "/Users/tianyuyang/anaconda3/lib/python3.6/site-packages/matplotlib/axes/_axes.py:6462: UserWarning: The 'normed' kwarg is deprecated, and has been replaced by the 'density' kwarg.\n",
      "  warnings.warn(\"The 'normed' kwarg is deprecated, and has been \"\n"
     ]
    },
    {
     "data": {
      "image/png": "[encoded data removed]",
      "text/plain": [
       "<Figure size 432x288 with 1 Axes>"
      ]
     },
     "metadata": {},
     "output_type": "display_data"
    },
    {
     "data": {
      "image/png": "[encoded data removed]",
      "text/plain": [
       "<Figure size 432x288 with 1 Axes>"
      ]
     },
     "metadata": {},
     "output_type": "display_data"
    },
    {
     "name": "stdout",
     "output_type": "stream",
     "text": [
      "Average # of puncts in CB 0.16463414634146342\n",
      "Average # of puncts in non CB 0.062394261352101237\n"
     ]
    }
   ],
   "source": [
    "# use of punctuations\n",
    "## with only ?!\n",
    "def ana_punct(df):\n",
    "    def count_puncts(string):\n",
    "        return len(re.findall(r'[?!]',string))\n",
    "    \n",
    "    cb = df['postText'][df['label'] ==1].apply(count_puncts)\n",
    "    noncb = df['postText'][df['label']==0].apply(count_puncts)\n",
    "    \n",
    "    plt.figure()\n",
    "    cb[cb<=3].hist(normed = True)\n",
    "    plt.title('# punct in CB')\n",
    "    plt.show()\n",
    "    \n",
    "    plt.figure()\n",
    "    noncb.hist(normed = True)\n",
    "    plt.title('# punct in nonCB')\n",
    "    plt.show()\n",
    "    print('Average # of puncts in CB', cb[cb<=3].mean())\n",
    "    print('Average # of puncts in non CB', noncb.mean())\n",
    "    \n",
    "ana_punct(df)"
   ]
  },
  {
   "cell_type": "code",
   "execution_count": 8,
   "metadata": {},
   "outputs": [
    {
     "name": "stdout",
     "output_type": "stream",
     "text": [
      "proportion of CB that has at least one hashtag 0.08821676118462508\n",
      "proportion of nonCB that has at least one hashtag 0.111253975773161\n",
      "----------------------------------------------\n"
     ]
    },
    {
     "data": {
      "image/png": "[encoded data removed]",
      "text/plain": [
       "<Figure size 432x288 with 1 Axes>"
      ]
     },
     "metadata": {},
     "output_type": "display_data"
    },
    {
     "data": {
      "image/png": "[encoded data removed]",
      "text/plain": [
       "<Figure size 432x288 with 1 Axes>"
      ]
     },
     "metadata": {},
     "output_type": "display_data"
    },
    {
     "name": "stdout",
     "output_type": "stream",
     "text": [
      "average hashtags in CB 0.12770426381012392\n",
      "average hashtags in nonCB 0.15889558097042703\n"
     ]
    }
   ],
   "source": [
    "#check distribution of hash tag\n",
    "#### no obvious diff, try on more granuler level later\n",
    "def ana_hashtag(df):\n",
    "    def find_hashtags(string):\n",
    "    \n",
    "        return len(re.findall(r'#\\w+', string))\n",
    "\n",
    "    # find counts of hash tags\n",
    "    cb = df['postText'][df['label'] ==1].apply(find_hashtags)\n",
    "    noncb = df['postText'][df['label']==0].apply(find_hashtags)\n",
    "\n",
    "    # distribution of existence\n",
    "    print('proportion of CB that has at least one hashtag', (cb>0).sum()/len(cb))\n",
    "    print('proportion of nonCB that has at least one hashtag', (noncb>0).sum()/len(noncb))\n",
    "    print('----------------------------------------------')\n",
    "    \n",
    "\n",
    "    # distribution of the amount of hashtags\n",
    "    plt.figure()\n",
    "    cb.hist()\n",
    "    plt.title('# hashtags in CB')\n",
    "    plt.show()\n",
    "    \n",
    "    plt.figure()\n",
    "    noncb.hist()\n",
    "    plt.title('# hashtags in nonCB')\n",
    "    plt.show()\n",
    "    print('average hashtags in CB', cb.mean())\n",
    "    print('average hashtags in nonCB', noncb.mean())\n",
    "ana_hashtag(df)"
   ]
  },
  {
   "cell_type": "code",
   "execution_count": 9,
   "metadata": {},
   "outputs": [
    {
     "name": "stdout",
     "output_type": "stream",
     "text": [
      "Average sentiment in CB 0.09068424584052835\n",
      "Average sentiment in non CB 0.04882985075805805\n"
     ]
    },
    {
     "name": "stderr",
     "output_type": "stream",
     "text": [
      "/Users/tianyuyang/anaconda3/lib/python3.6/site-packages/matplotlib/axes/_axes.py:6462: UserWarning: The 'normed' kwarg is deprecated, and has been replaced by the 'density' kwarg.\n",
      "  warnings.warn(\"The 'normed' kwarg is deprecated, and has been \"\n"
     ]
    },
    {
     "data": {
      "image/png": "[encoded data removed]",
      "text/plain": [
       "<Figure size 432x288 with 1 Axes>"
      ]
     },
     "metadata": {},
     "output_type": "display_data"
    },
    {
     "data": {
      "image/png": "[encoded data removed]",
      "text/plain": [
       "<Figure size 432x288 with 1 Axes>"
      ]
     },
     "metadata": {},
     "output_type": "display_data"
    }
   ],
   "source": [
    "## sentiment and subjectivity\n",
    "def ana_sent(df):\n",
    "    tokenizer = nltk.tokenize.TweetTokenizer()\n",
    "    def get_sent_score(string):\n",
    "        #string  = re.sub(r'#\\w+','<hashtag>',string)\n",
    "        #string = re.sub(r'@\\w+', '<usertag>',string)\n",
    "        \n",
    "        return TextBlob(string).sentiment[0]\n",
    "    cb = df['postText'][df['label'] ==1].apply(get_sent_score)\n",
    "    noncb = df['postText'][df['label']==0].apply(get_sent_score)\n",
    "    \n",
    "    plt.figure()\n",
    "    cb.hist(normed = True)\n",
    "    plt.title('sentiment score in CB')\n",
    "\n",
    "    \n",
    "    plt.figure()\n",
    "    noncb.hist(normed = True)\n",
    "    plt.title('sentiment score in nonCB')\n",
    "\n",
    "    print('Average sentiment in CB', cb.mean())\n",
    "    print('Average sentiment in non CB', noncb.mean())\n",
    "ana_sent(df)\n",
    "        "
   ]
  },
  {
   "cell_type": "code",
   "execution_count": 10,
   "metadata": {},
   "outputs": [
    {
     "name": "stdout",
     "output_type": "stream",
     "text": [
      "Average subjectivity in CB 0.32158338491461813\n",
      "Average subjectivity in non CB 0.26471219617807296\n"
     ]
    },
    {
     "name": "stderr",
     "output_type": "stream",
     "text": [
      "/Users/tianyuyang/anaconda3/lib/python3.6/site-packages/matplotlib/axes/_axes.py:6462: UserWarning: The 'normed' kwarg is deprecated, and has been replaced by the 'density' kwarg.\n",
      "  warnings.warn(\"The 'normed' kwarg is deprecated, and has been \"\n"
     ]
    },
    {
     "data": {
      "image/png": "[encoded data removed]",
      "text/plain": [
       "<Figure size 432x288 with 1 Axes>"
      ]
     },
     "metadata": {},
     "output_type": "display_data"
    },
    {
     "data": {
      "image/png": "[encoded data removed]",
      "text/plain": [
       "<Figure size 432x288 with 1 Axes>"
      ]
     },
     "metadata": {},
     "output_type": "display_data"
    }
   ],
   "source": [
    "## sentiment and subjectivity\n",
    "def ana_subj(df):\n",
    "    tokenizer = nltk.tokenize.TweetTokenizer()\n",
    "    def get_sent_score(string):\n",
    "        #string  = re.sub(r'#','',string)\n",
    "        #string = re.sub(r'@', '',string)\n",
    "        \n",
    "        return TextBlob(string).sentiment[1]\n",
    "    cb = df['postText'][df['label'] ==1].apply(get_sent_score)\n",
    "    noncb = df['postText'][df['label']==0].apply(get_sent_score)\n",
    "    \n",
    "    plt.figure()\n",
    "    cb.hist(normed = True)\n",
    "    plt.title('sentiment score in CB')\n",
    "\n",
    "    \n",
    "    plt.figure()\n",
    "    noncb.hist(normed = True)\n",
    "    plt.title('sentiment score in nonCB')\n",
    "\n",
    "    print('Average subjectivity in CB', cb.mean())\n",
    "    print('Average subjectivity in non CB', noncb.mean())\n",
    "ana_subj(df)\n",
    "        "
   ]
  },
  {
   "cell_type": "code",
   "execution_count": 11,
   "metadata": {},
   "outputs": [
    {
     "name": "stdout",
     "output_type": "stream",
     "text": [
      "proportion of titles contains superlative adjective\n",
      "For CB:  0.07372400756143667\n",
      "Non CB:  0.04642349597347229\n"
     ]
    }
   ],
   "source": [
    "# sentiment \n",
    "# superlative adjective\n",
    "def ana_sup(df):\n",
    "    def count_sup(string):\n",
    "        for i in nltk.pos_tag(nltk.word_tokenize(string.lower())):\n",
    "            if i[1] == 'JJS':return 1\n",
    "        return 0\n",
    "    cb = df['postText'][df['label'] ==1].apply(count_sup)\n",
    "    noncb = df['postText'][df['label']==0].apply(count_sup)\n",
    "    print('proportion of titles contains superlative adjective')\n",
    "    print('For CB: ', cb.mean())\n",
    "    print('Non CB: ', noncb.mean())\n",
    "ana_sup(df)"
   ]
  },
  {
   "cell_type": "code",
   "execution_count": 12,
   "metadata": {},
   "outputs": [
    {
     "name": "stdout",
     "output_type": "stream",
     "text": [
      "proportion of posts that start with number\n",
      "Proportion For CB:  0.13925645872715817\n",
      "Proportion for Non CB:  0.03173851255329228\n",
      "total for CB 663  out of  4761\n",
      "total for nonCB 469  out of  14777\n"
     ]
    }
   ],
   "source": [
    "# starting with number\n",
    "# drop prior stop words\n",
    "# count adjectives \n",
    "def ana_start(df):\n",
    "    sws = set(nltk.corpus.stopwords.words('english'))\n",
    "    numbers = {'one', 'two', 'three', 'four', 'five', 'six', 'nine','ten'}\n",
    "    def swithnum(string):\n",
    "        # the first nonstopword\n",
    "        tokens = nltk.word_tokenize(string)\n",
    "        \n",
    "        fw = None\n",
    "        for i,t in zip(tokens, nltk.pos_tag(tokens)):\n",
    "            if i.lower() not in sws and not t[1].startswith('JJ'):\n",
    "                fw = i\n",
    "                break\n",
    "        if fw and (fw.isnumeric() or fw.lower() in numbers):\n",
    "            return 1\n",
    "        else:        return 0\n",
    "    cb = df['postText'][df['label'] ==1].apply(swithnum)\n",
    "    noncb = df['postText'][df['label']==0].apply(swithnum)\n",
    "    print('proportion of posts that start with number')\n",
    "    print('Proportion For CB: ', cb.mean())\n",
    "    print('Proportion for Non CB: ', noncb.mean())\n",
    "    print('total for CB', cb.sum(), ' out of ', len(cb))\n",
    "    print('total for nonCB', noncb.sum(), ' out of ', len(noncb))\n",
    "ana_start(df)"
   ]
  }
 ],
 "metadata": {
  "kernelspec": {
   "display_name": "Python 3",
   "language": "python",
   "name": "python3"
  },
  "language_info": {
   "codemirror_mode": {
    "name": "ipython",
    "version": 3
   },
   "file_extension": ".py",
   "mimetype": "text/x-python",
   "name": "python",
   "nbconvert_exporter": "python",
   "pygments_lexer": "ipython3",
   "version": "3.6.5"
  }
 },
 "nbformat": 4,
 "nbformat_minor": 2
}
