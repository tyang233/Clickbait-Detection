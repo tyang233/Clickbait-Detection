{
  "nbformat": 4,
  "nbformat_minor": 0,
  "metadata": {
    "colab": {
      "name": "Benita Neo COSC586 Data exploration",
      "version": "0.3.2",
      "provenance": [],
      "collapsed_sections": []
    },
    "kernelspec": {
      "name": "python3",
      "display_name": "Python 3"
    }
  },
  "cells": [
    {
      "metadata": {
        "id": "3Ee6phlj8iqF",
        "colab_type": "text"
      },
      "cell_type": "markdown",
      "source": [
        "##Benita Neo \n",
        "## cosc586 project"
      ]
    },
    {
      "metadata": {
        "id": "9nb4FaNywEip",
        "colab_type": "code",
        "colab": {}
      },
      "cell_type": "code",
      "source": [
        "import json"
      ],
      "execution_count": 0,
      "outputs": []
    },
    {
      "metadata": {
        "id": "5gFM-2Gczr0w",
        "colab_type": "code",
        "colab": {
          "resources": {
            "http://localhost:8080/nbextensions/google.colab/files.js": {
              "data": "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",
              "ok": true,
              "headers": [
                [
                  "content-type",
                  "application/javascript"
                ]
              ],
              "status": 200,
              "status_text": ""
            }
          },
          "base_uri": "https://localhost:8080/",
          "height": 89
        },
        "outputId": "6e1c5fc1-41dc-4285-9c53-ee7d98483709"
      },
      "cell_type": "code",
      "source": [
        "from google.colab import files\n",
        "\n",
        "uploaded = files.upload()\n",
        "\n",
        "for fn in uploaded.keys():\n",
        "  print('User uploaded file \"{name}\" with length {length} bytes'.format(\n",
        "      name=fn, length=len(uploaded[fn])))"
      ],
      "execution_count": 2,
      "outputs": [
        {
          "output_type": "display_data",
          "data": {
            "text/html": [
              "\n",
              "     <input type=\"file\" id=\"files-9ce3ea9c-4e45-4bee-b076-abcaf2c3d34c\" name=\"files[]\" multiple disabled />\n",
              "     <output id=\"result-9ce3ea9c-4e45-4bee-b076-abcaf2c3d34c\">\n",
              "      Upload widget is only available when the cell has been executed in the\n",
              "      current browser session. Please rerun this cell to enable.\n",
              "      </output>\n",
              "      <script src=\"/nbextensions/google.colab/files.js\"></script> "
            ],
            "text/plain": [
              "<IPython.core.display.HTML object>"
            ]
          },
          "metadata": {
            "tags": []
          }
        },
        {
          "output_type": "stream",
          "text": [
            "Saving instances.jsonl to instances.jsonl\n",
            "User uploaded file \"instances.jsonl\" with length 12517693 bytes\n"
          ],
          "name": "stdout"
        }
      ]
    },
    {
      "metadata": {
        "id": "IoukS4sen9K4",
        "colab_type": "code",
        "colab": {
          "resources": {
            "http://localhost:8080/nbextensions/google.colab/files.js": {
              "data": "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",
              "ok": true,
              "headers": [
                [
                  "content-type",
                  "application/javascript"
                ]
              ],
              "status": 200,
              "status_text": ""
            }
          },
          "base_uri": "https://localhost:8080/",
          "height": 89
        },
        "outputId": "76949dd2-2fbd-4865-f262-dc129a4fea0c"
      },
      "cell_type": "code",
      "source": [
        "from google.colab import files\n",
        "\n",
        "upl = files.upload()\n",
        "\n",
        "for fn in upl.keys():\n",
        "  print('User uploaded file \"{name}\" with length {length} bytes'.format(\n",
        "      name=fn, length=len(upl[fn])))"
      ],
      "execution_count": 4,
      "outputs": [
        {
          "output_type": "display_data",
          "data": {
            "text/html": [
              "\n",
              "     <input type=\"file\" id=\"files-d3584c1b-c530-4b6f-9525-7414644ecbe7\" name=\"files[]\" multiple disabled />\n",
              "     <output id=\"result-d3584c1b-c530-4b6f-9525-7414644ecbe7\">\n",
              "      Upload widget is only available when the cell has been executed in the\n",
              "      current browser session. Please rerun this cell to enable.\n",
              "      </output>\n",
              "      <script src=\"/nbextensions/google.colab/files.js\"></script> "
            ],
            "text/plain": [
              "<IPython.core.display.HTML object>"
            ]
          },
          "metadata": {
            "tags": []
          }
        },
        {
          "output_type": "stream",
          "text": [
            "Saving truth.jsonl to truth.jsonl\n",
            "User uploaded file \"truth.jsonl\" with length 418655 bytes\n"
          ],
          "name": "stdout"
        }
      ]
    },
    {
      "metadata": {
        "id": "ewFXvCM_2T17",
        "colab_type": "code",
        "colab": {
          "base_uri": "https://localhost:8080/",
          "height": 34
        },
        "outputId": "9d5cdf59-b124-4ebb-c8bc-ddfafc295b68"
      },
      "cell_type": "code",
      "source": [
        "files.os.listdir()"
      ],
      "execution_count": 5,
      "outputs": [
        {
          "output_type": "execute_result",
          "data": {
            "text/plain": [
              "['.config', 'sample_data', 'truth.jsonl', 'instances.jsonl']"
            ]
          },
          "metadata": {
            "tags": []
          },
          "execution_count": 5
        }
      ]
    },
    {
      "metadata": {
        "id": "yQrkHAl424SV",
        "colab_type": "code",
        "colab": {}
      },
      "cell_type": "code",
      "source": [
        "data = [json.loads(line) for line in open('instances.jsonl')]\n",
        "#data=json.load(open('instances.jsonl'))\n",
        "\n",
        "datatruth = [json.loads(line) for line in open('truth.jsonl')]"
      ],
      "execution_count": 0,
      "outputs": []
    },
    {
      "metadata": {
        "id": "RMoWK3934eq1",
        "colab_type": "code",
        "colab": {
          "base_uri": "https://localhost:8080/",
          "height": 3539
        },
        "outputId": "ba0cf0ca-35e4-4dcc-8668-8dae9cb4e30b"
      },
      "cell_type": "code",
      "source": [
        "data[:5]"
      ],
      "execution_count": 7,
      "outputs": [
        {
          "output_type": "execute_result",
          "data": {
            "text/plain": [
              "[{'id': '608310377143799810',\n",
              "  'postMedia': [],\n",
              "  'postText': [\"Apple's iOS 9 'App thinning' feature will give your phone's storage a boost\"],\n",
              "  'postTimestamp': 'Tue Jun 09 16:31:10 +0000 2015',\n",
              "  'targetCaptions': [\"'App thinning' will be supported on Apple's iOS 9 and later models. It ensures apps use the lowest amount of storage space on a device by only downloading the parts it needs to run on individual handsets. It 'slices' the app into 'app variants' that only need to access the specific files on that specific device\",\n",
              "   \"'App thinning' will be supported on Apple's iOS 9 and later models. It ensures apps use the lowest amount of storage space on a device by only downloading the parts it needs to run on individual handsets. It 'slices' the app into 'app variants' that only need to access the specific files on that specific device\",\n",
              "   \"The guidelines also discuss so-called 'on-demand resources.' This allows developers to omit features from an app until they are opened or requested by the user. The App Store hosts these resources on Apple servers and manages the downloads for the developer and user.\\xa0This will also increase how quickly an app downloads\",\n",
              "   \"The guidelines also discuss so-called 'on-demand resources.' This allows developers to omit features from an app until they are opened or requested by the user. The App Store hosts these resources on Apple servers and manages the downloads for the developer and user.\\xa0This will also increase how quickly an app downloads\",\n",
              "   \"Apple said it will then 'purge on-demand resources when they are no longer needed and disk space is low' (Apple's storage menu is pictured)\",\n",
              "   \"Apple said it will then 'purge on-demand resources when they are no longer needed and disk space is low' (Apple's storage menu is pictured)\",\n",
              "   'A 64GB Apple iPhone 6 is typically left with 56GB of free space after pre-installed apps, system files and software is included. A drop of 8GB, leaving 87.5 % of storage free.\\xa0Previous handsets, including the Samsung Galaxy S4 and Apple iPhone 5C typically ranged from between 54% and 79% of free space (illustrated)',\n",
              "   'A 64GB Apple iPhone 6 is typically left with 56GB of free space after pre-installed apps, system files and software is included. A drop of 8GB, leaving 87.5 % of storage free.\\xa0Previous handsets, including the Samsung Galaxy S4 and Apple iPhone 5C typically ranged from between 54% and 79% of free space (illustrated)',\n",
              "   \"Earlier this year, a pair of disgruntled Apple users filed a lawsuit in Miami accusing the tech giant of 'concealing, omitting and failing to disclose' that on 16GB versions of iPhones, more than 20% of the advertised space isn't available. This graph reveals the capacity available and unavailable to the user\",\n",
              "   \"Earlier this year, a pair of disgruntled Apple users filed a lawsuit in Miami accusing the tech giant of 'concealing, omitting and failing to disclose' that on 16GB versions of iPhones, more than 20% of the advertised space isn't available. This graph reveals the capacity available and unavailable to the user\"],\n",
              "  'targetDescription': \"'App thinning' will be supported on Apple's iOS 9 and later models. It ensures apps use the lowest amount of storage space by 'slicing' it to work on individual handsets (illustrated).\",\n",
              "  'targetKeywords': 'Apple,gives,gigabytes,iOS,9,app,thinning,feature,finally,phone,s,storage,boost',\n",
              "  'targetParagraphs': [\"Paying for a 64GB phone only to discover that this is significantly reduced by system files and bloatware is the bane of many smartphone owner's lives.\\xa0\",\n",
              "   'And the issue became so serious earlier this year that some Apple users even sued the company over it.\\xa0',\n",
              "   \"But with the launch of iOS 9, Apple is hoping to address storage concerns by introducing a feature known as 'app thinning.'\",\n",
              "   'It has been explained on the watchOS Developer Library site and is aimed at developers looking to optimise their apps to work on iOS and the watchOS.\\xa0',\n",
              "   'It ensures apps use the lowest amount of storage space on a device by only downloading the parts it needs run on the particular handset it is being installed onto.',\n",
              "   \"It 'slices' the app into 'app variants' that only need to access the specific files on that specific handset.\\xa0\",\n",
              "   \"XperiaBlog recently spotted that the 8GB version of Sony's mid-range M4 Aqua has just 1.26GB of space for users.\\xa0\",\n",
              "   'This means that firmware, pre-installed apps and Android software take up a staggering 84.25 per cent.\\xa0',\n",
              "   \"Sony does let users increase storage space using a microSD card, but as XperiaBlog explained: 'Sony should never have launched an 8GB version of the Xperia M4 Aqua.\\xa0\",\n",
              "   \"'If you are thinking about purchasing this model, be aware of what you are buying into.'\",\n",
              "   \"Previously, apps would need to be able to run on all handsets and account for the varying files, chipsets and power so contained sections that weren't always relevant to the phone it was being installed on.\",\n",
              "   'This made them larger than they needed to be.\\xa0',\n",
              "   'Under the new plans, when a phone is downloaded from the App Store, the app recognises which phone it is being installed onto and only pulls in the files and code it needs to work on that particular device.\\xa0',\n",
              "   'For iOS, sliced apps are supported on the latest iTunes and on devices running iOS 9.0 and later.\\xa0',\n",
              "   \"In all other cases, the App Store will deliver the previous 'universal apps' to customers.\",\n",
              "   \"The guidelines also discuss so-called 'on-demand resources.'\\xa0This allows developers to omit features from an app until they are opened or requested by the user.\\xa0\",\n",
              "   'The App Store hosts these resources on Apple servers and manages the downloads for the developer and user.\\xa0',\n",
              "   'This will also increase how quickly an app downloads.\\xa0',\n",
              "   'An example given by Apple is a game app that may divide resources into game levels and request the next level of resources only when the app anticipates the user has completed the previous level.',\n",
              "   'Similarly, the app can request In-App Purchase resources only when the user buys a corresponding in-app purchase.',\n",
              "   \"Apple explained the operating system will then 'purge on-demand resources when they are no longer needed and disk space is low', removing them until they are needed again.\",\n",
              "   'And the whole iOS 9 software has been designed to be thinner during updates, namely from 4.6GB to 1.3GB, to free up space.\\xa0',\n",
              "   'This app thinning applies to third-party apps created by developers.\\xa0',\n",
              "   \"Apple doesn't say if it will apply to the apps Apple pre-installed on devices, such as Stocks, Weather and Safari - but it is likely that it will in order to make iOS 9 smaller.\\xa0\",\n",
              "   'As an example of storage space on Apple devices, a 64GB Apple iPhone 6 is typically left with 56GB of free space after pre-installed apps, system files and software is included.\\xa0',\n",
              "   'A drop of 8GB, leaving 87.5 per cent of storage free.\\xa0',\n",
              "   \"By comparison, Samsung's 64GB S6 Edge has 53.42GB of available space, and of this 9GB is listed as system memory.\\xa0\",\n",
              "   'Although this is a total drop of almost 11GB, it equates to 83 per cent of space free.\\xa0',\n",
              "   'By comparison, on a 32GB S6 MailOnline found 23.86GB of space was available, with 6.62GB attributed to system memory.',\n",
              "   'This is a drop of just over 8GB and leaves 75 per cent free.',\n",
              "   'Samsung said it, too, had addressed complaints about bloatware and storage space with its S6 range. \\xa0',\n",
              "   'Previous handsets, including the Samsung Galaxy S4 and Apple iPhone 5C typically ranged from between 54 per cent and 79 per cent of free space.',\n",
              "   '\\xa0',\n",
              "   \"Businessman 'killed his best friend when he crashed jet-powered dinghy into his £1million yacht while showing off' as his wife filmed them\"],\n",
              "  'targetTitle': \"Apple gives back gigabytes: iOS 9 'app thinning' feature will finally give your phone's storage a boost\"},\n",
              " {'id': '609297109095972864',\n",
              "  'postMedia': ['media/609297109095972864.jpg'],\n",
              "  'postText': ['RT @kenbrown12: Emerging market investors are doing their best Monty Pythons--\"Run away, run away\"'],\n",
              "  'postTimestamp': 'Fri Jun 12 09:52:05 +0000 2015',\n",
              "  'targetCaptions': ['Stocks Fall as Investors Watch Central Banks',\n",
              "   'Do Traders See Data Before Release? Markets Say Yes',\n",
              "   'Be Careful: Stock Volatility is Hiding, Not Hibernating',\n",
              "   'Singapore Bans Ex-Goldman Banker Linked to 1MDB From Working in Financial Sector',\n",
              "   'Demanding and Direct: HSBC’s New Chairman Mark Tucker',\n",
              "   'Saudi King’s Asia Expedition Enters Crucial Phase',\n",
              "   'Puerto Rico Board Approves Fiscal Road Map',\n",
              "   'CFPB, Justice Department Poised to Square Off in Court',\n",
              "   'Raphael Bostic to Lead Atlanta Fed',\n",
              "   'Blackstone Sells Part of Stake in NCR',\n",
              "   'Dartmouth College Appoints Alice Ruth as New Endowment Chief',\n",
              "   'Hedge-Fund Loses Big on Oil Bets',\n",
              "   'Buyout Firm Buys $800 Million of Assets From Itself',\n",
              "   'J.P. Morgan Moves Ahead With Plan to Drop Commissions in IRAs',\n",
              "   'Fed Signal Could Revive a Problem for China’s Central Bank',\n",
              "   'Why Apple and Pfizer Are Piling Into Taiwan’s Bond Market',\n",
              "   '[https://m.wsj.net/video/20170312/031017vinny/031017vinny_167x94.jpg]',\n",
              "   '[https://m.wsj.net/video/20170303/0307lotd_boca/0307lotd_boca_167x94.jpg]',\n",
              "   '[https://m.wsj.net/video/20170313/031317dutchelex/031317dutchelex_167x94.jpg]',\n",
              "   '[https://m.wsj.net/video/20170313/031317lina/031317lina_167x94.jpg]',\n",
              "   '[https://m.wsj.net/video/20170313/031317scotref/031317scotref_167x94.jpg]',\n",
              "   'You’re Not Busy, You’re Just Rude',\n",
              "   'Credit Reports to Exclude Certain Negative Data, Boosting FICO Scores',\n",
              "   'CIA Contractors Questioned About WikiLeaks Dump',\n",
              "   'Your Pension Check May Soon Be Coming From an Insurance Company',\n",
              "   'Intel Makes Big Bet on Self-Driving Tech in Mobileye Deal',\n",
              "   '[https://m.wsj.net/video/20170312/031017vinny/031017vinny_167x94.jpg]',\n",
              "   '[https://m.wsj.net/video/20170303/0307lotd_boca/0307lotd_boca_167x94.jpg]',\n",
              "   '[https://m.wsj.net/video/20170313/031317dutchelex/031317dutchelex_167x94.jpg]',\n",
              "   '[https://m.wsj.net/video/20170313/031317lina/031317lina_167x94.jpg]',\n",
              "   '[https://m.wsj.net/video/20170313/031317scotref/031317scotref_167x94.jpg]',\n",
              "   'You’re Not Busy, You’re Just Rude',\n",
              "   'Credit Reports to Exclude Certain Negative Data, Boosting FICO Scores',\n",
              "   'CIA Contractors Questioned About WikiLeaks Dump',\n",
              "   'Your Pension Check May Soon Be Coming From an Insurance Company',\n",
              "   'Intel Makes Big Bet on Self-Driving Tech in Mobileye Deal'],\n",
              "  'targetDescription': 'Global investors have yanked $9.3 billion from stocks in developing countries in the week to Wednesday, the most since the depths of the 2008 global financial crisis.',\n",
              "  'targetKeywords': 'emerging market,emerging markets,em flows,em inflow,em outflow,equity markets,money,forex markets,commodity,financial market news',\n",
              "  'targetParagraphs': ['Emerging markets are out of favor.',\n",
              "   'Global investors have yanked $9.3 billion from stocks in developing countries in the week to Wednesday, the most since the depths of the global financial crisis in 2008. Asia has been particularly vulnerable with $7.9 billion pulled out of the region’s equity markets, the most in almost 15 years, according to data provider EPFR Global.',\n",
              "   'Financial markets in emerging markets have been grinding...'],\n",
              "  'targetTitle': 'Emerging Markets Suffer Largest Outflow in Seven Years'},\n",
              " {'id': '609504474621612032',\n",
              "  'postMedia': [],\n",
              "  'postText': ['U.S. Soccer should start answering tough questions about Hope Solo, @eric_adelson writes.'],\n",
              "  'postTimestamp': 'Fri Jun 12 23:36:05 +0000 2015',\n",
              "  'targetCaptions': ['US to vote for Ali in FIFA election and not Blatter',\n",
              "   'US to vote for Ali in FIFA election and not Blatter',\n",
              "   \"FILE - This Oct. 10, 2014, file photo shows Sunil Gulati, president of the United States Soccer Federation, during a press conference in Bristol, Conn. The United States says it will vote for Jordan's Prince Ali bin Al-Hussein for FIFA president Friday, May 29, 2015 and not for incumbent Sepp Blatter. (AP Photo/Elise Amendola, File)\"],\n",
              "  'targetDescription': \"A U.S. Senator's scathing letter questioned U.S. Soccer's inadequate handling of Solo's domestic violence charges. It's time for Sunil Gulati to respond.\",\n",
              "  'targetKeywords': '',\n",
              "  'targetParagraphs': [\"WINNIPEG, Manitoba – The bubble U.S. Soccer is putting around Hope Solo isn't working to calm anyone's concerns about the star goalkeeper.\",\n",
              "   \"The latest lament comes from no less than a U.S. Senator, who into Solo's domestic violence incident of last year and offer a detailed explanation of why Solo is on the field. She is expected to be the starting goalkeeper when the USA plays Sweden in its second group game at the Women's World Cup on Friday.\",\n",
              "   '[FC Yahoo: ]',\n",
              "   'U.S. Senator Richard Blumenthal of Connecticut penned a lengthy complaint about the near-silence the organization has given on Solo, especially in the wake of ESPN\\'s \"Outside the Lines\" report on Sunday. Blumenthal wrote that if the report is accurate \"U.S. Soccer\\'s approach to domestic violence and family violence is at best superficial and at worst dangerously neglectful and self-serving.\"',\n",
              "   'This situation is well beyond Solo now. U.S. Soccer has made this a referendum about its own ability to represent the values of the nation. \"As boys and girls tune into Friday\\'s game, watching the women on TV as role models,\" Blumenthal wrote, \"what is the message of starting Hope Solo at goal?\"',\n",
              "   \"[Women's World Cup: | | | ]\",\n",
              "   \"U.S. Soccer is not only avoiding difficult questions, it is also avoiding an account of all its actions. Even NFL commissioner Roger Goodell has, to some extent, owned up to his failures on the Ray Rice case, yet Gulati has not even decried Solo's poor decisions.\",\n",
              "   \"Last September, three months after Solo's domestic violence charges (which were later ), Gulati released this vague statement on the matter:\",\n",
              "   '\"U.S. Soccer takes the issue of domestic violence very seriously. From the beginning, we considered the information available and have taken a deliberate and thoughtful approach regarding Hope Solo\\'s status with the national team. Based on that information, U.S. Soccer stands by our decision to allow her to participate with the team as the legal process unfolds. If new information becomes available we will carefully consider it.\"',\n",
              "   \"A lot of this would be solved if Gulati and Solo held a press conference and claimed some accountability. It's clear from Monday's dominant performance in a 3-1 tournament-opening win over Australia that Solo is not distracted by the national discussion of her past, so a short appearance – even without reporters' questions – probably won't ruin the U.S.'s chances for a trophy. And claiming that Solo has a match to focus on isn't credible as it's basically an admission that a single game is more important than a discussion of domestic violence.\",\n",
              "   \"For Gulati, there is little excuse. The silence, the lack of punishment and then the decision to allow head coach Jill Ellis to discuss (or not discuss) the situation here, combines to make the top official of American soccer look like he doesn't prioritize this issue.\",\n",
              "   '\"In the wake of this violent incident, U.S. Soccer offered no comment publicly for three months,\" Blumenthal wrote. \"It finally issued a statement that was purportedly the result of a \\'deliberate and thoughtful approach\\' to consider the incident and determine Hope Solo\\'s status with the team, but it neglected to include an effort to contact the alleged victims.\"',\n",
              "   'The more U.S. Soccer tries to shift focus to the field, the less it accomplishes that. This is the Super Bowl of women\\'s soccer, and decrying this as \"old news\" doesn\\'t work because the entire country is watching now. Countless Americans are debating whether to root for Solo or not, and her protectors are effectively convincing a lot of people to remain skeptical of her.',\n",
              "   \"It doesn't have to be this way. A better explanation of what Gulati has done on this topic – and a better explanation of what Solo has done to work on her problems – would go a long way toward moving on, especially the way U.S. Soccer clearly wants. Instead, there is opacity where there should be transparency.\",\n",
              "   'The NFL has come under a lot of scrutiny for its efforts to \"protect the shield,\" but U.S. Soccer\\'s shield stands for a lot more than just a sport. That shield shouldn\\'t only be used to defend a player.',\n",
              "   '735'],\n",
              "  'targetTitle': 'U.S. Soccer should start answering tough questions about Hope Solo'},\n",
              " {'id': '609748367049105409',\n",
              "  'postMedia': [],\n",
              "  'postText': ['How theme parks like Disney World left the middle class behind'],\n",
              "  'postTimestamp': 'Sat Jun 13 15:45:13 +0000 2015',\n",
              "  'targetCaptions': ['Some 1,000 persons turned out in Albuquerque, New Mexico to greet Mickey Mouse on Nov. 14, 1978, as he celebrated his 50th birthday with a whistle-stop train tour. (AP Photo/John Holmes)',\n",
              "   'Tourists crowd around Cinderella’s Castle to watch a performance at Walt Disney World’s Magic Kingdom in Lake Buena Vista, Fla., Thursday, Sept. 2, 2004. (AP Photo/Phelan M. Ebenhack)',\n",
              "   'Card Walker, right, president and chief operating officer for Walt Disney Inc., kicks off Disney World’s tenth birthday celebration by welcoming the William Windsor family in Orlando, Oct. 1, 1981. The Windsors were the first to see the Magic Kingdom, when it first opened ten years before. (AP Photo)',\n",
              "   'Views of the private Cinderella luxury suite at the top of Cinderella’s Castle at Walt Disney World’s Magic Kingdom in Lake Buena Vista, Fla. are seen on Friday, Jan. 26,2006. A night’s stay at the castle was one of prizes given randomly to unsuspecting park guests recently as part of the launch of Disney’s “Year of a Million Dreams” campaign.” (AP Photo/Reinhold Matay)'],\n",
              "  'targetDescription': 'America\\'s top family vacation spots, like the \"happiest place on earth,\" are increasingly aimed at upscale buyers.',\n",
              "  'targetKeywords': 'disney, disney world, disney ticket prices, disney world prices, disneyland, disneyworld, disney world price, trip to disney world, ',\n",
              "  'targetParagraphs': ['When Walt Disney World opened in an Orlando swamp in 1971, with its penny arcade and marching-band parade down Main Street U.S.A., admission for an adult cost $3.50, about as much then as three gallons of milk.',\n",
              "   'Disney has raised the gate price for the Magic Kingdom 41 times since, nearly doubling it over the past decade. This year, a ticket inside the “most magical place on Earth” rocketed past $100 for the first time in history.',\n",
              "   'Ballooning costs have not slowed the mouse-eared masses flooding into the world’s busiest theme park. Disney’s main attraction hosted a record 19\\xa0million visitors last year, a number nearly as large as the population of New York state.',\n",
              "   'But rising prices have changed the character of Big Mouse’s family-friendly empire in unavoidably glitzy ways. A visitor to Disney’s central Florida fantasy-land can now dine on a $115 steak, enjoy a $53-per-plate dessert party and sleep in a bungalow overlooking the Seven Seas Lagoon starting at $2,100 a night.',\n",
              "   'For America’s middle-income vacationers, the Mickey Mouse club, long promoted as “made for you and me,” seems increasingly made for someone else. But far from easing back, the theme-park giant’s prices are expected to climb even more through a surge-pricing system that could value a summer’s day of rides and lines at $125.',\n",
              "   '“If Walt [Disney] were alive today, he would probably be uncomfortable with the prices they’re charging right now,” said Scott Smith, an assistant professor of hospitality at the University of South Carolina whose first job was as a cast member in Disney’s Haunted Mansion. “They’ve priced middle-class families out.”',\n",
              "   '\\xa0',\n",
              "   'As one of the biggest man-made attractions on the planet, Disney World has led the way for the theme-park industry to boost its prices, often on a yearly basis. Universal, Six Flags and other parks in Orlando, Southern California and elsewhere have followed in Mickey’s big footprints, worried they will otherwise look like bargain-barrel runners-up.',\n",
              "   'Disney and theme-park leaders have defended their rising prices as a logical response to record-setting attendance, with Disney spokeswoman Jacquee Wahler saying the company is “committed to ensuring all our guests have a magical experience.”',\n",
              "   '“We continually add new experiences, and many of our guests select multi-day tickets or annual passes, which provide great value and additional savings,” Wahler said. “A day at a Disney park is unlike any other in the world.”',\n",
              "   'But some see Disney’s magically ascending price tag as a reflection of the country’s economy, where stagnant wages and growing inequality have transformed even the way Americans take time off.',\n",
              "   '“When Walt created Disneyland, this was a middle-class country. But Disney now . . . as far as pricing out the middle class, they think: What middle class?” said Robert Niles, the editor of Theme Park Insider, an industry blog.',\n",
              "   '“Disney’s made a strategic decision that they’re not going to discount to hold onto people at the middle part of the economy,” he said. “They’re going to set their prices at the top 10 percent of family incomes and make their money where the money is.”',\n",
              "   'American theme parks were built on deep roots in middle-class family entertainment, having expanded as outgrowths of low-cost getaways such as New York’s Coney Island, dubbed the “Nickel Empire” for its thrift.',\n",
              "   'When Walt Disney, the cartoon and business mogul, opened Disneyland in Southern California in the mid-’50s for $1 a ticket, many expected it would fail. Most amusement parks then were raucous affairs, with free admission.',\n",
              "   '“I could never convince the financiers that Disneyland was feasible,” Disney famously said, “because dreams offer too little collateral.”',\n",
              "   'But over the years, as Disney’s movie and toy deals helped it explode into a $184\\xa0billion behemoth, its theme parks became one of Mickey’s most unstoppable moneymakers. Disney’s parks and resorts’ profits have nearly doubled over the past five years, to $2.6\\xa0billion in fiscal 2014.',\n",
              "   'Advertised for years as a once-in-a-lifetime experience, Disney’s parks have continually set new visitor records: During the winter holidays, its Orlando parks hosted 250,000 guests at a time, chief executive Bob Iger told analysts this year. Attendance rose 17 percent last year at Universal Studios Florida, America’s biggest non-Disney park, because of the success of its Harry Potter-themed mini-towns.',\n",
              "   'Disney park admissions revenue has grown about 10 percent every year for the past decade, to total more than $5\\xa0billion in 2014, financial filings show. (That’s not including park food, drinks or merchandise, which brought in another $5\\xa0billion.)',\n",
              "   'The parks have faced little resistance, even as prices have climbed. Tickets for the Magic Kingdom were increased 6 percent this year, to $105 plus tax, while entrance to other Orlando parks — Epcot, Animal Kingdom, Universal Studios — can’t be bought for less than $90.',\n",
              "   'Those costs have in recent years helped shunt tourists to smaller regional parks — but many of those have raised prices as well. Six Flags, which runs 800 rides across 18 North American parks, increased prices last spring and now charges $62 at its Maryland park. At American theme parks, per-person spending has climbed 33 percent since 2008, to about $56.23, data from the International Association of Amusement Parks and Attractions show.',\n",
              "   'Park watchers have worried that the rising costs are blocking out wishful visitors, especially because a third of the Americans visiting the country’s theme parks are younger than 18, data from industry researcher IBISWorld show. In a report this month, the Themed Entertainment Association, an industry group, called “the continued stagnation of -middle-class incomes” one of its biggest challenges.',\n",
              "   'But as long as places like the Magic Kingdom can pull in more than 80,000 visitors a day, experts said the industry is happy to profit off a richer clientele. In recent years, Orlando tourists’ average household income peaked at about $93,000, more than $20,000 higher than the average U.S. household wage, data from the tourism bureau Visit Orlando show.',\n",
              "   'The price hikes won’t slow until the park sees a dip in demand, experts say. If anything, Disney is experimenting with how to persuade parkgoers to pay even more. Disney surveys sent last month to guests suggested the giant was considering a tiered pricing structure that would clock peak-time “Gold” tickets, during summer and winter holidays, at $125. “Bronze”-level $105 tickets would allow entrance during less busy times, such as weekdays.',\n",
              "   'Wahler, the Disney spokeswoman, would not say whether the pricing would change, adding, “We regularly survey our guests on a variety of ideas.” But analysts said it could prove to be one of Disney’s biggest, boldest pricing hikes yet.',\n",
              "   '“They’ve been aggressively raising pricing because they’re looking at themselves as a premium price, a premium brand,” said Scott Sanders, vice president of pricing for Disney’s parks and resorts between 2004 and 2009.',\n",
              "   '“Every child feels like they’re entitled to a Disney vacation, and I think they’ve played off that, letting the emotions lay in until the family says to do it. They’re recognizing they can capture demand across the price curve. So why not take advantage of what people are willing to pay?”',\n",
              "   'Disney says it has made an effort to keep its gates open to all, offering -packages such as multi-day tickets and yearly passes to help balance out the costs. The “Magical Express,” a free shuttle from the airport into the sprawling park’s center, also shepherds tourists past the rental cars and rival attractions that would allow them to spend more time and money outside its gates.',\n",
              "   'The fun-per-hour value of the experience is still high, Disney executives say, because a tourist can spend all day there (as opposed to, say, a blockbuster movie). They add that higher gate prices have helped Disney invest in new, better attractions.',\n",
              "   'Disney World last year spent $425\\xa0million to expand Fantasyland, marked by the opening of a new Seven Dwarfs Mine Train roller coaster. Next spring at Epcot, Disney will retool its Norwegian-mythology flume ride, Maelstrom, into Frozen Ever After, where visitors will float past a skating Olaf and Elsa in an ice castle, singing “Let It Go” amid a sparkling, simulated snow.',\n",
              "   'But much of the recent innovation in the theme-park industry, experts said, has gone toward retooling it as a playground for the rich and their kids. The industry has increasingly “stratified its offerings,” said Sanders, Disney’s former pricing -executive, by offering more to attract visitors like “the ‘Wall Street dads,’ who have the obligation to bring the kids to Disney but want to do it as quickly as they can and are least sensitive to pricing of anyone.”',\n",
              "   'Parks now offer a variety of special upgrades aimed at the vacationing 1\\xa0percent, including after-hours parties, dine-with-princess events and guided tours such as SeaWorld Orlando’s “Private Elite VIP tour,” which bumps buyers to the fronts of lines and allows them to feed dolphins, sea lions and rays.',\n",
              "   'Disney’s two Bibbidi Bobbidi Boutiques sell a $195 pampering for little girls that includes a makeover, hair-styling, a costume and a princess sash.',\n",
              "   'The luxury has found its way back to the hotel room, as well. The Polynesian Village Resort — one of Disney World’s first themed hotels, where rents started at about $29 (or $171 in today’s dollars) — reopened this year with stilted Bora Bora Bungalows that can cost up to $3,400 a night.',\n",
              "   'In August, Orlando’s first five-star resort, a Four Seasons, opened on the Disney grounds, with a 1,000-pound chandelier imported from the Czech Republic and rooms starting at $449 a night.',\n",
              "   'With gilded offerings like that, Disney clearly has something going for it, and few expect the park will lose its luster with American vacationers anytime soon. If anything, the ascending prices could help solve another of Disney’s problems, by thinning its snaking lines and relentless crowds.',\n",
              "   'But that hasn’t stopped some Disney lovers from mourning a time when the magic of parks like Disneyland, the “happiest place on Earth,” was something nearly everyone could enjoy.',\n",
              "   '“As a business professor, it’s the right strategy,” said Smith, the University of South Carolina professor. “But as a kid who started there with his first job at 16, steeped in the tradition? It does make me sad that something that was set up by Walt, who wanted all families to be able to spend time together in a fun atmosphere and be able to afford it, is going by the wayside.”',\n",
              "   'Read also:',\n",
              "   'What $4,595 glass slippers say about Disney’s princess sales machine',\n",
              "   'Mickey, Cinderella and Goofy take on Disney World cone of silence'],\n",
              "  'targetTitle': 'How theme parks like Disney World left the middle class behind'},\n",
              " {'id': '608688782821453825',\n",
              "  'postMedia': ['media/608688782821453825.jpg'],\n",
              "  'postText': ['Could light bulbs hurt your health? One company is now putting warning labels on its bulbs:'],\n",
              "  'postTimestamp': 'Wed Jun 10 17:34:49 +0000 2015',\n",
              "  'targetCaptions': ['Electric lights have made the world safer and made people smarter, but can they also hurt our health?',\n",
              "   'Electric lights have made the world safer and made people smarter, but can they also hurt our health?',\n",
              "   'Quantcast'],\n",
              "  'targetDescription': \"One company will put a health notice on all the packages for their lighting.  Here's how electric lights can hurt your health\",\n",
              "  'targetKeywords': 'health, Should there be warning labels on your light bulbs?  - CNN.com',\n",
              "  'targetParagraphs': [\"(CNN)The light bulb always makes the world's top inventions lists.\",\n",
              "   'It makes us more productive. It deters crime. It\\'s allowed New York to become the \"city that never sleeps.\" And yet, more than just Manhattenites are failing to get their zzz\\'s because of electric lighting, and there is growing body of scientific evidence that electric lighting may be hurting our health.',\n",
              "   \"Scientists have talked about this for years, but now a lighting company is about to point that out to every single one of its customers. And they are doing it voluntarily. What's the catch?\",\n",
              "   \"The company, Florida based Lighting Science Group does make a line of biological lighting that it says can be a better fit for your health than a traditional light bulb. Their idea is that you should get the right light for the right time. So they sell a product that is supposed to be better for bedtime, and another to help you feel more awake. But with this announcement, Fred Maxik, the company's chief science officer, seems to want something more. He wants a revolution in the lighting industry.\",\n",
              "   '\"We are hopeful that the industry will follow us on this\" Maxik said. He believes the company is being proactive to let the public know \"there is a growing body of scientific evidence that delivering light at the wrong time of day\" that has serious negative health consequences. \"We are saying to the public this is something you should be aware of. We aren\\'t saying \\'Don\\'t use light,\\' we are saying \\'Why take the risk?\\' \"',\n",
              "   'The packing on every one of their products will carry a \"Notice\" that \"exposure to certain electric lights may cause biological effects, some potentially disruptive.\" Underneath the message is a website that will provide education material that spells out the potential negative health effects of artificial light.',\n",
              "   '\"We are not the only folks in this industry with this information and we understand it will continue to be a problem,\" Maxik said.',\n",
              "   'Related: Another reason to want the corner office, the light is good for your health',\n",
              "   'We called to ask other companies about this idea, but none returned our calls by our deadline.',\n",
              "   'We did talk to some outside scientists about the idea and they were intrigued by the possibility.',\n",
              "   '\"I think it is a good idea, sure,\" said Paolo Sassone-Corsi. He is the director of the Center of Epigenetics and Metabolism at the school of medicine at University of California Irvine and has authored studies about metabolism, the circadian clock and the negative impact of artificial light.',\n",
              "   \"He would like to see more than that short notice though. People may not be as apt to check a website, perhaps, the packaging could include more detail about the harm, he suggests. And he adds just because people would be more aware of lighting, won't fix the entire problem.\",\n",
              "   'People need to also be aware of even more powerful high energy light sources like TV screens and computers he said. \"And think about how many people look at Facebook at 2 a.m. That is way more disruptive, but this is certainly a good start we need to keep increasing awareness in a larger population that light at the wrong time of day can harm you,\" Sassone-Corsi said.',\n",
              "   'Scientific studies have shown that artificial light can have a damaging impact on your health. Just how much is still unclear, but exposure to certain types of light can interrupt your sleep, it can change your circadian rhythms, and intensify migraine symptoms, among other problems. Sleep deprivation is blamed for everything from obesity, to diabetes, to depression, to memory loss, to short attention spans, to cancer, to car accidents or to even death.',\n",
              "   'With electric light inspired circadian rhythm disorders, the fancy term for when your internal body clock gets messed up and you cannot sleep or cannot sleep well, the good news is the problem is not permanent. Body clocks can adjust, as shown when humans camp far away from electric lights, according to another study.',\n",
              "   'Exposure to electric light can suppress your body\\'s melatonin production. Melatonin is a hormone your pineal gland releases a few hours before you would normally go to sleep. Sometimes called the \"Dracula of hormones\" it only comes out in the dark. When it does, it makes you feel sleepy and a little less alert. Low melatonin production is also associated with obesity and metabolic syndrome. Melatonin also has antioxidant and anti-inflammatory functions. It plays a crucial role in good cardiovascular health.',\n",
              "   'Dr. Louis Sullivan, the founder of the Morehouse School of Medicine and the former national Health and Human Services secretary has been talking to the public about light exposure for years. Lighting Science Group brought him on as a spokesman. He equates exposure to the wrong light at the wrong time with serious public health issues that are on par with obesity, smoking, and seat belt use. All three have seen some success after public health campaigns raised awareness about the problems, he said. Warning labels on lighting, are a good start.',\n",
              "   '\"I think this information that has been given to the public this way could have an important impact on health,\" Sullivan said. \"There is ample data that such warnings can save lives.\"',\n",
              "   'But do warning labels actually work? The scientific literature has been mixed over the years, but a recent scientific literature review of past studies on the found that warnings do \"influence behavior\" and that consumers are \"more likely to comply when they are familiar with a product,\" according to the study that ran in the Journal of Public Policy & Marketing.',\n",
              "   'Certainly everyone buys light bulbs, so maybe it will work. The question is whether people will actually read the notices? That is a little less clear.',\n",
              "   '\"I\\'m really hopeful this will make a difference,\" Maxik said.'],\n",
              "  'targetTitle': 'Warning labels on your light bulbs'}]"
            ]
          },
          "metadata": {
            "tags": []
          },
          "execution_count": 7
        }
      ]
    },
    {
      "metadata": {
        "id": "1Q3kI42k51_Z",
        "colab_type": "code",
        "colab": {
          "base_uri": "https://localhost:8080/",
          "height": 51
        },
        "outputId": "22fef4d7-0140-4e41-cd55-637f847b3903"
      },
      "cell_type": "code",
      "source": [
        "count =0\n",
        "for inst in data:\n",
        "  count+=1\n",
        "  \n",
        "print (\"count for instances is \" + str(count))\n",
        "\n",
        "countt = 0\n",
        "for inst in datatruth:\n",
        "  countt+=1\n",
        "  \n",
        "print (\"count for truth is \" + str(countt))"
      ],
      "execution_count": 8,
      "outputs": [
        {
          "output_type": "stream",
          "text": [
            "count for instances is 2459\n",
            "count for truth is 2459\n"
          ],
          "name": "stdout"
        }
      ]
    },
    {
      "metadata": {
        "id": "co8uuw9DsrZj",
        "colab_type": "code",
        "colab": {
          "base_uri": "https://localhost:8080/",
          "height": 377
        },
        "outputId": "e4134f75-6acd-47ab-f637-c6c2885b71c6"
      },
      "cell_type": "code",
      "source": [
        "for i in data[:20]: print (i)"
      ],
      "execution_count": 9,
      "outputs": [
        {
          "output_type": "stream",
          "text": [
            "{'id': '608310377143799810', 'postTimestamp': 'Tue Jun 09 16:31:10 +0000 2015', 'postText': [\"Apple's iOS 9 'App thinning' feature will give your phone's storage a boost\"], 'postMedia': [], 'targetTitle': \"Apple gives back gigabytes: iOS 9 'app thinning' feature will finally give your phone's storage a boost\", 'targetDescription': \"'App thinning' will be supported on Apple's iOS 9 and later models. It ensures apps use the lowest amount of storage space by 'slicing' it to work on individual handsets (illustrated).\", 'targetKeywords': 'Apple,gives,gigabytes,iOS,9,app,thinning,feature,finally,phone,s,storage,boost', 'targetParagraphs': [\"Paying for a 64GB phone only to discover that this is significantly reduced by system files and bloatware is the bane of many smartphone owner's lives.\\xa0\", 'And the issue became so serious earlier this year that some Apple users even sued the company over it.\\xa0', \"But with the launch of iOS 9, Apple is hoping to address storage concerns by introducing a feature known as 'app thinning.'\", 'It has been explained on the watchOS Developer Library site and is aimed at developers looking to optimise their apps to work on iOS and the watchOS.\\xa0', 'It ensures apps use the lowest amount of storage space on a device by only downloading the parts it needs run on the particular handset it is being installed onto.', \"It 'slices' the app into 'app variants' that only need to access the specific files on that specific handset.\\xa0\", \"XperiaBlog recently spotted that the 8GB version of Sony's mid-range M4 Aqua has just 1.26GB of space for users.\\xa0\", 'This means that firmware, pre-installed apps and Android software take up a staggering 84.25 per cent.\\xa0', \"Sony does let users increase storage space using a microSD card, but as XperiaBlog explained: 'Sony should never have launched an 8GB version of the Xperia M4 Aqua.\\xa0\", \"'If you are thinking about purchasing this model, be aware of what you are buying into.'\", \"Previously, apps would need to be able to run on all handsets and account for the varying files, chipsets and power so contained sections that weren't always relevant to the phone it was being installed on.\", 'This made them larger than they needed to be.\\xa0', 'Under the new plans, when a phone is downloaded from the App Store, the app recognises which phone it is being installed onto and only pulls in the files and code it needs to work on that particular device.\\xa0', 'For iOS, sliced apps are supported on the latest iTunes and on devices running iOS 9.0 and later.\\xa0', \"In all other cases, the App Store will deliver the previous 'universal apps' to customers.\", \"The guidelines also discuss so-called 'on-demand resources.'\\xa0This allows developers to omit features from an app until they are opened or requested by the user.\\xa0\", 'The App Store hosts these resources on Apple servers and manages the downloads for the developer and user.\\xa0', 'This will also increase how quickly an app downloads.\\xa0', 'An example given by Apple is a game app that may divide resources into game levels and request the next level of resources only when the app anticipates the user has completed the previous level.', 'Similarly, the app can request In-App Purchase resources only when the user buys a corresponding in-app purchase.', \"Apple explained the operating system will then 'purge on-demand resources when they are no longer needed and disk space is low', removing them until they are needed again.\", 'And the whole iOS 9 software has been designed to be thinner during updates, namely from 4.6GB to 1.3GB, to free up space.\\xa0', 'This app thinning applies to third-party apps created by developers.\\xa0', \"Apple doesn't say if it will apply to the apps Apple pre-installed on devices, such as Stocks, Weather and Safari - but it is likely that it will in order to make iOS 9 smaller.\\xa0\", 'As an example of storage space on Apple devices, a 64GB Apple iPhone 6 is typically left with 56GB of free space after pre-installed apps, system files and software is included.\\xa0', 'A drop of 8GB, leaving 87.5 per cent of storage free.\\xa0', \"By comparison, Samsung's 64GB S6 Edge has 53.42GB of available space, and of this 9GB is listed as system memory.\\xa0\", 'Although this is a total drop of almost 11GB, it equates to 83 per cent of space free.\\xa0', 'By comparison, on a 32GB S6 MailOnline found 23.86GB of space was available, with 6.62GB attributed to system memory.', 'This is a drop of just over 8GB and leaves 75 per cent free.', 'Samsung said it, too, had addressed complaints about bloatware and storage space with its S6 range. \\xa0', 'Previous handsets, including the Samsung Galaxy S4 and Apple iPhone 5C typically ranged from between 54 per cent and 79 per cent of free space.', '\\xa0', \"Businessman 'killed his best friend when he crashed jet-powered dinghy into his £1million yacht while showing off' as his wife filmed them\"], 'targetCaptions': [\"'App thinning' will be supported on Apple's iOS 9 and later models. It ensures apps use the lowest amount of storage space on a device by only downloading the parts it needs to run on individual handsets. It 'slices' the app into 'app variants' that only need to access the specific files on that specific device\", \"'App thinning' will be supported on Apple's iOS 9 and later models. It ensures apps use the lowest amount of storage space on a device by only downloading the parts it needs to run on individual handsets. It 'slices' the app into 'app variants' that only need to access the specific files on that specific device\", \"The guidelines also discuss so-called 'on-demand resources.' This allows developers to omit features from an app until they are opened or requested by the user. The App Store hosts these resources on Apple servers and manages the downloads for the developer and user.\\xa0This will also increase how quickly an app downloads\", \"The guidelines also discuss so-called 'on-demand resources.' This allows developers to omit features from an app until they are opened or requested by the user. The App Store hosts these resources on Apple servers and manages the downloads for the developer and user.\\xa0This will also increase how quickly an app downloads\", \"Apple said it will then 'purge on-demand resources when they are no longer needed and disk space is low' (Apple's storage menu is pictured)\", \"Apple said it will then 'purge on-demand resources when they are no longer needed and disk space is low' (Apple's storage menu is pictured)\", 'A 64GB Apple iPhone 6 is typically left with 56GB of free space after pre-installed apps, system files and software is included. A drop of 8GB, leaving 87.5 % of storage free.\\xa0Previous handsets, including the Samsung Galaxy S4 and Apple iPhone 5C typically ranged from between 54% and 79% of free space (illustrated)', 'A 64GB Apple iPhone 6 is typically left with 56GB of free space after pre-installed apps, system files and software is included. A drop of 8GB, leaving 87.5 % of storage free.\\xa0Previous handsets, including the Samsung Galaxy S4 and Apple iPhone 5C typically ranged from between 54% and 79% of free space (illustrated)', \"Earlier this year, a pair of disgruntled Apple users filed a lawsuit in Miami accusing the tech giant of 'concealing, omitting and failing to disclose' that on 16GB versions of iPhones, more than 20% of the advertised space isn't available. This graph reveals the capacity available and unavailable to the user\", \"Earlier this year, a pair of disgruntled Apple users filed a lawsuit in Miami accusing the tech giant of 'concealing, omitting and failing to disclose' that on 16GB versions of iPhones, more than 20% of the advertised space isn't available. This graph reveals the capacity available and unavailable to the user\"]}\n",
            "{'id': '609297109095972864', 'postTimestamp': 'Fri Jun 12 09:52:05 +0000 2015', 'postText': ['RT @kenbrown12: Emerging market investors are doing their best Monty Pythons--\"Run away, run away\"'], 'postMedia': ['media/609297109095972864.jpg'], 'targetTitle': 'Emerging Markets Suffer Largest Outflow in Seven Years', 'targetDescription': 'Global investors have yanked $9.3 billion from stocks in developing countries in the week to Wednesday, the most since the depths of the 2008 global financial crisis.', 'targetKeywords': 'emerging market,emerging markets,em flows,em inflow,em outflow,equity markets,money,forex markets,commodity,financial market news', 'targetParagraphs': ['Emerging markets are out of favor.', 'Global investors have yanked $9.3 billion from stocks in developing countries in the week to Wednesday, the most since the depths of the global financial crisis in 2008. Asia has been particularly vulnerable with $7.9 billion pulled out of the region’s equity markets, the most in almost 15 years, according to data provider EPFR Global.', 'Financial markets in emerging markets have been grinding...'], 'targetCaptions': ['Stocks Fall as Investors Watch Central Banks', 'Do Traders See Data Before Release? Markets Say Yes', 'Be Careful: Stock Volatility is Hiding, Not Hibernating', 'Singapore Bans Ex-Goldman Banker Linked to 1MDB From Working in Financial Sector', 'Demanding and Direct: HSBC’s New Chairman Mark Tucker', 'Saudi King’s Asia Expedition Enters Crucial Phase', 'Puerto Rico Board Approves Fiscal Road Map', 'CFPB, Justice Department Poised to Square Off in Court', 'Raphael Bostic to Lead Atlanta Fed', 'Blackstone Sells Part of Stake in NCR', 'Dartmouth College Appoints Alice Ruth as New Endowment Chief', 'Hedge-Fund Loses Big on Oil Bets', 'Buyout Firm Buys $800 Million of Assets From Itself', 'J.P. Morgan Moves Ahead With Plan to Drop Commissions in IRAs', 'Fed Signal Could Revive a Problem for China’s Central Bank', 'Why Apple and Pfizer Are Piling Into Taiwan’s Bond Market', '[https://m.wsj.net/video/20170312/031017vinny/031017vinny_167x94.jpg]', '[https://m.wsj.net/video/20170303/0307lotd_boca/0307lotd_boca_167x94.jpg]', '[https://m.wsj.net/video/20170313/031317dutchelex/031317dutchelex_167x94.jpg]', '[https://m.wsj.net/video/20170313/031317lina/031317lina_167x94.jpg]', '[https://m.wsj.net/video/20170313/031317scotref/031317scotref_167x94.jpg]', 'You’re Not Busy, You’re Just Rude', 'Credit Reports to Exclude Certain Negative Data, Boosting FICO Scores', 'CIA Contractors Questioned About WikiLeaks Dump', 'Your Pension Check May Soon Be Coming From an Insurance Company', 'Intel Makes Big Bet on Self-Driving Tech in Mobileye Deal', '[https://m.wsj.net/video/20170312/031017vinny/031017vinny_167x94.jpg]', '[https://m.wsj.net/video/20170303/0307lotd_boca/0307lotd_boca_167x94.jpg]', '[https://m.wsj.net/video/20170313/031317dutchelex/031317dutchelex_167x94.jpg]', '[https://m.wsj.net/video/20170313/031317lina/031317lina_167x94.jpg]', '[https://m.wsj.net/video/20170313/031317scotref/031317scotref_167x94.jpg]', 'You’re Not Busy, You’re Just Rude', 'Credit Reports to Exclude Certain Negative Data, Boosting FICO Scores', 'CIA Contractors Questioned About WikiLeaks Dump', 'Your Pension Check May Soon Be Coming From an Insurance Company', 'Intel Makes Big Bet on Self-Driving Tech in Mobileye Deal']}\n",
            "{'id': '609504474621612032', 'postTimestamp': 'Fri Jun 12 23:36:05 +0000 2015', 'postText': ['U.S. Soccer should start answering tough questions about Hope Solo, @eric_adelson writes.'], 'postMedia': [], 'targetTitle': 'U.S. Soccer should start answering tough questions about Hope Solo', 'targetDescription': \"A U.S. Senator's scathing letter questioned U.S. Soccer's inadequate handling of Solo's domestic violence charges. It's time for Sunil Gulati to respond.\", 'targetKeywords': '', 'targetParagraphs': [\"WINNIPEG, Manitoba – The bubble U.S. Soccer is putting around Hope Solo isn't working to calm anyone's concerns about the star goalkeeper.\", \"The latest lament comes from no less than a U.S. Senator, who into Solo's domestic violence incident of last year and offer a detailed explanation of why Solo is on the field. She is expected to be the starting goalkeeper when the USA plays Sweden in its second group game at the Women's World Cup on Friday.\", '[FC Yahoo: ]', 'U.S. Senator Richard Blumenthal of Connecticut penned a lengthy complaint about the near-silence the organization has given on Solo, especially in the wake of ESPN\\'s \"Outside the Lines\" report on Sunday. Blumenthal wrote that if the report is accurate \"U.S. Soccer\\'s approach to domestic violence and family violence is at best superficial and at worst dangerously neglectful and self-serving.\"', 'This situation is well beyond Solo now. U.S. Soccer has made this a referendum about its own ability to represent the values of the nation. \"As boys and girls tune into Friday\\'s game, watching the women on TV as role models,\" Blumenthal wrote, \"what is the message of starting Hope Solo at goal?\"', \"[Women's World Cup: | | | ]\", \"U.S. Soccer is not only avoiding difficult questions, it is also avoiding an account of all its actions. Even NFL commissioner Roger Goodell has, to some extent, owned up to his failures on the Ray Rice case, yet Gulati has not even decried Solo's poor decisions.\", \"Last September, three months after Solo's domestic violence charges (which were later ), Gulati released this vague statement on the matter:\", '\"U.S. Soccer takes the issue of domestic violence very seriously. From the beginning, we considered the information available and have taken a deliberate and thoughtful approach regarding Hope Solo\\'s status with the national team. Based on that information, U.S. Soccer stands by our decision to allow her to participate with the team as the legal process unfolds. If new information becomes available we will carefully consider it.\"', \"A lot of this would be solved if Gulati and Solo held a press conference and claimed some accountability. It's clear from Monday's dominant performance in a 3-1 tournament-opening win over Australia that Solo is not distracted by the national discussion of her past, so a short appearance – even without reporters' questions – probably won't ruin the U.S.'s chances for a trophy. And claiming that Solo has a match to focus on isn't credible as it's basically an admission that a single game is more important than a discussion of domestic violence.\", \"For Gulati, there is little excuse. The silence, the lack of punishment and then the decision to allow head coach Jill Ellis to discuss (or not discuss) the situation here, combines to make the top official of American soccer look like he doesn't prioritize this issue.\", '\"In the wake of this violent incident, U.S. Soccer offered no comment publicly for three months,\" Blumenthal wrote. \"It finally issued a statement that was purportedly the result of a \\'deliberate and thoughtful approach\\' to consider the incident and determine Hope Solo\\'s status with the team, but it neglected to include an effort to contact the alleged victims.\"', 'The more U.S. Soccer tries to shift focus to the field, the less it accomplishes that. This is the Super Bowl of women\\'s soccer, and decrying this as \"old news\" doesn\\'t work because the entire country is watching now. Countless Americans are debating whether to root for Solo or not, and her protectors are effectively convincing a lot of people to remain skeptical of her.', \"It doesn't have to be this way. A better explanation of what Gulati has done on this topic – and a better explanation of what Solo has done to work on her problems – would go a long way toward moving on, especially the way U.S. Soccer clearly wants. Instead, there is opacity where there should be transparency.\", 'The NFL has come under a lot of scrutiny for its efforts to \"protect the shield,\" but U.S. Soccer\\'s shield stands for a lot more than just a sport. That shield shouldn\\'t only be used to defend a player.', '735'], 'targetCaptions': ['US to vote for Ali in FIFA election and not Blatter', 'US to vote for Ali in FIFA election and not Blatter', \"FILE - This Oct. 10, 2014, file photo shows Sunil Gulati, president of the United States Soccer Federation, during a press conference in Bristol, Conn. The United States says it will vote for Jordan's Prince Ali bin Al-Hussein for FIFA president Friday, May 29, 2015 and not for incumbent Sepp Blatter. (AP Photo/Elise Amendola, File)\"]}\n",
            "{'id': '609748367049105409', 'postTimestamp': 'Sat Jun 13 15:45:13 +0000 2015', 'postText': ['How theme parks like Disney World left the middle class behind'], 'postMedia': [], 'targetTitle': 'How theme parks like Disney World left the middle class behind', 'targetDescription': 'America\\'s top family vacation spots, like the \"happiest place on earth,\" are increasingly aimed at upscale buyers.', 'targetKeywords': 'disney, disney world, disney ticket prices, disney world prices, disneyland, disneyworld, disney world price, trip to disney world, ', 'targetParagraphs': ['When Walt Disney World opened in an Orlando swamp in 1971, with its penny arcade and marching-band parade down Main Street U.S.A., admission for an adult cost $3.50, about as much then as three gallons of milk.', 'Disney has raised the gate price for the Magic Kingdom 41 times since, nearly doubling it over the past decade. This year, a ticket inside the “most magical place on Earth” rocketed past $100 for the first time in history.', 'Ballooning costs have not slowed the mouse-eared masses flooding into the world’s busiest theme park. Disney’s main attraction hosted a record 19\\xa0million visitors last year, a number nearly as large as the population of New York state.', 'But rising prices have changed the character of Big Mouse’s family-friendly empire in unavoidably glitzy ways. A visitor to Disney’s central Florida fantasy-land can now dine on a $115 steak, enjoy a $53-per-plate dessert party and sleep in a bungalow overlooking the Seven Seas Lagoon starting at $2,100 a night.', 'For America’s middle-income vacationers, the Mickey Mouse club, long promoted as “made for you and me,” seems increasingly made for someone else. But far from easing back, the theme-park giant’s prices are expected to climb even more through a surge-pricing system that could value a summer’s day of rides and lines at $125.', '“If Walt [Disney] were alive today, he would probably be uncomfortable with the prices they’re charging right now,” said Scott Smith, an assistant professor of hospitality at the University of South Carolina whose first job was as a cast member in Disney’s Haunted Mansion. “They’ve priced middle-class families out.”', '\\xa0', 'As one of the biggest man-made attractions on the planet, Disney World has led the way for the theme-park industry to boost its prices, often on a yearly basis. Universal, Six Flags and other parks in Orlando, Southern California and elsewhere have followed in Mickey’s big footprints, worried they will otherwise look like bargain-barrel runners-up.', 'Disney and theme-park leaders have defended their rising prices as a logical response to record-setting attendance, with Disney spokeswoman Jacquee Wahler saying the company is “committed to ensuring all our guests have a magical experience.”', '“We continually add new experiences, and many of our guests select multi-day tickets or annual passes, which provide great value and additional savings,” Wahler said. “A day at a Disney park is unlike any other in the world.”', 'But some see Disney’s magically ascending price tag as a reflection of the country’s economy, where stagnant wages and growing inequality have transformed even the way Americans take time off.', '“When Walt created Disneyland, this was a middle-class country. But Disney now . . . as far as pricing out the middle class, they think: What middle class?” said Robert Niles, the editor of Theme Park Insider, an industry blog.', '“Disney’s made a strategic decision that they’re not going to discount to hold onto people at the middle part of the economy,” he said. “They’re going to set their prices at the top 10 percent of family incomes and make their money where the money is.”', 'American theme parks were built on deep roots in middle-class family entertainment, having expanded as outgrowths of low-cost getaways such as New York’s Coney Island, dubbed the “Nickel Empire” for its thrift.', 'When Walt Disney, the cartoon and business mogul, opened Disneyland in Southern California in the mid-’50s for $1 a ticket, many expected it would fail. Most amusement parks then were raucous affairs, with free admission.', '“I could never convince the financiers that Disneyland was feasible,” Disney famously said, “because dreams offer too little collateral.”', 'But over the years, as Disney’s movie and toy deals helped it explode into a $184\\xa0billion behemoth, its theme parks became one of Mickey’s most unstoppable moneymakers. Disney’s parks and resorts’ profits have nearly doubled over the past five years, to $2.6\\xa0billion in fiscal 2014.', 'Advertised for years as a once-in-a-lifetime experience, Disney’s parks have continually set new visitor records: During the winter holidays, its Orlando parks hosted 250,000 guests at a time, chief executive Bob Iger told analysts this year. Attendance rose 17 percent last year at Universal Studios Florida, America’s biggest non-Disney park, because of the success of its Harry Potter-themed mini-towns.', 'Disney park admissions revenue has grown about 10 percent every year for the past decade, to total more than $5\\xa0billion in 2014, financial filings show. (That’s not including park food, drinks or merchandise, which brought in another $5\\xa0billion.)', 'The parks have faced little resistance, even as prices have climbed. Tickets for the Magic Kingdom were increased 6 percent this year, to $105 plus tax, while entrance to other Orlando parks — Epcot, Animal Kingdom, Universal Studios — can’t be bought for less than $90.', 'Those costs have in recent years helped shunt tourists to smaller regional parks — but many of those have raised prices as well. Six Flags, which runs 800 rides across 18 North American parks, increased prices last spring and now charges $62 at its Maryland park. At American theme parks, per-person spending has climbed 33 percent since 2008, to about $56.23, data from the International Association of Amusement Parks and Attractions show.', 'Park watchers have worried that the rising costs are blocking out wishful visitors, especially because a third of the Americans visiting the country’s theme parks are younger than 18, data from industry researcher IBISWorld show. In a report this month, the Themed Entertainment Association, an industry group, called “the continued stagnation of -middle-class incomes” one of its biggest challenges.', 'But as long as places like the Magic Kingdom can pull in more than 80,000 visitors a day, experts said the industry is happy to profit off a richer clientele. In recent years, Orlando tourists’ average household income peaked at about $93,000, more than $20,000 higher than the average U.S. household wage, data from the tourism bureau Visit Orlando show.', 'The price hikes won’t slow until the park sees a dip in demand, experts say. If anything, Disney is experimenting with how to persuade parkgoers to pay even more. Disney surveys sent last month to guests suggested the giant was considering a tiered pricing structure that would clock peak-time “Gold” tickets, during summer and winter holidays, at $125. “Bronze”-level $105 tickets would allow entrance during less busy times, such as weekdays.', 'Wahler, the Disney spokeswoman, would not say whether the pricing would change, adding, “We regularly survey our guests on a variety of ideas.” But analysts said it could prove to be one of Disney’s biggest, boldest pricing hikes yet.', '“They’ve been aggressively raising pricing because they’re looking at themselves as a premium price, a premium brand,” said Scott Sanders, vice president of pricing for Disney’s parks and resorts between 2004 and 2009.', '“Every child feels like they’re entitled to a Disney vacation, and I think they’ve played off that, letting the emotions lay in until the family says to do it. They’re recognizing they can capture demand across the price curve. So why not take advantage of what people are willing to pay?”', 'Disney says it has made an effort to keep its gates open to all, offering -packages such as multi-day tickets and yearly passes to help balance out the costs. The “Magical Express,” a free shuttle from the airport into the sprawling park’s center, also shepherds tourists past the rental cars and rival attractions that would allow them to spend more time and money outside its gates.', 'The fun-per-hour value of the experience is still high, Disney executives say, because a tourist can spend all day there (as opposed to, say, a blockbuster movie). They add that higher gate prices have helped Disney invest in new, better attractions.', 'Disney World last year spent $425\\xa0million to expand Fantasyland, marked by the opening of a new Seven Dwarfs Mine Train roller coaster. Next spring at Epcot, Disney will retool its Norwegian-mythology flume ride, Maelstrom, into Frozen Ever After, where visitors will float past a skating Olaf and Elsa in an ice castle, singing “Let It Go” amid a sparkling, simulated snow.', 'But much of the recent innovation in the theme-park industry, experts said, has gone toward retooling it as a playground for the rich and their kids. The industry has increasingly “stratified its offerings,” said Sanders, Disney’s former pricing -executive, by offering more to attract visitors like “the ‘Wall Street dads,’ who have the obligation to bring the kids to Disney but want to do it as quickly as they can and are least sensitive to pricing of anyone.”', 'Parks now offer a variety of special upgrades aimed at the vacationing 1\\xa0percent, including after-hours parties, dine-with-princess events and guided tours such as SeaWorld Orlando’s “Private Elite VIP tour,” which bumps buyers to the fronts of lines and allows them to feed dolphins, sea lions and rays.', 'Disney’s two Bibbidi Bobbidi Boutiques sell a $195 pampering for little girls that includes a makeover, hair-styling, a costume and a princess sash.', 'The luxury has found its way back to the hotel room, as well. The Polynesian Village Resort — one of Disney World’s first themed hotels, where rents started at about $29 (or $171 in today’s dollars) — reopened this year with stilted Bora Bora Bungalows that can cost up to $3,400 a night.', 'In August, Orlando’s first five-star resort, a Four Seasons, opened on the Disney grounds, with a 1,000-pound chandelier imported from the Czech Republic and rooms starting at $449 a night.', 'With gilded offerings like that, Disney clearly has something going for it, and few expect the park will lose its luster with American vacationers anytime soon. If anything, the ascending prices could help solve another of Disney’s problems, by thinning its snaking lines and relentless crowds.', 'But that hasn’t stopped some Disney lovers from mourning a time when the magic of parks like Disneyland, the “happiest place on Earth,” was something nearly everyone could enjoy.', '“As a business professor, it’s the right strategy,” said Smith, the University of South Carolina professor. “But as a kid who started there with his first job at 16, steeped in the tradition? It does make me sad that something that was set up by Walt, who wanted all families to be able to spend time together in a fun atmosphere and be able to afford it, is going by the wayside.”', 'Read also:', 'What $4,595 glass slippers say about Disney’s princess sales machine', 'Mickey, Cinderella and Goofy take on Disney World cone of silence'], 'targetCaptions': ['Some 1,000 persons turned out in Albuquerque, New Mexico to greet Mickey Mouse on Nov. 14, 1978, as he celebrated his 50th birthday with a whistle-stop train tour. (AP Photo/John Holmes)', 'Tourists crowd around Cinderella’s Castle to watch a performance at Walt Disney World’s Magic Kingdom in Lake Buena Vista, Fla., Thursday, Sept. 2, 2004. (AP Photo/Phelan M. Ebenhack)', 'Card Walker, right, president and chief operating officer for Walt Disney Inc., kicks off Disney World’s tenth birthday celebration by welcoming the William Windsor family in Orlando, Oct. 1, 1981. The Windsors were the first to see the Magic Kingdom, when it first opened ten years before. (AP Photo)', 'Views of the private Cinderella luxury suite at the top of Cinderella’s Castle at Walt Disney World’s Magic Kingdom in Lake Buena Vista, Fla. are seen on Friday, Jan. 26,2006. A night’s stay at the castle was one of prizes given randomly to unsuspecting park guests recently as part of the launch of Disney’s “Year of a Million Dreams” campaign.” (AP Photo/Reinhold Matay)']}\n",
            "{'id': '608688782821453825', 'postTimestamp': 'Wed Jun 10 17:34:49 +0000 2015', 'postText': ['Could light bulbs hurt your health? One company is now putting warning labels on its bulbs:'], 'postMedia': ['media/608688782821453825.jpg'], 'targetTitle': 'Warning labels on your light bulbs', 'targetDescription': \"One company will put a health notice on all the packages for their lighting.  Here's how electric lights can hurt your health\", 'targetKeywords': 'health, Should there be warning labels on your light bulbs?  - CNN.com', 'targetParagraphs': [\"(CNN)The light bulb always makes the world's top inventions lists.\", 'It makes us more productive. It deters crime. It\\'s allowed New York to become the \"city that never sleeps.\" And yet, more than just Manhattenites are failing to get their zzz\\'s because of electric lighting, and there is growing body of scientific evidence that electric lighting may be hurting our health.', \"Scientists have talked about this for years, but now a lighting company is about to point that out to every single one of its customers. And they are doing it voluntarily. What's the catch?\", \"The company, Florida based Lighting Science Group does make a line of biological lighting that it says can be a better fit for your health than a traditional light bulb. Their idea is that you should get the right light for the right time. So they sell a product that is supposed to be better for bedtime, and another to help you feel more awake. But with this announcement, Fred Maxik, the company's chief science officer, seems to want something more. He wants a revolution in the lighting industry.\", '\"We are hopeful that the industry will follow us on this\" Maxik said. He believes the company is being proactive to let the public know \"there is a growing body of scientific evidence that delivering light at the wrong time of day\" that has serious negative health consequences. \"We are saying to the public this is something you should be aware of. We aren\\'t saying \\'Don\\'t use light,\\' we are saying \\'Why take the risk?\\' \"', 'The packing on every one of their products will carry a \"Notice\" that \"exposure to certain electric lights may cause biological effects, some potentially disruptive.\" Underneath the message is a website that will provide education material that spells out the potential negative health effects of artificial light.', '\"We are not the only folks in this industry with this information and we understand it will continue to be a problem,\" Maxik said.', 'Related: Another reason to want the corner office, the light is good for your health', 'We called to ask other companies about this idea, but none returned our calls by our deadline.', 'We did talk to some outside scientists about the idea and they were intrigued by the possibility.', '\"I think it is a good idea, sure,\" said Paolo Sassone-Corsi. He is the director of the Center of Epigenetics and Metabolism at the school of medicine at University of California Irvine and has authored studies about metabolism, the circadian clock and the negative impact of artificial light.', \"He would like to see more than that short notice though. People may not be as apt to check a website, perhaps, the packaging could include more detail about the harm, he suggests. And he adds just because people would be more aware of lighting, won't fix the entire problem.\", 'People need to also be aware of even more powerful high energy light sources like TV screens and computers he said. \"And think about how many people look at Facebook at 2 a.m. That is way more disruptive, but this is certainly a good start we need to keep increasing awareness in a larger population that light at the wrong time of day can harm you,\" Sassone-Corsi said.', 'Scientific studies have shown that artificial light can have a damaging impact on your health. Just how much is still unclear, but exposure to certain types of light can interrupt your sleep, it can change your circadian rhythms, and intensify migraine symptoms, among other problems. Sleep deprivation is blamed for everything from obesity, to diabetes, to depression, to memory loss, to short attention spans, to cancer, to car accidents or to even death.', 'With electric light inspired circadian rhythm disorders, the fancy term for when your internal body clock gets messed up and you cannot sleep or cannot sleep well, the good news is the problem is not permanent. Body clocks can adjust, as shown when humans camp far away from electric lights, according to another study.', 'Exposure to electric light can suppress your body\\'s melatonin production. Melatonin is a hormone your pineal gland releases a few hours before you would normally go to sleep. Sometimes called the \"Dracula of hormones\" it only comes out in the dark. When it does, it makes you feel sleepy and a little less alert. Low melatonin production is also associated with obesity and metabolic syndrome. Melatonin also has antioxidant and anti-inflammatory functions. It plays a crucial role in good cardiovascular health.', 'Dr. Louis Sullivan, the founder of the Morehouse School of Medicine and the former national Health and Human Services secretary has been talking to the public about light exposure for years. Lighting Science Group brought him on as a spokesman. He equates exposure to the wrong light at the wrong time with serious public health issues that are on par with obesity, smoking, and seat belt use. All three have seen some success after public health campaigns raised awareness about the problems, he said. Warning labels on lighting, are a good start.', '\"I think this information that has been given to the public this way could have an important impact on health,\" Sullivan said. \"There is ample data that such warnings can save lives.\"', 'But do warning labels actually work? The scientific literature has been mixed over the years, but a recent scientific literature review of past studies on the found that warnings do \"influence behavior\" and that consumers are \"more likely to comply when they are familiar with a product,\" according to the study that ran in the Journal of Public Policy & Marketing.', 'Certainly everyone buys light bulbs, so maybe it will work. The question is whether people will actually read the notices? That is a little less clear.', '\"I\\'m really hopeful this will make a difference,\" Maxik said.'], 'targetCaptions': ['Electric lights have made the world safer and made people smarter, but can they also hurt our health?', 'Electric lights have made the world safer and made people smarter, but can they also hurt our health?', 'Quantcast']}\n",
            "{'id': '609551038983475201', 'postTimestamp': 'Sat Jun 13 02:41:07 +0000 2015', 'postText': ['13 classic ’00s songs that were actually meant for other artists'], 'postMedia': ['media/609551038983475201.png'], 'targetTitle': '13 Classic ’00s Songs That Were Actually Meant For Other\\xa0Artists', 'targetDescription': '', 'targetKeywords': '', 'targetParagraphs': ['One artist’s trash is another’s No. 1 single.', 'The song was originally written for Minogue to use on her 2003 album Body Language, but she turned it down. It was then offered to Spears who not only scored a top 20 hit with it, but also made an ICONIC music video.', 'In 2012, on Bravo’s Watch What Happens Live, Minogue admitted it was a mistake to turn it down, but that “Britney did a fantastic job. Maybe it wouldn’t have been the same with me.”', 'Justin Timberlake wrote the song with Jackson in mind, but his camp turned it down. Timberlake then presented the song to NSYNC, who recorded it for their final album, Celebrity.', 'Timberlake said writing “Gone” inspired him to go solo — so I guess blame Jackson for the breakup of NYSNC. ¯\\\\_(ツ)_/¯', 'Remember Hilton’s short-lived flirtation with trying to be a pop star/ still trying to be? No. Well she really could have used the ’00s classic “Don’t Cha,” instead of the pretty forgettable “Stars Are Blind” to launch her singing career and cement her place in music history, but she turned it down.', 'So not hot, Paris. So not hot.', 'It’s hard to imagine anyone other than Clarkson singing this Dr. Luke-and Max Martin-written track. It could’ve been Duff, who actually turned the song down after Pink reportedly turned it down.', 'OK, so Pink we can imagine singing this song.', 'According to Michele, she sent this Ne-Yo–written song “to the left, to the left” ‘cause she didn’t want to perform a song that wasn’t written by her. The song was then offered to Beyoncé, who scored a No. 1 hit with it.', 'Will.i.am originally wrote the song for the Pussycat Dolls’ debut album, but let’s be honest, he really should have had the foresight to write it for Alanis Morissette.', 'There is no way Spears could have matched Rihanna’s vocals on this track, but to be fair, she probably could have made this song her own. She never got the chance, though, since her label turned down the song (reportedly due to her having too much material for her album at the time).', 'The Neptunes wrote the song for Jackson to include on his 2001 album Invincible, but after he turned it down it was offered to Timberlake, who included it on his solo debut album Justified.', 'According to Pharrell, all the Neptunes-produced tracks from Justified, with the exception of “Like I Love You,” were songs they originally wrote for Jackson.', 'Milian passed on the chance to record what would become Rihanna’s hit debut single. To add insult to injury, Milian alleges that their label, Island Def Jam, dropped her in favor of Rihanna.', 'The infectious Cathy Dennis–written track was turned down by S Club 7 before it was offered to Minogue, who made her big U.S. comeback with the song. “Can’t Get You Out of My Head” was Minogue’s first top 10 U.S. single since “The Loco-Motion,” which had peaked at No. 3 13 years earlier, in 1988.', 'The Neptunes wrote the hypnotic club banger for Jackson’s 2001 album All for You. After she turned it down the track the was given to Spears, who was working with the Neptunes at the time on her album Britney.', 'In an alternate universe it could have been Jackson who gave us this iconic VMA performance.', 'Usher co-wrote a song titled “Ride” for his blockbuster-album Confessions. However, he felt the song was not right and cut it from the album. Rich Harrison, who produced “Ride,” then reworked the track for Lopez who released it as “Get Right.”', 'West never meant for “Gold Digger” to be a track for himself; he originally produced the song for rapper Shawnna’s debut album Worth Tha Weight, but she passed on it. Of course her loss was his gain: The song hit No. 1 on the Billboard Hot 100.', '© 2017 BuzzFeed, Inc'], 'targetCaptions': []}\n",
            "{'id': '609447408955719681', 'postTimestamp': 'Fri Jun 12 19:49:19 +0000 2015', 'postText': ['Dez Bryant is reportedly considering skipping Week 1 game if he doesn’t get a long-term deal'], 'postMedia': ['media/609447408955719681.jpg'], 'targetTitle': 'Dez Bryant Contract: Latest News, Rumors, Speculation Surrounding Cowboys WR', 'targetDescription': '  Wide receiver  Dez Bryant  has signed a new, long-term deal with the  Dallas Cowboys  after being given the franchise tag at the start of free agency...', 'targetKeywords': 'Football, NFL, NFC East, Dallas Cowboys, Dez Bryant, Breaking News', 'targetParagraphs': ['Wide receiver Dez Bryant\\xa0has signed a new, long-term deal with the Dallas Cowboys after being given the franchise tag at the start of free agency. The deal brings an end to a prolonged negotiation that included threats of a holdout which could have extended deep into the regular season.\\xa0', 'Continue for updates.', \"NFL Network's Ian Rapoport\\xa0reported Bryant and the Cowboys have a five-year, $70 million contract agreement in place. Chris Mortensen of ESPN reported $45 million will be guaranteed in the deal. Pro Football Talk reported Bryant will earn a $20 million signing bonus as part of that guaranteed money, leaving $3 million in guarantees for the 2015 season, and another $22 million guaranteed in March 2016.\", \"Bleacher Report's Jason Cole added that the Cowboys were hoping to get a clause in a new deal that would allow them to void Bryant's deal in the event that the wideout gets in trouble:\", 'On July 14, Rapoport\\xa0reported Bryant was asking for more money than Calvin Johnson, and while one source said\\xa0the sides had \"a long way to go,\" the Cowboys\\' offer averaging over $12.8 million per year is far superior to the initial deal they offered, which averaged $10 million a year.', \"Rapoport reported he has not talked to anyone who believes Bryant's threat to sit out any regular-season games is legitimate, but Rand Getlin of NFL Network says sources close to the Cowboys star insists he will if he doesn't get a deal.\", \"On July 13, Ed Werder of ESPN passed along news that Bryant won't attend training camp without a deal, reporting the star wide receiver called executive vice president Stephen Jones personally to inform him of his decision. Werder added Bryant would also miss real games without a long-term deal.\", 'However, Jones told Werder Bryant made no such threat, while the player himself confirmed he intends to hold out without a new contract:', 'As much as I love football...on my beautiful babies.. I apologize #cowboynation but I will not be there if no deal #fact', 'On July 14, Florio explained why Bryant would be willing to miss regular-season games, noting that even if he failed to play for the Cowboys in 2015, the collective bargaining agreement states the wideout would still be eligible for a 20 percent raise over the franchise-tag price next season.', 'Despite Bryant\\'s stance, Jerry Jones said back on June 17 he expects Bryant to \"lead the Cowboys charge\" in Week 1 against the Giants regardless of his contract status, according to Todd Archer of ESPN.', 'Jones said he was \"sympathetic\" to Bryant, according to Mike Fisher of Fox Sports: \"I would like nothing more than to have long-term security with Dez.\"', 'Bryant took to Twitter to defend his decision to hold out:', \"Everybody voicing opinions..13 mil is cool but Where is my security? I'll wait ...5 years without complaining..So how am I selfish? #family1\", '\"With my conversations with him, he is willing to miss regular-season games,\" Bryant\\'s agent Tom Condon told Sirius XM NFL Radio on June 16.', \"ESPN's Chris Mortensen first reported June 12 that Bryant is considering skipping the Cowboys' Week 1 game against the New York Giants if he doesn't get a long-term deal before the July 15 deadline to sign a franchise-tagged player.\", \"Schefter reported the NFLPA is reviewing information that could lead to a collusion claim over the Cowboys and Bryant's negotiations:\", 'Jason La Canfora of CBS Sports passed along what he was hearing regarding a potential time line for a resolution to negotiations, stating talks will continue to evolve and \"possibly conclude by midweek.\"', 'On July 4,\\xa0Fisher reported the Cowboys and Bryant are optimistic about getting a deal done, noting the two sides are comfortable enough to not negotiate over the holiday weekend because of a shared willingness to have a positive impact on the Cowboys for life. He also said while the structure of the potential seven-year, $100 million deal is unknown, Jones wants to make a \"positive mark\" on the contract.', 'The news comes on the heels of a June 27 report from\\xa0Archer, who passed along word of the meeting between Condon\\xa0and the team—the first in \"nearly four months.\"', 'On June 25, Cole reported the star wide receiver has \"significant financial issues,\" which gives the team leverage as Bryant continues to hold out:', 'Despite Bryant\\'s desire for a new contract, a June 10 report from\\xa0Ross Jones\\xa0of Fox Sports provided comments from an agent who said teams will \"likely\" make stars like Bryant and the Denver Broncos\\' Demaryius Thomas play on a franchise deal and that it\\'s \"possible\" they can get tagged next season.', \"Playing under a fully guaranteed deal for one season does hamper the Cowboys' salary cap in 2015 but also gives them more flexibility over the next few years without having a huge cap number for a wide receiver on the books.\", \"Fisher\\xa0reported Bryant was at AT&T Stadium on Thursday, but that the wide receiver was not there to participate in the team's minicamp. However, he did speak with Jones, per Jon Machota of the Dallas Morning News.\\xa0\", 'Drew Davison of the Fort Worth Star-Telegram provided Cowboys head coach Jason Garrett\\'s take, saying \"it\\'s great\" Bryant was in attendance.\\xa0Garrett said he had been talking with the wide receiver, and that Bryant knew the importance of being present for the team\\'s final message of minicamp, per David Moore of the\\xa0Dallas Morning News.\\xa0', \"Bryant has emerged as one of the NFL's best wideouts after leading the league in receiving touchdowns last year (16) and being named first-team All-Pro.\", \"The Cowboys need Bryant to be happy and on the field if they want to make another playoff run in 2015. He would be sacrificing money to skip regular-season games, if that's the route he wants to take.\", 'Like the new article format? Send us feedback!', 'Where can I comment?', 'Latest news, insights, and forecasts on your teams across leagues.', 'Real-time news for your teams right on your mobile device.'], 'targetCaptions': []}\n",
            "{'id': '609027430624288769', 'postTimestamp': 'Thu Jun 11 16:00:29 +0000 2015', 'postText': ['Pregnant mother of 12 accused of keeping kids in waste-filled home.'], 'postMedia': [], 'targetTitle': 'Pregnant mother of 12 accused of keeping kids in waste-filled home ', 'targetDescription': 'A pregnant mother of 12 is due in court on child neglect charges after authorities found her children in a trash-strewn home with collapsing ceilings and no running water.', 'targetKeywords': '', 'targetParagraphs': ['TULSA, Okla. – \\xa0A pregnant mother of 12 is due in court on child neglect charges after authorities found her children in a trash-strewn home with collapsing ceilings and no running water.', 'The 38-year-old woman is expected to be arraigned Thursday in district court. She was charged Wednesday along with the 41-year-old man she was living with. The man is due in court Monday.', 'The Associated Press is not naming the adults in order to protect the identities of the children.', 'Records show the woman has had at least 33 Oklahoma Department of Human Services referrals and investigations.', 'The pair was arrested last week after authorities found trash littered feet deep in some areas of the house and a yard with mattresses that had been infested with bed bugs.'], 'targetCaptions': []}\n",
            "{'id': '608229011572068352', 'postTimestamp': 'Tue Jun 09 11:07:51 +0000 2015', 'postText': ['RT @fionamatthias: 10 ways the expat life Is like a continual espresso buzz via @WSJ'], 'postMedia': [], 'targetTitle': '10 Ways the Expat Life Is Like a Continual Espresso Buzz - Expat', 'targetDescription': \"There’s no autopilot when you're an expat living abroad. No taking life for granted. Here are 10 ways the expat life keeps you on your toes.\", 'targetKeywords': 'adventure,Alienation,Bangkok,Culture,Culture Shock,Expatiquette,France,Holidays,Identity,Israel,Jennifer Lang,Jerusalem,Language,Life,Lists,London,Paris,Thailand', 'targetParagraphs': ['There’s no autopilot when you live abroad. No taking life for granted.\\xa0Hearing foreign words, navigating strange street signs, stumbling into cultural roadblocks — all provide a jolt of energy, sometimes positive and sometimes negative, depending on the experience. Here are 10 ways the expat life keeps you on your toes.'], 'targetCaptions': ['Scotland to Seek Second Independence Referendum', 'Saudi King’s Asia Expedition Enters Crucial Phase', 'NATO Chief Says Allies Still Fall Short of Fair Sharing of Defense Burden', 'Merkel, Trump Face Host of Troubling Differences', 'Dutch Leader Takes Populist Turn to Fend Off Far-Right Party', 'Latin, Asian Nations Pursue Free Trade Without U.S.', 'Populism Suffers Setback in Australian Vote', 'Coca Cultivation Soars in Colombia', 'BJP Victory Boosts India’s Modi', 'Giant Muslim Group Joins Fight Against Fake News', 'Malaysia Arrests 7, Including Immigration Officer, Alleging Islamic State Ties', '[https://m-secure.wsj.net/video/20170312/031017vinny/031017vinny_167x94.jpg]', '[https://m-secure.wsj.net/video/20170303/0307lotd_boca/0307lotd_boca_167x94.jpg]', '[https://m-secure.wsj.net/video/20170313/031317dutchelex/031317dutchelex_167x94.jpg]', '[https://m-secure.wsj.net/video/20170313/031317lina/031317lina_167x94.jpg]', '[https://m-secure.wsj.net/video/20170313/031317scotref/031317scotref_167x94.jpg]']}\n",
            "{'id': '609046214554755073', 'postTimestamp': 'Thu Jun 11 17:15:07 +0000 2015', 'postText': ['House #GOP plans two days of debate, Friday showdown vote on Obama trade agenda.'], 'postMedia': ['media/609046214554755073.jpg'], 'targetTitle': 'House GOP plans two days of debate, Friday showdown vote on Obama trade agenda ', 'targetDescription': \"House Republican leaders have planned for a two-day debate beginning Thursday on President Obama's trade agenda, culminating in a final showdown vote Friday.\", 'targetKeywords': '', 'targetParagraphs': [\"House Republican leaders have planned for a two-day debate beginning Thursday on President Obama's trade agenda, culminating in a final showdown vote Friday.\", 'House Majority Leader Kevin McCarthy, R-Calif., sent a memo to members of the GOP caucus late Wednesday laying out the plan for legislation that has forged an unusual alliance between Obama and Republican leaders on Capitol Hill.', 'The first bill to be taken up Thursday will concern Obama\\'s bid for so-called \"fast track\" trade authority. Previous presidents have enjoyed the authority, which lets them present Congress with proposed trade agreements that it can ratify or reject, but not change.', 'The issue may turn on how the House resolves a side issue: how to pay for a program to retrain workers displaced by trade agreements, known as Trade Adjustment Assistance, or TAA.', 'A Senate-passed bill now facing the House would divert money from Medicare to fund the job retraining program. But House Democrats call that unacceptable, and demand another funding source.', 'Republicans agreed, but insisted on putting the alternative funding mechanism in a trade bill separate from the fast-track measure. They are desperate to avoid changing even a comma in the fast-track bill, because that would send it back to the Senate and give opponents another chance to filibuster and throttle it there.', \"GOP leaders say Democrats should accept the promise that if all the trade bills become law, only the non-Medicare source of money will fund the retraining program. But many Democrats are balking. They say they won't vote for language calling for Medicare spending cuts, even if Obama and others promise that the alternative funding methods will make sure the cuts never take place.\", \"The GOP leadership's plan calls for two crucial votes Friday. The first is to fund TAA, which many Republicans oppose. If enough Democrats join them, because of the funding issue, it could scuttle the entire trade package.\", \"If the TAA measure survives, the House would vote on fast-track authority. As few as 20 Democrats might support it. That means at least 198 of the House's 246 Republicans would have to vote yes to pass the bill.\", '\"Republicans are going to do our part, but the president will have to deliver on TAA to get this done,\" said Kevin Smith, a spokesman for House Speaker John Boehner, R-Ohio.', \"Unions fiercely oppose Obama's agenda, saying free-trade agreements shift U.S. jobs overseas and help countries with poor environmental and workplace standards.\", \"Republican leaders are seeking more GOP votes by appealing to conservatives with language to limit trade agreements' impact on immigration, climate policy and other issues.\", 'Late Wednesday, Obama sent top aides to huddle with House Democratic leaders. They included White House Chief of Staff Denis McDonough and U.S. Trade Representative Michael Froman. Later, Boehner met with Minority Leader Nancy Pelosi, D-Calif.', 'If Obama obtains fast track authority, he hopes to advance the long-negotiated Trans-Pacific Partnership with 11 other nations, including Japan and Vietnam.', 'The AFL-CIO, a potent player in Democratic politics, urged lawmakers to reject the GOP-drafted plans for the jobs retraining program, saying the money is insufficient.', 'Rep. Gerry Connolly, D-Va., a supporter of the trade deal, said the dispute over the Medicare issue threatened to take the bill down even though most Democrats complaining were already leaning \"no.\"', '\"This contretemps over the TAA has stirred up all the silt and so I don\\'t know right now where we are,\" Connolly said.', 'If the unions prevail, it would mark a brutal setback for Obama, who says U.S. products must reach wider markets. But his chief allies on trade -- that is, the Republican leaders who oppose him on so many other issues -- said they still think they can eke out a win.', 'Rep. Mark Sanford, R-S.C., said he\\'s inclined to support fast track mainly for the trade benefits to his home state. However, he said, \"it\\'s a tough vote for any conservative,\" including himself, because so many constituents deeply mistrust Obama and don\\'t want him to receive any new authorities.', '\"The conservative base is ginned up about this,\" Sanford said, \"and that\\'s why it\\'s going down to the wire.\"', \"Fox News' Chad Pergram and the Associated Press contributed to this report.\\xa0\"], 'targetCaptions': [\"Obama, Chairman Paul Ryan and Republicans actuallyagree on something and want a bill that will fast-track president's ability to negotiate free-trade agreements passed\"]}\n",
            "{'id': '609738211183751168', 'postTimestamp': 'Sat Jun 13 15:04:52 +0000 2015', 'postText': ['Azeri government behind foreign media ban, say European Games officials'], 'postMedia': [], 'targetTitle': 'Azeri government behind foreign media ban, say European Games officials', 'targetDescription': 'Organisers of the European Games in Azerbaijan say that the country’s government made the decision to ban certain media from the event', 'targetKeywords': 'European Games 2015,Sport,Azerbaijan,World news', 'targetParagraphs': ['A decision to ban some foreign media from attending the inaugural European Games in Azerbaijan this month rested with the government and was not taken by the event’s organisers, officials said on Saturday.', 'Journalists, including the Guardian’s chief sports correspondent Owen Gibson, have been refused entry visas but organisers of the event in Baku said it was the government who was clearing individuals to enter the country based on their own set of criteria.', '“The Baku European Games organising committee issued accreditations to journalists, more than 1,500 in total,” said the Azeri sports minister, Azad Rahimov. “We just issue accreditations. The government approves or not approves.”', 'Apart from media, several representatives from international human rights groups including Amnesty International and Human Rights Watch have also been blocked from entering the country, ruled by the Aliyev family since 1993.', 'These organisations have accused the Azeri government of persistent human rights violations, including arresting dissidents, journalists and opposition groups’ members.', 'Rahimov said any restrictions to enter the country were also related to the disputed Nagorno-Karabakh region.', '“Unfortunately this rule [ban] is still going on and after Nagorno-Karabakh. If he [anyone] enters that region not from Azeri land then he can never enter our country,” the minister said.', 'Nagorno-Karabakh has run its own affairs with heavy military and financial backing from Armenia since the war. Armenian-backed forces hold seven Azeri districts surrounding Nagorno-Karabakh.', '“Two, three of them who sent the accreditations to us did not get them approved,” Rahimov said, refusing to speculate as to why they were banned.', '“There could be a lot of reasons and we are not asking for the reasons. That is why it is not a question with regard to the Baku games organising committee. I am just giving you the facts.”', 'The games chief Simon Clegg, who has repeatedly refused to discuss political issues in the run-up to the event, said organisers had talked to the government about the banned journalists.', '“BEGOC [the organising committee] has made representations about any member of the media who has been denied an accreditation to the proper authorities,” he said without elaborating.', 'The games, which kicked off on Friday, run to 28 June.'], 'targetCaptions': ['European Games']}\n",
            "{'id': '609762671554990080', 'postTimestamp': 'Sat Jun 13 16:42:04 +0000 2015', 'postText': ['Only one in three of us complain when we are unhappy with the NHS...'], 'postMedia': ['media/609762671554990080.jpg'], 'targetTitle': 'Only one in three unhappy NHS patients actually complain, says new survey', 'targetDescription': 'Only one in three people who are unhappy with their NHS care or with other publics services actually complain, according to a survey conducted by the ombudsman.', 'targetKeywords': ', Health News, Health & Families, Lifestyle', 'targetParagraphs': ['Research found that while 90 per cent believe that people who think they have had a poor service should complain, in practice, far fewer actually do', 'Only one in three people who are unhappy with their NHS care or with other publics services actually complain, according to a survey conducted by the ombudsman.', 'The research found that while 90 per cent believe that people who think they have had a poor service should complain, in practice, far fewer actually do.', 'Reasons for not complaining included fears that it would be more hassle than it was worth, not knowing who to turn to, and concerns that the complaint would not be taken seriously.', 'However, the most common reason not to complain was that people doubt it will make a difference.', 'The findings, from a survey of 4,623 people conducted by the Parliamentary and Health Service Ombudsman (PHSO), are echoed by a second report, from patient advocacy group Healthwatch England, which found that only 21 per cent of NHS patients who have a poor care experience write a letter of complaint.', 'Because the NHS only formally records and reports on the written complaints it receives, Healthwatch England said that the 174,872 complaints reported last year may be a significant underestimate.', 'If the figure truly represents only 21 per cent of the complaints that might be made, the actual number of incidents of poor care may be as high as 657,851 a year, the group said.', 'Reform of the complaints process for the NHS and other public services was outlined in last month’s Queen’s Speech. The Government plans to create a single Public Service Ombudsman covering all public services for England and all UK services which are not devolved.', 'Anna Bradley, chair of Healthwatch England, said that the group estimated 2,000 incidents of poor care were occurring every day across the country’s health and social care system.', '“On Monday we will be writing to [Health Secretary] Jeremy Hunt on behalf of the thousands of patients we have spoken to and the many hundreds of thousands whose concerns have fallen into a black hole, outlining how we can use the draft bill to fix the complaints system once and for all,” she said.'], 'targetCaptions': ['nhs.jpg']}\n",
            "{'id': '608980783924178945', 'postTimestamp': 'Thu Jun 11 12:55:07 +0000 2015', 'postText': ['An open letter to Jerry Seinfeld from a \"politically correct\" college student'], 'postMedia': [], 'targetTitle': \"An Open Letter to Jerry Seinfeld from a 'Politically Correct' College Student\", 'targetDescription': \"Dear Jerry Seinfeld,\\n\\nRecently, I've\", 'targetKeywords': 'Jerry Seinfeld,Amy Schumer,Louis CK,comedy,college,Political Correctness,college students,campus free speech', 'targetParagraphs': ['Dear Jerry Seinfeld,', 'Recently, I\\'ve heard about your reluctance to perform on college campuses because of how \"politically correct\" college students are. You also further made remarks that college students are quick to use the words \"racist,\" \"sexist,\" and \"prejudice\" with little reverence for what those words really mean (which you felt was proven by a remark made by your 14-year old daughter.)', \"As a college student that loves and appreciates offensive, provocative comedy, I'm disheartened by these comments.\", 'While I do agree with you that college students today are more sensitive to issues of race and gender politics, it\\'s simply because that\\'s our job as learners. As college students who are engaged in a myriad of social, economic, and political issues, it\\'s our duty to be actively engaged and educated about issues of sexism, racism and prejudice. While, respectfully, your daughter might not quite know what\\'s considered \"sexist\" yet, I can say with confidence that most college students can distinguish the boundaries of what\\'s considered appropriately sexist or not.', 'But, I\\'d like to refocus the conversation to the state of comedy that you feel like we would call \"racist\" or \"sexist.\"', 'We need to talk about the role that provocative comedy holds today in a progressive world.', \"It isn't so much that college students are too politically correct (whatever your definition of that concept is), it's that comedy in our progressive society today can no longer afford to be crass, or provocative for the sake of being offensive. Sexist humor and racist humor can no longer exist in comedy because these concepts are based on archaic ideals that have perpetrated injustice against minorities in the past.\", 'Provocative humor, such as ones dealing with topics of race and gender politics, can be crass and vulgar, but underlying it must be a context that spurs social dialogue about these respective issues. There needs to be a message, a central truth behind comedy for it to work as humor.', 'Take Amy Schumer for example.', \"A rising comic in her own right, Schumer has become a muse in being able to tackle difficult social commentaries of sexism and racism through her comedy. During the premier of the newest season of Schumer's comedy sketch show Inside Amy Schumer, Schumer and her writers managed to make a topic that most could never conceive of even making humorous: rape.\", 'The sketch, Football Town Lights, a parody of the football series, Friday Night Lights, told the story of a football coach who boldly decides to reform the local town\\'s losing football team by instilling a strict anti-rape rule for his football players. Throughout the sketch, the players and the town folk are simply flabbergasted at the very concept of not being able to rape. One of the players asks the coach, \"What if she thinks it\\'s rape, but I don\\'t?\" Another player asks, \"What if my mom is the district attorney and won\\'t prosecute me? Can I rape?\"', 'Underlying the joke of it all, of course, is the horrifying truth of rape culture existent in high school football, and an even more horrifying reality of the parents attempting to justify it. Earlier this year, we heard of a horrifying case of a gang rape committed by five Florida high school football players and realized the underlying culture of violence and male domination that inhabits high school football.', \"While it's not the sole role of comics to be social commentators on every issue through their comedy, I believe there is a responsibility, especially when a well-known comic is talking about sensitive topics like race and gender politics, to have an underlying message to be said.\", \"This doesn't mean that the funny aspect of the bit has to be compromised for the sake of social commentary. As countless comedians have proven before, it's very possible to have a message and be hilarious at the same time.\", 'This translates to stand-up comedy as well. Take it from your fellow male comics.', 'Stand-up comedian, Louis C.K\\'s bit about how much he loves being white can be, at first glance, construed as being \"racist\" in a traditional sense. He says in his set, \"I\\'m not saying that white people are better, I\\'m saying that being white is clearly better, who can argue!\"', 'Doesn\\'t that sound a little \"racist\" to you? But, view it within the context of what he says, Louis C.K. constructs another valuable dialogue about white male privilege, and the historic injustices that this system has created.', 'A bit that could have been potentially disastrous was made even more hilarious because of the underlying social context of what Louis was saying.', 'George Carlin, who was revered by many as being one of the comedy \"greats,\" frequently used crass, vulgar and potentially offensive humor in his acts. While by today\\'s standards, some of Carlin\\'s material can be considered sexist and offensive, many of his bits are still appreciated today because of his strong opinions and the underlying context of what he said. Sure, he was offensive when he tried to justify using racial slurs, but as he said a bit, \"it\\'s the context that counts. It\\'s the user. It\\'s the intention behind the words that make them good or bad.\"', 'Stand-up comedian Todd Glass argued passionately on comedy podcast Sklarbro County, that young comedians who shy away from offensive humor lack the courage to use the medium as a way to create social commentary and dialogue, as Carlin did. Glass called for comedians to be more offensive, but within the right context.', \"You can be crass, you can be vulgar, and it's not about worrying about offending people. Fuck offending people. Offend the right fucking people. Don't let this fake argument that makes you not want to grow [as a comedian] and say, 'Oh, you're always going offend somebody.' No one said you shouldn't! It's your fake argument! Offend the living fuck out of people! But make sure you're doing it to the right group. Because, I'm sure George Carlin, most of the time, was offending the right people.\", \"So, yes, Mr. Seinfeld, we college students are politically correct. We will call out sexism and racism if we hear it. But if you're going to come to my college and perform in front of me, be prepared to write up a set that doesn't just offend me, but has something to say.\", \"There's no reason you can't do what other comics are doing. You have an amazing legacy, both in stand-up and on television, because you do your job well.\", \"But, there's a generation in college right now that hasn't seen your comedy, and there's a demographic that yearns for laughter. College students today are looking to be provoked, to be offended by comedy, and to think about these issues within the context of comedy.\", 'So please, take the first step and come to a college campus with a set that will make us laugh.', \"Offend the fuck out of college students. Provoke the fuck out of me. We'll thank you for it later.\", 'Sincerely, College Student'], 'targetCaptions': []}\n",
            "{'id': '609998126737395712', 'postTimestamp': 'Sun Jun 14 08:17:41 +0000 2015', 'postText': ['Britain forced to withdraw spies after Russia and China access files stolen by Snowden'], 'postMedia': ['media/609998126737395712.jpg'], 'targetTitle': \"'Huge catastrophe' as government claims Britain is forced to withdraw spies after Russia and China access files stolen by US whistleblower Edward Snowden\", 'targetDescription': 'The news that Russia and China have gained access to secret information in files leaked by whistleblower Edward Snowden has been called a \"huge catastrophe\" by a former CIA field officer.', 'targetKeywords': ', Home News, UK, News', 'targetParagraphs': [\"UK security chiefs have warned that the former NSA contractor's actions have compromised anti-terror activity\", 'The news that Russia and China have gained access to secret information in files leaked by whistleblower Edward Snowden has been called a \"huge catastrophe\" by a former CIA field officer.', 'Speaking on BBC Radio 5 Live this morning, Robert Baer, an author and former CIA officer, said the apparent discovery of secret files that has led to British intelligence agents being withdrawn from operations is \"the worst espionage setback the west has suffered since forever.\"', 'Baer warned that foreign countries could have cracked US and UK encryption codes, which would mean that they could gain access to secret communications from the military and intelligence services.', 'Speaking about the impact that the reported withdrawal of intelligence agents might have on international relations, he said: \"Russia gets more hostile by the day, and if we\\'re closing stations and pulling people back, I can\\'t tell you where this is going to go... I can\\'t tell you how bad this is.\"', 'He also criticsed the NSA for allowing Snowden to leak the documents in the first place.', '\"[What Snowden did] was impossible when I worked for the government, it was absolutely impossible to compromise this much stuff. And I don\\'t think he knows himself how much damage he has done.\"', 'Chalking the leak up partly to \"the sheer incompetence of the NSA,\" he said \"I just can\\'t believe nobody\\'s been fired.\"', 'Baer worked for the CIA for 21 years, mostly assigned in the Middle East. Some say he was the best field officer in the region during the years he was active. Since he left the CIA, he has become an author and commentator, writing books based on his experiences and knowledge of working in the CIA.', 'Citing senior government officials, the Sunday Times reported today that secret information in the leaked files has finally been \"cracked\" by other countries, despite Snowden\\'s assurance that the most crucial data in his leaks could not be accessed by foreign powers.', 'In what was described by former GCHQ director Sir David Omand as a “huge strategic setback” for the West, it was reported that information that exposed intelligence-gathering techniques and identified individual spies has been revealed.', 'A Downing Street source told the Sunday Times: “It is the case that Russians and Chinese have information. It has meant agents have had to be moved and that knowledge of how we operate has stopped us getting vital information.”', 'However, despite a senior government official was quoted by the paper as saying that Snowden had \"blood on his hands\", Downing Street confirmed that there was “no evidence of anyone being harmed” as a result of his leaks.', \"The newspaper quoted a senior Home Office source as saying: “Putin didn't give him asylum for nothing. His documents were encrypted but they weren't completely secure and we have now seen our agents and assets being targeted.”\", 'A British intelligence source was quoted as saying: “We know Russia and China have access to Snowden\\'s material and will be going through it for years to come, searching for clues to identify potential targets.\"', '“Snowden has done incalculable damage. In some cases the agencies have been forced to intervene and lift their agents from operations to prevent them from being identified and killed.”', \"However, Glenn Greenwald, a journalist who Snowden first approached with the secret documents, criticised the legitimacy of the government's claims.\", 'Writing on Twitter, he said: \"If you\\'re someone who believes anonymously voiced self-serving government claims, you\\'re dumb. If you\\'re a journalist who prints it, you\\'re worse.\"', \"If you're someone who believes anonymously voiced self-serving govt claims, you're dumb. If you're a journalist who prints it, you're worse\", 'Greenwald has also published a lengthy post on The Intercept, in which he says the government\\'s claims that anything has been \"cracked\" by the Chinese of Russians is a lie. He also criticises the Sunday Times for reporting the story.', 'In 2013, Snowden leaked tens of thousands of documents to about NSA and GCHQ intelligence-gathering techniques.', \"He fled to Hong Kong where he met journalists to co-ordinate a series of articles that exposed mass surveillance programmes such as the NSA's Prism and GCHQ's Tempora, which involve “hoovering up” vast volumes of private communications.\", 'He the intended to fly to Ecuador to claim asylum, but his route involved stopping at Moscow Sheremetyevo airport. Once he landed, his passport was cancelled by the USA, leaving him stranded in Russia.', 'He has received asylum in Russia, and currently lives in Moscow. He remains wanted by the US government.'], 'targetCaptions': ['GCHQ-AFPGetty.jpg', 'GettyImages-74018446.jpg', '4-Edward-Snowden-AP.jpg', 'GettyImages-2428443.jpg']}\n",
            "{'id': '608926452596273152', 'postTimestamp': 'Thu Jun 11 09:19:14 +0000 2015', 'postText': ['Tourists detained in Malaysia for getting naked on sacred mountain:'], 'postMedia': ['media/608926452596273152.jpg'], 'targetTitle': 'Tourists detained in Malaysia for getting naked on sacred mountain', 'targetDescription': 'More tourists are in trouble for getting naked for a photo op in Malaysia. \\n', 'targetKeywords': 'travel, destinations, uncategorized, us-world, travel-leisure, tourists-behaving-badly', 'targetParagraphs': ['More tourists are in trouble for getting naked for a photo op.', 'Late last month, 10 tourists stripped down on Mount Kinabalu, a mountain on the island of Borneo, which is shared by the Malaysian state of Sabah. On June 5, a magnitude-5.9 earthquake struck near the mountain, and killed 18 people.', 'See also: Tourists keep getting naked at Angkor Wat in Cambodia', \"These two events may sound unrelated, but Sabah's indigenous Kadazan Dusun people aren't so sure. Their anger at the naked tourists is so severe that Ronny Cham, a lawyer for four tourists who have been detained, told The Guardian he would like his clients to be kept separate from other inmates.\", 'Disrespect to local religion aside, what the tourists did is a punishable offense by Malaysian authorities.', 'According to Cham, the government plans to charge the four with “causing annoyance by conducting obscene acts in a public place.\"', '\"We detained all four of them on Tuesday,\" Sabah police commissioner Jalaluddin Abdul Rahman said to media. \"And yes, we are still searching for the other six tourists, and we will catch them.\"', 'Legal proceedings against the four began Wednesday; they are being held until at least June 14.', 'Officials are unsure if the remaining tourists are still in Sabah, according to the police report that Kinabalu Park posted on its Facebook page. At first, they believed that all 10 tourists, who were among a group of 27 Europeans visiting the mountain, had left Malaysia.', 'Police Report\"Assalamualaikum Ydh Datuk, T/RO, T/SP, Tuan2 PT.Maklum satu kes menarik perhatian telah dibuka dibawah...', 'Posted by Kinabalu Park on Tuesday, June 2, 2015', 'Mount Kinabalu is a UNESCO World Heritage Site considered sacred among local people; the Kadazan Dusun believe the tourists angered the spirit of the mountain.', '“Because of the sentiment in this case, we want to protect [the four tourists\\'] safety,\" Cham said. \"People are laying blame on them for offending the mountain. There is a lot of stupidity involved, and unfortunately politicians have jumped on the bandwagon to condemn them for causing the earthquake, which is ridiculous.”', \"Sabah's Minister of Tourism Masidi Manjun, however, denied connecting the earthquake to the tourists.\", '“I never said that they actually caused the earthquake, but their actions were against the people of the largest tribe in Sabah,\" he said. \"The mountain is a revered and sacred site.\"', \"Legal proceedings have commenced in court against 4 alleged 'strippers on Mt Kinabalu' this morning. Remand application for 4 days granted.\", '— Masidi Manjun (@MasidiM) June 10, 2015', '10/6 Two Canadians, a Dutch national and a British have been remanded for four days for allegedly stripping on top of Mount Kinabablu/STAR', '— Masidi Manjun (@MasidiM) June 10, 2015', \"In response to this incident, Manjun instructed all local guides to report similar behavior by other tourists immediately. Getting naked at World Heritage Sites — whether it's Angkor Wat in Cambodia or Machu Picchu in Peru — has become a trend that local authorities find bewildering.\", '“Who would reasonably expect, even remotely, that there are people who would go naked on the mountain top with near freezing temperature?\" Manjun told The Rakyat Post', 'There are also plans to post signs on Mount Kinabalu, which will instruct tourists to keep their clothes on.'], 'targetCaptions': ['Four tourists have been detained after stripping naked on Mount Kinabalu on May 30, 2015.', '2016%2f06%2f30%2fc2%2f201504160cheadshot 20.c1ad5.1f6eb']}\n",
            "{'id': '609300383358418945', 'postTimestamp': 'Fri Jun 12 10:05:06 +0000 2015', 'postText': ['Dominique Strauss-Kahn awaits verdict in ‘aggravated pimping’ trial'], 'postMedia': [], 'targetTitle': 'Dominique Strauss-Kahn Acquitted of Aggravated Pimping', 'targetDescription': 'A French court acquitted Dominique Strauss-Kahn of charges he helped operate an alleged prostitution ring.', 'targetKeywords': 'aggravated pimping,dominique strauss-kahn,dsk,dsk acquitted,dsk trial,former imf chief,french court,imf,imf chief,lille,prostitution,strauss-kahn,International Monetary Fund,Dominique Strauss-Kahn,political,general news,society,community,crime,courts,social issues', 'targetParagraphs': ['PARIS—A French court Friday acquitted Dominique Strauss-Kahn of “aggravated pimping” charges, saying there was no proof the former International Monetary Fund president helped operate an illegal prostitution network.', 'In a ruling issued in the northern French city of Lille, a panel of French judges said there was conflicting testimony from...'], 'targetCaptions': ['Scotland’s Sturgeon to Seek Second Independence Vote', 'Saudi King’s Asia Expedition Enters Crucial Phase', 'NATO Chief Says Allies Still Fall Short of Fair Sharing of Defense Burden', 'Merkel, Trump Face Host of Troubling Differences', 'Dutch Leader Takes Populist Turn to Fend Off Far-Right', 'Latin, Asian Nations Pursue Free Trade Without U.S.', 'Populism Suffers Setback in Australian Vote', 'Coca Cultivation Soars in Colombia', 'BJP Victory Boosts India’s Modi', 'Giant Indonesian Muslim Group Joins the Fight Against Fake News', 'Malaysia Arrests 7, Including Immigration Officer, Alleging Islamic State Ties', '[https://m.wsj.net/video/20170312/031017vinny/031017vinny_167x94.jpg]', '[https://m.wsj.net/video/20170303/0307lotd_boca/0307lotd_boca_167x94.jpg]', '[https://m.wsj.net/video/20170313/031317dutchelex/031317dutchelex_167x94.jpg]', '[https://m.wsj.net/video/20170313/031317lina/031317lina_167x94.jpg]', '[https://m.wsj.net/video/20170313/031317scotref/031317scotref_167x94.jpg]', 'You’re Not Busy, You’re Just Rude', 'Credit Reports to Exclude Certain Negative Data, Boosting FICO Scores', 'CIA Contractors Questioned About WikiLeaks Dump', 'Your Pension Check May Soon Be Coming From an Insurance Company', 'Intel Makes Big Bet on Self-Driving Tech in Mobileye Deal', '[https://m.wsj.net/video/20170312/031017vinny/031017vinny_167x94.jpg]', '[https://m.wsj.net/video/20170303/0307lotd_boca/0307lotd_boca_167x94.jpg]', '[https://m.wsj.net/video/20170313/031317dutchelex/031317dutchelex_167x94.jpg]', '[https://m.wsj.net/video/20170313/031317lina/031317lina_167x94.jpg]', '[https://m.wsj.net/video/20170313/031317scotref/031317scotref_167x94.jpg]', 'You’re Not Busy, You’re Just Rude', 'Credit Reports to Exclude Certain Negative Data, Boosting FICO Scores', 'CIA Contractors Questioned About WikiLeaks Dump', 'Your Pension Check May Soon Be Coming From an Insurance Company', 'Intel Makes Big Bet on Self-Driving Tech in Mobileye Deal']}\n",
            "{'id': '608875876474851328', 'postTimestamp': 'Thu Jun 11 05:58:15 +0000 2015', 'postText': ['RT @PhilipRucker: Jeb\\'s super PAC unlikely to hit $100 million goal, a \"psychological blow\" to Bush World, via @mateagold @thamburger http:'], 'postMedia': [], 'targetTitle': 'Super PAC backing Jeb Bush unlikely to hit $100 million by end of June', 'targetDescription': 'A failure to reach the widely expected total would be seen as a psychological blow to his operation.', 'targetKeywords': 'Jeb Bush, super PAC', 'targetParagraphs': ['A super PAC backing former Florida governor Jeb Bush is likely to fall short of collecting $100\\xa0million by the end of this month, despite widespread expectations that the group would hit that record-breaking sum, according to people close to the operation.', 'The exact size of the war chest is closely held, but two individuals familiar with internal discussions believe the total that the Right to Rise super PAC will report in mid-July could be substantially lower than the nine figures that senior Republicans have anticipated.', 'That would be a major psychological blow for Bush’s operation, whose fundraising prowess has raised expectations about how much cash it has been amassing. Bush’s schedule for the past five months has been dominated by high-priced fundraisers for the super PAC, helping the group stockpile tens of millions.', 'Bush, once considered the GOP’s most formidable presidential contender, has revamped his campaign organization amid middling poll numbers and strong competition from other candidates. He is spending this week in Europe, bolstering his foreign policy bonafides, before officially announcing his campaign in Miami on Monday.', 'While his aides never publicly declared that the super PAC would hit $100 million, they did little to tamp down such predictions — and in some cases privately fueled them, according to top GOP fundraisers.', 'Mike Murphy, the strategist overseeing the super PAC, declined to comment, except to say: “At the right time, we will release very formidable numbers.”', 'It is possible that Bush will approach the $100 million figure if his campaign includes the entire sprawling political apparatus that he and his allies have built since January. By the end of the month, that operation will include a super PAC, a leadership PAC, a nonprofit and the soon-to-be announced campaign.', 'The super PAC may also have substantial pledges from wealthy donors who plan to expand on their initial contributions after this quarter, which ends June 30. In its early months of fundraising, the group was so awash in cash that it temporarily capped donations at $1 million.', 'The fundraising haul that the super PAC will report on July 15 is still bound to be historic. Bush told donors in April that the operation had raised more money in its first 100 days than any other Republican organization in modern history.', 'But any figure short of $100\\xa0million will probably be seen as a sign of weakness by senior party strategists and donors, many of whom now expect the group to greatly exceed that total.', '“I will be shocked if it is not $100 million or more,” said one veteran bundler raising money for Bush, who spoke on the condition of anonymity to discuss private conversations about the fundraising.', 'The built-up expectations underscore the dramatically inflated atmosphere of this year’s money race.', 'When Bush’s brother George W. Bush launched his first presidential bid in 1999, he stunned the field by raising a record $37\\xa0million in four months. But that was before the advent of super PACs, which can accept unlimited sums from individuals and corporations.', 'The early, prominent role being played by those independent groups this year gives candidates with just a few wealthy backers the ability to compete. A network of super PACs supporting Sen. Ted Cruz (Tex.) claims to have raised $37 million so far, while super PACs backing Sen. Marco Rubio (Fla.) and Wisconsin Gov. Scott Walker are believed to be bringing in millions.', 'But it has been Bush, more than any other White House contender, who has put a heavy emphasis on raising big money before announcing his candidacy. His team laid out presidential-style goals for fundraisers, asking them to hit targets of $50,000, $100,000, $250,000 or $500,000 by April 17. Tickets to some high-priced events were $100,000 a person.', 'That fueled perceptions that the super PAC will post an eye-popping figure in its first report. Bush aides have done little to push back against such speculation, and there has been no evidence of a last-minute scramble to pack in late fundraisers for the group.', 'Instead, in recent days Bush’s team has turned its focus to raising money for his presidential campaign committee, which can accept donations only up to $2,700. The new goal for fundraisers: to bring in $27,000 during the last 15 days of the month.'], 'targetCaptions': ['Former Florida governor and expected Republican presidential candidate Jeb Bush attended an economic conference in Berlin on Tuesday. (Axel Schmidt/Getty Images)']}\n",
            "{'id': '610173844561788928', 'postTimestamp': 'Sun Jun 14 19:55:55 +0000 2015', 'postText': ['John Rohatinsky backs drug allegations made against Alberto Salazar'], 'postMedia': [], 'targetTitle': 'John Rohatinsky backs drug allegations made against Alberto Salazar', 'targetDescription': 'John Rohatinsky, one of Alberto Salazar’s former athletes, has fully backed the drug allegations made against the American coach', 'targetKeywords': 'Alberto Salazar,Mo Farah,Drugs in sport,Athletics,Sport', 'targetParagraphs': ['The pressure on Mo Farah’s coach Alberto Salazar continued to intensify when another of his former athletes said he backed the “full extent” of the allegations against the American coach.', 'John Rohatinsky, who ran at the Nike Oregon Project between July 2007 and July 2009, did not make any fresh revelations but used a detailed Facebook post to say he believed the testimonies of other former members of Salazar’s training group and that he thought Galen Rupp’s improvement from 2006 to 2012 was “highly suspicious”.', '“I absolutely believe the full extent of the evidence brought forth in the report/documentary by all the witnesses – the Gouchers, John Stiner, and Steve Magness,” he wrote. “I know the Gouchers personally and thank them for their work on this. I also was with the team and John Stiner at the altitude camp he spoke about in Park City, and believe his report as well.”', 'In the BBC Panorama documentary Kara Goucher alleged Salazar had coached Rupp to get a therapeutic use exemption for an intravenous drip before the 2011 World Championships. Under Wada rules, such drips are prohibited and anyone caught manipulating the TUE process to get one would be liable for a ban. She also claimed Salazar tried to get her to take prescription thyroid medicine to lose weight after the birth of her son.', 'Stiner was the masseur who alleged he saw a bottle of Androgel, a testosterone gel, in Salazar’s training camp in Park City in 2008. And it was Magness who made the most serious allegation of all, telling Panorama he had documented evidence that Salazar had given the banned steroid testosterone to Rupp when he was 16.', '“I have never met Steve but from all accounts believe him to be an honest individual. I firmly believe that any and all performance-enhancing drugs activity within the NOP while I was there was limited to Galen Rupp,” Rohatinsky said.', 'Among the charges against Salazar are that he gave the banned steroid testosterone to Rupp when he was 16, coached Rupp to get a TUE so he could use an intravenous drip before the 2011 World Championships and flouted several other doping rules. Salazar and Rupp deny all charges and there is no suggestion that Farah has done anything wrong.', 'According to the American news website ProPublica, at least 17 people who have worked with Salazar have now spoken out against him. Rohatinsky, the latest person to come forward, said he had become particularly suspicious seeing Rupp win a 10,000m silver medal at the London 2012 Olympics behind Farah.', '“Watching that race live was surreal,” he said. “Seeing someone I had trained with consistently for two years not too long before – and beaten several times in races in the years prior to that in college – push through that last lap and accelerate on the homestretch to beat the likes of the Bekele brothers was incredible. And when I say incredible I mean it in the literal sense of the word. How does that amount of progress happen in that short a time frame? Supporters always point to hard work but we all worked our butts off. It reminds me of the Lance Armstrong commercial, What Am I On?', '“The entire time I was with the group there was always what I would call a wall of separation between Alberto/Galen and the rest of the group. Galen was very much Alberto’s son while the rest of the group were his athletes. In saying this I will give credit to Alberto, he worked his butt off for all of us and was very dedicated to taking care of the needs of everyone in the group. But that wall was always there and the level of secrecy and seclusion was definitely palpable.”', 'Meanwhile tThe chair of UK Athletics Ed Warner has told the BBC’s Sportsweek that his organisation had spoken to Farah “very frequently” over the past week and had no fears that he would return to top form later in the summer. “All things considered I think he’s in a good frame of mind in difficult circumstances,” he said. “He is going to get out there and show the great athlete he is in the summer, I am convinced of that.”', 'But Lord Coe, who is running for the presidency of the IAAF, global athletics’ governing body, agreed it had “not been a good period” for the sport. He also admitted he would “probably not” sever ties with Salazar if he was in Farah’s shoes.', '“If Mo is satisfied that there’s nothing to answer then he will want to keep what has been an extremely good coaching and training relationship,” he said. “I’m sure he will be weighing all that up but dependent upon the answer Mo gives. We have to be very sure that the testimony that has been given stands scrutiny.”'], 'targetCaptions': ['Alberto Salazar']}\n",
            "{'id': '609095030926635011', 'postTimestamp': 'Thu Jun 11 20:29:06 +0000 2015', 'postText': [\"RT @b_fung: Just in: A federal court won't keep the FCC's net neutrality rules from taking effect, like ISPs asked\"], 'postMedia': [], 'targetTitle': 'A federal court just refused to block the FCC’s net neutrality rules from taking effect', 'targetDescription': 'The agency has won an early victory against Internet providers looking to have the rules oveturned.', 'targetKeywords': 'FCC, net neutrality', 'targetParagraphs': [\"A federal court has decided not to block the government's new net neutrality rules from going into effect, handing Internet providers, such as Verizon and Comcast, another defeat in an ongoing legal fight with the Federal Communications Commission.\", 'The decision clears the way for the FCC to enforce its ban on the slowing and blocking of Web\\xa0traffic,\\xa0even as\\xa0it seeks to fend off\\xa0a legal attack\\xa0against\\xa0the regulations. Despite the setback, industry officials and their allies vowed Thursday to forge ahead with\\xa0an\\xa0attempt to overturn the rules in court.', '\"I plan to fight the Order all the way to the Supreme Court,\" said Daniel Berninger, founder of the Voice Communication Exchange.', 'AT&T and a number of industry trade groups sued the FCC in April, arguing that the agency overstepped its authority when it decided to treat Internet providers the same way\\xa0it treats\\xa0telecom\\xa0companies.', \"The industry\\xa0also asked the court to put a temporary hold on parts of the FCC's rules until the lawsuit works itself out. Analysts predicted that the chances of a stay were slim. But an early victory for Internet providers, they said, might push Congress to draw up legislation on net neutrality that would replace the FCC's regulations\\xa0— an idea strongly backed by industry.\", \"Efforts to craft a\\xa0net neutrality bill have largely stalled because of the unresolved litigation. Congress could still restrain the FCC's rules with an amendment to a must-pass budget bill, but such a provision would need to be approved by both chambers and President Obama, a supporter of the FCC's regulations.\", '\"This is a huge victory for Internet consumers and innovators!\" said FCC Chairman Tom Wheeler in a statement. \"Starting Friday, there will be a referee on the field to keep the Internet fast, fair and open.\"', 'In its decision, the U.S. Court of Appeals for the D.C. Circuit ruled that the net neutrality lawsuit should be heard in an expedited fashion, which could lead to oral arguments by as early as December, according to industry lawyers.'], 'targetCaptions': ['FCC Chairman Tom Wheeler\\xa0( AP Photo/Jose Luis Magana, File)']}\n",
            "{'id': '608576531456249856', 'postTimestamp': 'Wed Jun 10 10:08:46 +0000 2015', 'postText': [\"Chinese women are growing their armpit hair like they just don't care\"], 'postMedia': ['media/608576531456249856.jpg'], 'targetTitle': \"Armpit hair, don't care! Chinese women flood social media with hairy underarm selfies to prove they don't need to be hairless to be beautiful\", 'targetDescription': \"Chinese women are taking to social media to show off their hairy armpits for a photo competition supporting women's rights. The photos have sparked a global conversation on social media sites.\", 'targetKeywords': 'Armpit,hair,don,t,care,Chinese,women,flood,social,media,hairy,underarm,selfies,prove,beautiful', 'targetParagraphs': ['Female celebrities have made headlines with their hairy armpits of late, and now the trend is back in the spotlight, with a Chinese underarm hair competition gaining traction on social media.', 'Local social media site Weibo has been flooded with pictures for the second year running of women proudly raising their arms and showing off their armpit hair to the world.', 'The latest competition kicked off in May, with founder Xiao Yue saying that women do not need to be hairless to feel beautiful.', 'Scroll down for video\\xa0', \"'Women's armpit hair is considered to be offensive, rude and ungraceful – how come it makes people so uncomfortable?' the 26-year-old told the Shanghaiist.\\xa0\", \"'Women's armpit hair can be adorable, interesting, humorous, sexy, serious, connotative and ever-changing,' she said.\", \"Prizes will be given out for the most 'characteristic and beautiful and confident' displays of online underarm hair.\", \"Their posts are for more than a prize however, most of them posting online to support women's rights through the unconventional competition.\\xa0\\xa0\\xa0\", \"To Ms Xiao it's not about a radical move, but a chance to start a conversation.\", \"'We are not trying to force people to not shave, but we are against the social norm that armpit hair is unacceptable and disgusting,' the young activist told the Global Times.\", 'The competition kicked off on May 26 and will run until June 26.\\xa0', '\\xa0Celebrities Miley Cyrus and Jemima Kirke have both proudly shown off their underarm hair recently, moves that also sparked controversy on social media.\\xa0', 'Both celebrities were photographed at the 2015 CFDA fashion awards proudly flashing their armpits.', 'A similar trend swept through the US last year, with women dyeing their armpit hair and posting it on social media.'], 'targetCaptions': [\"Armpit Hair Don't Care: Chinese women are taking to social media sharing armpit hair selfies for photo competition\", \"Armpit Hair Don't Care: Chinese women are taking to social media sharing armpit hair selfies for photo competition\", \"'Women's armpit hair can be adorable...': The photos have sparked an online conversation about attitudes towards female armpit hair\", \"'Women's armpit hair can be adorable...': The photos have sparked an online conversation about attitudes towards female armpit hair\", \"'Women's armpit hair can be adorable...': The photos have sparked an online conversation about attitudes towards female armpit hair\", \"'Women's armpit hair can be adorable...': The photos have sparked an online conversation about attitudes towards female armpit hair\", \"\\xa0Confidence: Prizes will be awarded to the most 'characteristic and beautiful and confident' displays\", \"\\xa0Confidence: Prizes will be awarded to the most 'characteristic and beautiful and confident' displays\", \"Women's Rights: Most entries are from females who believe they can feel beautiful with or without armpit hair\", \"Women's Rights: Most entries are from females who believe they can feel beautiful with or without armpit hair\", 'Pride: Most of the entries show women with their arms raised, smiling proudly\\xa0', 'Pride: Most of the entries show women with their arms raised, smiling proudly\\xa0', 'Carefree: The entries show the women either in public or at home (pictured) without a care in the world\\xa0', 'Carefree: The entries show the women either in public or at home (pictured) without a care in the world\\xa0', 'Celebrity support: Girls star Jemima Kirke (pictured) was also photographed with hairy armpits at the CFDA awards\\xa0', 'Celebrity support: Girls star Jemima Kirke (pictured) was also photographed with hairy armpits at the CFDA awards\\xa0', 'Armpit Hair in the Spotlight: Singer Miley Cyrus (pictured) flashed her hairy underarms to cameras at the CFDA fashion awards\\xa0', 'Armpit Hair in the Spotlight: Singer Miley Cyrus (pictured) flashed her hairy underarms to cameras at the CFDA fashion awards\\xa0', 'Boohoo', 'Debenhams discount codes', 'Boots discount code', 'House of Fraser discount code', 'Littlewoods discount code']}\n"
          ],
          "name": "stdout"
        }
      ]
    },
    {
      "metadata": {
        "id": "Tr2K_u7msot8",
        "colab_type": "code",
        "colab": {
          "base_uri": "https://localhost:8080/",
          "height": 357
        },
        "outputId": "83292772-e64e-43a9-c9db-d666652d347e"
      },
      "cell_type": "code",
      "source": [
        "for i in datatruth[:20]: print (i)"
      ],
      "execution_count": 10,
      "outputs": [
        {
          "output_type": "stream",
          "text": [
            "{'id': '608310377143799810', 'truthJudgments': [0.0, 0.6666667, 0.0, 0.33333334, 0.0], 'truthMean': 0.2, 'truthMedian': 0.0, 'truthMode': 0.0, 'truthClass': 'no-clickbait'}\n",
            "{'id': '609297109095972864', 'truthJudgments': [0.6666667, 0.0, 0.0, 0.0, 0.0], 'truthMean': 0.13333334, 'truthMedian': 0.0, 'truthMode': 0.0, 'truthClass': 'no-clickbait'}\n",
            "{'id': '609504474621612032', 'truthJudgments': [0.33333334, 0.6666667, 1.0, 0.0, 0.6666667], 'truthMean': 0.53333336, 'truthMedian': 0.6666667, 'truthMode': 0.6666667, 'truthClass': 'clickbait'}\n",
            "{'id': '609748367049105409', 'truthJudgments': [1.0, 0.0, 0.33333334, 0.33333334, 0.6666667], 'truthMean': 0.46666667, 'truthMedian': 0.33333334, 'truthMode': 0.33333334, 'truthClass': 'no-clickbait'}\n",
            "{'id': '608688782821453825', 'truthJudgments': [1.0, 0.33333334, 0.6666667, 0.33333334, 1.0], 'truthMean': 0.6666667, 'truthMedian': 0.6666667, 'truthMode': 1.0, 'truthClass': 'clickbait'}\n",
            "{'id': '609551038983475201', 'truthJudgments': [0.33333334, 0.6666667, 1.0, 0.6666667, 1.0], 'truthMean': 0.73333335, 'truthMedian': 0.6666667, 'truthMode': 1.0, 'truthClass': 'clickbait'}\n",
            "{'id': '609447408955719681', 'truthJudgments': [0.0, 0.0, 0.0, 0.0, 0.0], 'truthMean': 0.0, 'truthMedian': 0.0, 'truthMode': 0.0, 'truthClass': 'no-clickbait'}\n",
            "{'id': '609027430624288769', 'truthJudgments': [0.33333334, 0.0, 0.33333334, 0.33333334, 0.0], 'truthMean': 0.2, 'truthMedian': 0.33333334, 'truthMode': 0.33333334, 'truthClass': 'no-clickbait'}\n",
            "{'id': '608229011572068352', 'truthJudgments': [1.0, 0.33333334, 0.33333334, 1.0, 0.33333334], 'truthMean': 0.6, 'truthMedian': 0.33333334, 'truthMode': 0.33333334, 'truthClass': 'no-clickbait'}\n",
            "{'id': '609046214554755073', 'truthJudgments': [0.33333334, 0.0, 0.33333334, 0.0, 0.0], 'truthMean': 0.13333334, 'truthMedian': 0.0, 'truthMode': 0.0, 'truthClass': 'no-clickbait'}\n",
            "{'id': '609738211183751168', 'truthJudgments': [0.33333334, 0.33333334, 0.0, 0.0, 0.0], 'truthMean': 0.13333334, 'truthMedian': 0.0, 'truthMode': 0.0, 'truthClass': 'no-clickbait'}\n",
            "{'id': '609762671554990080', 'truthJudgments': [0.0, 1.0, 0.33333334, 0.6666667, 0.33333334], 'truthMean': 0.46666667, 'truthMedian': 0.33333334, 'truthMode': 0.33333334, 'truthClass': 'no-clickbait'}\n",
            "{'id': '608980783924178945', 'truthJudgments': [0.33333334, 0.0, 0.33333334, 0.33333334, 1.0], 'truthMean': 0.4, 'truthMedian': 0.33333334, 'truthMode': 0.33333334, 'truthClass': 'no-clickbait'}\n",
            "{'id': '609998126737395712', 'truthJudgments': [0.0, 0.6666667, 0.33333334, 0.0, 0.33333334], 'truthMean': 0.26666668, 'truthMedian': 0.33333334, 'truthMode': 0.0, 'truthClass': 'no-clickbait'}\n",
            "{'id': '608926452596273152', 'truthJudgments': [1.0, 0.6666667, 1.0, 0.0, 1.0], 'truthMean': 0.73333335, 'truthMedian': 1.0, 'truthMode': 1.0, 'truthClass': 'clickbait'}\n",
            "{'id': '609300383358418945', 'truthJudgments': [0.0, 0.0, 0.0, 0.0, 0.0], 'truthMean': 0.0, 'truthMedian': 0.0, 'truthMode': 0.0, 'truthClass': 'no-clickbait'}\n",
            "{'id': '608875876474851328', 'truthJudgments': [0.0, 0.0, 0.0, 0.0, 0.0], 'truthMean': 0.0, 'truthMedian': 0.0, 'truthMode': 0.0, 'truthClass': 'no-clickbait'}\n",
            "{'id': '610173844561788928', 'truthJudgments': [0.0, 0.0, 0.0, 0.6666667, 0.0], 'truthMean': 0.13333334, 'truthMedian': 0.0, 'truthMode': 0.0, 'truthClass': 'no-clickbait'}\n",
            "{'id': '609095030926635011', 'truthJudgments': [0.33333334, 0.6666667, 0.0, 0.33333334, 0.33333334], 'truthMean': 0.33333334, 'truthMedian': 0.33333334, 'truthMode': 0.33333334, 'truthClass': 'no-clickbait'}\n",
            "{'id': '608576531456249856', 'truthJudgments': [0.6666667, 0.0, 0.0, 0.33333334, 0.0], 'truthMean': 0.2, 'truthMedian': 0.0, 'truthMode': 0.0, 'truthClass': 'no-clickbait'}\n"
          ],
          "name": "stdout"
        }
      ]
    },
    {
      "metadata": {
        "id": "NMvttRrH8Blu",
        "colab_type": "code",
        "colab": {}
      },
      "cell_type": "code",
      "source": [
        "clickbaitdata = list(zip(data,datatruth))\n",
        "#print (clickbaitdata[:100])"
      ],
      "execution_count": 0,
      "outputs": []
    },
    {
      "metadata": {
        "id": "GX9b4Xg2skuQ",
        "colab_type": "code",
        "colab": {}
      },
      "cell_type": "code",
      "source": [
        "# print truth in this manner for easy access\n",
        "\n",
        "truthNeat = []\n",
        "for instance in datatruth:\n",
        "  idn = instance[\"id\"]\n",
        "  truth = instance[\"truthClass\"]\n",
        "  instant={}\n",
        "  instant[idn]=truth\n",
        "  truthNeat.append(instant)\n",
        "  \n",
        "#print (truthNeat)"
      ],
      "execution_count": 0,
      "outputs": []
    },
    {
      "metadata": {
        "id": "WXthVQ9EyAFv",
        "colab_type": "text"
      },
      "cell_type": "markdown",
      "source": [
        "Analysis 1: get the average number of target keywords , see how many tags are tagged to the article, see if theres a significant difference in tags\n"
      ]
    },
    {
      "metadata": {
        "id": "Wcp_F-gfydes",
        "colab_type": "code",
        "colab": {
          "base_uri": "https://localhost:8080/",
          "height": 119
        },
        "outputId": "e1876cb0-995a-4dc0-8660-d5cc9eae5417"
      },
      "cell_type": "code",
      "source": [
        "countForClickbait = 0\n",
        "countForNoClickbait = 0\n",
        "counterC = 0\n",
        "counterNC = 0\n",
        "for instance in clickbaitdata:\n",
        "  answer = instance[1][\"truthClass\"]\n",
        "  if answer == \"no-clickbait\":\n",
        "    counterNC +=1\n",
        "    Targetkeywords =  instance[0][\"targetKeywords\"]\n",
        "    number = len(Targetkeywords.split(',')) # number of tags\n",
        "    countForNoClickbait+=number\n",
        "  elif answer == \"clickbait\":\n",
        "    counterC +=1\n",
        "    Targetkeywords =  instance[0][\"targetKeywords\"]\n",
        "    number = len(Targetkeywords.split(',')) # number of tags    \n",
        "    countForClickbait+=number\n",
        "\n",
        "print(\"count for Clickbait \" + str(countForClickbait))\n",
        "print(\"count for no Clickbait \"  + str(countForNoClickbait))\n",
        "print(\"number of clickbaits \" + str(counterC))\n",
        "print(\"number of non clickbaits \" + str(counterNC))\n",
        "\n",
        "\n",
        "averageKeywordsClickbait = countForClickbait/counterC\n",
        "averageKeywordsNoClickbait = countForNoClickbait/counterNC\n",
        "\n",
        "print(\"clickbait average for keywords: \" + str(averageKeywordsClickbait))\n",
        "print(\"Non clickbait average for keywordss: \" + str(averageKeywordsNoClickbait))\n",
        "\n",
        "# conclusion: keywords not significant, should i do hypo testing at 95% confidence interval to prove"
      ],
      "execution_count": 13,
      "outputs": [
        {
          "output_type": "stream",
          "text": [
            "count for Clickbait 4393\n",
            "count for no Clickbait 9382\n",
            "number of clickbaits 762\n",
            "number of non clickbaits 1697\n",
            "clickbait average for keywords: 5.7650918635170605\n",
            "Non clickbait average for keywordss: 5.528579846788451\n"
          ],
          "name": "stdout"
        }
      ]
    },
    {
      "metadata": {
        "id": "jH0inlsEIrMB",
        "colab_type": "text"
      },
      "cell_type": "markdown",
      "source": [
        "Analysis 2: count the number of words there are in the post text, which is i think article header , hypothesis is that non clckbait has shorter headers\n",
        "\n",
        "\n",
        "\n",
        "what package do i use to make graphs and stuff?\n"
      ]
    },
    {
      "metadata": {
        "id": "Yi5pOrKqyp8C",
        "colab_type": "code",
        "colab": {
          "base_uri": "https://localhost:8080/",
          "height": 51
        },
        "outputId": "7d3a4d44-d04f-47e2-f94f-67fbfd614856"
      },
      "cell_type": "code",
      "source": [
        "#count for number of clickbaits is 762\n",
        "#count for number of non clickbaits is 1697\n",
        "\n",
        "wordsForClickbait = 0\n",
        "wordsForNoClickbait = 0\n",
        "for instance in clickbaitdata:\n",
        "  answer = instance[1][\"truthClass\"]\n",
        "  if answer ==\"no-clickbait\":\n",
        "    postText = instance[0][\"postText\"]\n",
        "    for i in postText: # i is the number of strings in posttext, which is basically one sentence, the text post\n",
        "      wordsForClickbait += len(i)\n",
        "  if answer == \"clickbait\":\n",
        "    postText = instance[0]['postText']\n",
        "    for i in postText:\n",
        "      wordsForNoClickbait += len(i)\n",
        "      \n",
        "      \n",
        "      \n",
        "averageTextPostsForClickbait = wordsForClickbait / counterC\n",
        "averageTextPostsForNoClickbait = wordsForNoClickbait / counterNC\n",
        "\n",
        "print(\"average number of words in textpost for clickbait: \" + str(averageTextPostsForClickbait))\n",
        "print(\"average number of words in textpost for No clickbait: \" + str(averageTextPostsForNoClickbait))\n",
        "\n",
        "# conclusion is that there is a significantly larger number of words for clickbait than non clickbait when it comes to number of words in textpost, which i assume is the caption"
      ],
      "execution_count": 14,
      "outputs": [
        {
          "output_type": "stream",
          "text": [
            "average number of words in textpost for clickbait: 182.04330708661416\n",
            "average number of words in textpost for No clickbait: 32.25162050677667\n"
          ],
          "name": "stdout"
        }
      ]
    },
    {
      "metadata": {
        "id": "pO_zMvKfSXRG",
        "colab_type": "text"
      },
      "cell_type": "markdown",
      "source": [
        "Analysis 3: count if the number of sentences in target paragraphs, which i assume is the body of the paragraph, is significantly different in clickbaits than non clickbaits"
      ]
    },
    {
      "metadata": {
        "id": "r9y7EConJ2Ls",
        "colab_type": "code",
        "colab": {
          "base_uri": "https://localhost:8080/",
          "height": 85
        },
        "outputId": "3237cee7-1f60-494d-831f-7f61f8018f1a"
      },
      "cell_type": "code",
      "source": [
        "numberOfSentencesClickbait = 0\n",
        "numberOfSentencesNoClickbait = 0\n",
        "\n",
        "for instance in clickbaitdata:\n",
        "  answer = instance[1][\"truthClass\"]\n",
        "  if answer == \"no-clickbait\":\n",
        "    targetParagraph = instance[0][\"targetParagraphs\"]\n",
        "    for i in targetParagraph:\n",
        "      numberOfSentencesNoClickbait += 1\n",
        "  if answer == \"clickbait\":\n",
        "    targetParagraph = instance[0][\"targetParagraphs\"]\n",
        "    for i in targetParagraph:\n",
        "      numberOfSentencesClickbait += 1\n",
        "      \n",
        "print (numberOfSentencesClickbait)\n",
        "print (numberOfSentencesNoClickbait)\n",
        "\n",
        "averageNumberOfSentencesClickbait = numberOfSentencesClickbait / counterC\n",
        "averageNumberOfSentencesNoClickbait = numberOfSentencesNoClickbait / counterNC\n",
        "\n",
        "print(\"average number of sentences in Clickbait: \" + str(averageNumberOfSentencesClickbait))\n",
        "print(\"average number of sentences in No Clickbait: \" + str(averageNumberOfSentencesNoClickbait))\n",
        "\n",
        "\n",
        "#conclusion: no significant difference in the number of sentences in the content"
      ],
      "execution_count": 15,
      "outputs": [
        {
          "output_type": "stream",
          "text": [
            "13466\n",
            "30632\n",
            "average number of sentences in Clickbait: 17.671916010498688\n",
            "average number of sentences in No Clickbait: 18.050677666470243\n"
          ],
          "name": "stdout"
        }
      ]
    },
    {
      "metadata": {
        "id": "IGlI5iqnL85H",
        "colab_type": "code",
        "colab": {}
      },
      "cell_type": "code",
      "source": [
        "#list of things we can analyse.....\n",
        "\n",
        "for instance in clickbaitdata:\n",
        "  for i in instance[0]:\n",
        "    continue\n",
        "    #print (i)"
      ],
      "execution_count": 0,
      "outputs": []
    },
    {
      "metadata": {
        "id": "7-n-fRLDb5J4",
        "colab_type": "text"
      },
      "cell_type": "markdown",
      "source": [
        "Analysis 4: now check if clickbaits always have an image in the media? or the other way round?\n"
      ]
    },
    {
      "metadata": {
        "id": "tV_BclaBbwft",
        "colab_type": "code",
        "colab": {
          "base_uri": "https://localhost:8080/",
          "height": 51
        },
        "outputId": "40e1fff4-b8e3-44dd-cd29-9ba57a7d05b4"
      },
      "cell_type": "code",
      "source": [
        "numberOfPhotosClickbait = 0\n",
        "numberOfPhotosNoClickbait = 0\n",
        "\n",
        "for instance in clickbaitdata:\n",
        "  answer = instance[1][\"truthClass\"]\n",
        "  if answer == \"no-clickbait\":\n",
        "    photomedia = instance[0][\"postMedia\"]\n",
        "    if photomedia != []:\n",
        "      numberOfPhotosNoClickbait += 1\n",
        "  elif answer == \"clickbait\":\n",
        "    photomedia = instance[0][\"postMedia\"]\n",
        "    if photomedia !=[]:\n",
        "      numberOfPhotosClickbait += 1\n",
        "      \n",
        "percentageClickbait = numberOfPhotosClickbait / counterC *100\n",
        "percentageNoClickbait = numberOfPhotosNoClickbait / counterNC *100\n",
        "\n",
        "print (\"percentage of articles with media for clickbait: \" +str(percentageClickbait)  + \"%\")\n",
        "print (\"percentage of articles with media for no clickbait: \" +str(percentageNoClickbait)  + \"%\")"
      ],
      "execution_count": 17,
      "outputs": [
        {
          "output_type": "stream",
          "text": [
            "percentage of articles with media for clickbait: 63.123359580052494%\n",
            "percentage of articles with media for no clickbait: 67.29522687094874%\n"
          ],
          "name": "stdout"
        }
      ]
    },
    {
      "metadata": {
        "id": "9BGkMqVf0pfv",
        "colab_type": "text"
      },
      "cell_type": "markdown",
      "source": [
        "Analysis 5: checking punctuations for things like ellipses and questions marks etc"
      ]
    },
    {
      "metadata": {
        "id": "P89kvDNct1fc",
        "colab_type": "code",
        "colab": {
          "base_uri": "https://localhost:8080/",
          "height": 51
        },
        "outputId": "8131ecbb-53b7-4f10-e651-adff36406fe2"
      },
      "cell_type": "code",
      "source": [
        "def punctuation(string):\n",
        "  these = [\"?!\",\"!?\",\"?\",\"!\"]\n",
        "  for i in string:\n",
        "    if i in these:\n",
        "      return True\n",
        "  if \"...\" in string:\n",
        "    return True\n",
        "  return False\n",
        "\n",
        "\n",
        "punctuationClickbait = 0\n",
        "punctuationNoClickbait = 0\n",
        "\n",
        "for instance in clickbaitdata:\n",
        "  answer = instance[1][\"truthClass\"]\n",
        "  if answer == \"clickbait\":\n",
        "    header = instance[0][\"postText\"]\n",
        "    for sentence in header:\n",
        "      if punctuation(sentence) ==True:\n",
        "        punctuationClickbait +=1\n",
        "  if answer == \"no-clickbait\":\n",
        "    header = instance[0][\"postText\"]\n",
        "    for sentence in header:                                                                                                                                                                                                                                                                                                                                                                                                                                                                                                                                                                                                                                                                                                   \n",
        "      if punctuation(sentence) == True:\n",
        "        punctuationNoClickbait+=1\n",
        "        \n",
        "        \n",
        "        \n",
        "percentageOfPunctuationsClickbait = punctuationClickbait/ counterC *100\n",
        "percentageOfPunctuationsNoClickbait = punctuationNoClickbait/ counterNC *100\n",
        "\n",
        "\n",
        "print (\"percentage of punctuations for Clickbait: \"+ str(percentageOfPunctuationsClickbait) + \"%\")\n",
        "print (\"percentage of punctuations for No Clickbait: \"+ str(percentageOfPunctuationsNoClickbait) + \"%\")"
      ],
      "execution_count": 18,
      "outputs": [
        {
          "output_type": "stream",
          "text": [
            "percentage of punctuations for Clickbait: 17.191601049868765%\n",
            "percentage of punctuations for No Clickbait: 6.658809664113141%\n"
          ],
          "name": "stdout"
        }
      ]
    },
    {
      "metadata": {
        "id": "1DDNXOM8yudc",
        "colab_type": "code",
        "colab": {}
      },
      "cell_type": "code",
      "source": [
        ""
      ],
      "execution_count": 0,
      "outputs": []
    },
    {
      "metadata": {
        "id": "SKKpbckA0125",
        "colab_type": "text"
      },
      "cell_type": "markdown",
      "source": [
        "check for contractions? check for pronouns?"
      ]
    },
    {
      "metadata": {
        "id": "bZWDz4u904on",
        "colab_type": "code",
        "colab": {
          "base_uri": "https://localhost:8080/",
          "height": 85
        },
        "outputId": "d1905fba-c2cc-4e2c-d969-d0613ba1bc15"
      },
      "cell_type": "code",
      "source": [
        "numbers = ['one','two','three','four','five','six','sven','eight','nine','ten','eleven','twelve']\n",
        "countForCB = 0\n",
        "countForNCB = 0\n",
        "for instance in clickbaitdata:\n",
        "  answer = instance[1][\"truthClass\"]\n",
        "  if answer==\"clickbait\":\n",
        "    postText = instance[0]['postText']\n",
        "    sentence = postText[0]\n",
        "    listt = sentence.split()\n",
        "    for i in listt:\n",
        "      if i.isnumeric() == True or i in numbers:\n",
        "        countForCB+=1\n",
        "        break\n",
        "      else:\n",
        "        continue\n",
        "  if answer==\"no-clickbait\":\n",
        "    postText = instance[0]['postText']\n",
        "    sentence = postText[0]\n",
        "    listt = sentence.split()\n",
        "    for i in listt:\n",
        "      if i.isnumeric() == True or i in numbers:\n",
        "        countForNCB+=1\n",
        "        break\n",
        "      else:\n",
        "        continue\n",
        "print(countForCB)\n",
        "print(countForNCB)\n",
        "averageforCB=countForCB/counterC\n",
        "averageforNCB=countForNCB/counterNC\n",
        "print(\"percentage of Clickbaits that contain cardinal numbers: \" + str(averageforCB * 100) + \"%\")\n",
        "print(\"percentage of Non-clickbaits that contain cardinal numbers: \" + str(averageforNCB * 100) + \"%\")"
      ],
      "execution_count": 36,
      "outputs": [
        {
          "output_type": "stream",
          "text": [
            "160\n",
            "271\n",
            "percentage of Clickbaits that contain cardinal numbers: 20.99737532808399%\n",
            "percentage of Non-clickbaits that contain cardinal numbers: 15.96935769004125%\n"
          ],
          "name": "stdout"
        }
      ]
    },
    {
      "metadata": {
        "id": "PO5_7YUBEj-b",
        "colab_type": "code",
        "colab": {}
      },
      "cell_type": "code",
      "source": [
        "\n",
        "        "
      ],
      "execution_count": 0,
      "outputs": []
    }
  ]
}